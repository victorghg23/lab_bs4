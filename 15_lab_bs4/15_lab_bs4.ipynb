{
 "cells": [
  {
   "cell_type": "markdown",
   "metadata": {},
   "source": [
    "# Web Scraping Lab\n",
    "\n",
    "You will find in this notebook some scrapy exercises to practise your scraping skills.\n",
    "\n",
    "**Tips:**\n",
    "\n",
    "- Check the response status code for each request to ensure you have obtained the intended contennt.\n",
    "- Print the response text in each request to understand the kind of info you are getting and its format.\n",
    "- Check for patterns in the response text to extract the data/info requested in each question.\n",
    "- Visit each url and take a look at its source through Chrome DevTools. You'll need to identify the html tags, special class names etc. used for the html content you are expected to extract."
   ]
  },
  {
   "cell_type": "markdown",
   "metadata": {},
   "source": [
    "- [Requests library](http://docs.python-requests.org/en/master/#the-user-guide) documentation \n",
    "- [Beautiful Soup Doc](https://www.crummy.com/software/BeautifulSoup/bs4/doc/)\n",
    "- [Urllib](https://docs.python.org/3/library/urllib.html#module-urllib)\n",
    "- [re lib](https://docs.python.org/3/library/re.html)\n",
    "- [lxml lib](https://lxml.de/)\n",
    "- [Scrapy](https://scrapy.org/)\n",
    "- [List of HTTP status codes](https://en.wikipedia.org/wiki/List_of_HTTP_status_codes)\n",
    "- [HTML basics](http://www.simplehtmlguide.com/cheatsheet.php)\n",
    "- [CSS basics](https://www.cssbasics.com/#page_start)"
   ]
  },
  {
   "cell_type": "markdown",
   "metadata": {},
   "source": [
    "#### Below are the libraries and modules you may need. `requests`,  `BeautifulSoup` and `pandas` are imported for you. If you prefer to use additional libraries feel free to uncomment them."
   ]
  },
  {
   "cell_type": "code",
   "execution_count": 1,
   "metadata": {},
   "outputs": [],
   "source": [
    "#ESTO ES LO QUE HAY QUE INSTALAR PARA PODER LLEVAR A CABO WEB SCRAPING\n",
    "\n",
    "#pip install beautifulsoup4          # NECESARIO PARA BS4\n",
    "#pip install selenium                # NECESARIO PARA WEBSCRAPPING\n",
    "#pip install webdriver-manager       # NECESARIO PARA WEBSCRAPPING"
   ]
  },
  {
   "cell_type": "code",
   "execution_count": 2,
   "metadata": {},
   "outputs": [],
   "source": [
    "from selenium import webdriver\n",
    "from selenium.webdriver.common.by import By\n",
    "from webdriver_manager.chrome import ChromeDriverManager\n",
    "import requests as req\n",
    "import time"
   ]
  },
  {
   "cell_type": "code",
   "execution_count": 3,
   "metadata": {},
   "outputs": [
    {
     "data": {
      "text/plain": [
       "'\\nEsto no hace falta en la nueva versión de Python\\n'"
      ]
     },
     "execution_count": 3,
     "metadata": {},
     "output_type": "execute_result"
    }
   ],
   "source": [
    "'''\n",
    "Esto no hace falta en la nueva versión de Python\n",
    "'''\n",
    "\n",
    "#PATH = 'driver/chromedriver'"
   ]
  },
  {
   "cell_type": "code",
   "execution_count": 4,
   "metadata": {},
   "outputs": [],
   "source": [
    "'''\n",
    "Sin necesidad de ejecutar PATH, podemos abrir el Chrome Driver\n",
    "'''\n",
    "\n",
    "driver = webdriver.Chrome()"
   ]
  },
  {
   "cell_type": "markdown",
   "metadata": {},
   "source": [
    "#### Download, parse (using BeautifulSoup), and print the content from the Trending Developers page from GitHub:"
   ]
  },
  {
   "cell_type": "code",
   "execution_count": 5,
   "metadata": {},
   "outputs": [],
   "source": [
    "# This is the url you will scrape in this exercise\n",
    "url = 'https://github.com/trending/developers'"
   ]
  },
  {
   "cell_type": "code",
   "execution_count": 6,
   "metadata": {},
   "outputs": [],
   "source": [
    "driver.get(url)"
   ]
  },
  {
   "cell_type": "markdown",
   "metadata": {},
   "source": [
    "#### Display the names of the trending developers retrieved in the previous step.\n",
    "\n",
    "Your output should be a Python list of developer names. Each name should not contain any html tag.\n",
    "\n",
    "**Instructions:**\n",
    "\n",
    "1. Find out the html tag and class names used for the developer names. You can achieve this using Chrome DevTools.\n",
    "\n",
    "1. Use BeautifulSoup to extract all the html elements that contain the developer names.\n",
    "\n",
    "1. Use string manipulation techniques to replace whitespaces and linebreaks (i.e. `\\n`) in the *text* of each html element. Use a list to store the clean names.\n",
    "\n",
    "1. Print the list of names.\n",
    "\n",
    "Your output should look like below:\n",
    "\n",
    "```\n",
    "['trimstray (@trimstray)',\n",
    " 'joewalnes (JoeWalnes)',\n",
    " 'charlax (Charles-AxelDein)',\n",
    " 'ForrestKnight (ForrestKnight)',\n",
    " 'revery-ui (revery-ui)',\n",
    " 'alibaba (Alibaba)',\n",
    " 'Microsoft (Microsoft)',\n",
    " 'github (GitHub)',\n",
    " 'facebook (Facebook)',\n",
    " 'boazsegev (Bo)',\n",
    " 'google (Google)',\n",
    " 'cloudfetch',\n",
    " 'sindresorhus (SindreSorhus)',\n",
    " 'tensorflow',\n",
    " 'apache (TheApacheSoftwareFoundation)',\n",
    " 'DevonCrawford (DevonCrawford)',\n",
    " 'ARMmbed (ArmMbed)',\n",
    " 'vuejs (vuejs)',\n",
    " 'fastai (fast.ai)',\n",
    " 'QiShaoXuan (Qi)',\n",
    " 'joelparkerhenderson (JoelParkerHenderson)',\n",
    " 'torvalds (LinusTorvalds)',\n",
    " 'CyC2018',\n",
    " 'komeiji-satori (神楽坂覚々)',\n",
    " 'script-8']\n",
    " ```"
   ]
  },
  {
   "cell_type": "code",
   "execution_count": 7,
   "metadata": {},
   "outputs": [
    {
     "data": {
      "text/plain": [
       "[<selenium.webdriver.remote.webelement.WebElement (session=\"2f9aa57b5d1170687145b9c5ae6c2548\", element=\"f.D32591034E7012EA4E6E57205D60598E.d.46EF595AD47ECD030BF5CC4231020573.e.16\")>,\n",
       " <selenium.webdriver.remote.webelement.WebElement (session=\"2f9aa57b5d1170687145b9c5ae6c2548\", element=\"f.D32591034E7012EA4E6E57205D60598E.d.46EF595AD47ECD030BF5CC4231020573.e.17\")>,\n",
       " <selenium.webdriver.remote.webelement.WebElement (session=\"2f9aa57b5d1170687145b9c5ae6c2548\", element=\"f.D32591034E7012EA4E6E57205D60598E.d.46EF595AD47ECD030BF5CC4231020573.e.18\")>,\n",
       " <selenium.webdriver.remote.webelement.WebElement (session=\"2f9aa57b5d1170687145b9c5ae6c2548\", element=\"f.D32591034E7012EA4E6E57205D60598E.d.46EF595AD47ECD030BF5CC4231020573.e.19\")>,\n",
       " <selenium.webdriver.remote.webelement.WebElement (session=\"2f9aa57b5d1170687145b9c5ae6c2548\", element=\"f.D32591034E7012EA4E6E57205D60598E.d.46EF595AD47ECD030BF5CC4231020573.e.20\")>,\n",
       " <selenium.webdriver.remote.webelement.WebElement (session=\"2f9aa57b5d1170687145b9c5ae6c2548\", element=\"f.D32591034E7012EA4E6E57205D60598E.d.46EF595AD47ECD030BF5CC4231020573.e.21\")>,\n",
       " <selenium.webdriver.remote.webelement.WebElement (session=\"2f9aa57b5d1170687145b9c5ae6c2548\", element=\"f.D32591034E7012EA4E6E57205D60598E.d.46EF595AD47ECD030BF5CC4231020573.e.22\")>,\n",
       " <selenium.webdriver.remote.webelement.WebElement (session=\"2f9aa57b5d1170687145b9c5ae6c2548\", element=\"f.D32591034E7012EA4E6E57205D60598E.d.46EF595AD47ECD030BF5CC4231020573.e.23\")>,\n",
       " <selenium.webdriver.remote.webelement.WebElement (session=\"2f9aa57b5d1170687145b9c5ae6c2548\", element=\"f.D32591034E7012EA4E6E57205D60598E.d.46EF595AD47ECD030BF5CC4231020573.e.24\")>,\n",
       " <selenium.webdriver.remote.webelement.WebElement (session=\"2f9aa57b5d1170687145b9c5ae6c2548\", element=\"f.D32591034E7012EA4E6E57205D60598E.d.46EF595AD47ECD030BF5CC4231020573.e.25\")>,\n",
       " <selenium.webdriver.remote.webelement.WebElement (session=\"2f9aa57b5d1170687145b9c5ae6c2548\", element=\"f.D32591034E7012EA4E6E57205D60598E.d.46EF595AD47ECD030BF5CC4231020573.e.26\")>,\n",
       " <selenium.webdriver.remote.webelement.WebElement (session=\"2f9aa57b5d1170687145b9c5ae6c2548\", element=\"f.D32591034E7012EA4E6E57205D60598E.d.46EF595AD47ECD030BF5CC4231020573.e.27\")>,\n",
       " <selenium.webdriver.remote.webelement.WebElement (session=\"2f9aa57b5d1170687145b9c5ae6c2548\", element=\"f.D32591034E7012EA4E6E57205D60598E.d.46EF595AD47ECD030BF5CC4231020573.e.28\")>,\n",
       " <selenium.webdriver.remote.webelement.WebElement (session=\"2f9aa57b5d1170687145b9c5ae6c2548\", element=\"f.D32591034E7012EA4E6E57205D60598E.d.46EF595AD47ECD030BF5CC4231020573.e.29\")>,\n",
       " <selenium.webdriver.remote.webelement.WebElement (session=\"2f9aa57b5d1170687145b9c5ae6c2548\", element=\"f.D32591034E7012EA4E6E57205D60598E.d.46EF595AD47ECD030BF5CC4231020573.e.30\")>,\n",
       " <selenium.webdriver.remote.webelement.WebElement (session=\"2f9aa57b5d1170687145b9c5ae6c2548\", element=\"f.D32591034E7012EA4E6E57205D60598E.d.46EF595AD47ECD030BF5CC4231020573.e.31\")>,\n",
       " <selenium.webdriver.remote.webelement.WebElement (session=\"2f9aa57b5d1170687145b9c5ae6c2548\", element=\"f.D32591034E7012EA4E6E57205D60598E.d.46EF595AD47ECD030BF5CC4231020573.e.32\")>,\n",
       " <selenium.webdriver.remote.webelement.WebElement (session=\"2f9aa57b5d1170687145b9c5ae6c2548\", element=\"f.D32591034E7012EA4E6E57205D60598E.d.46EF595AD47ECD030BF5CC4231020573.e.33\")>,\n",
       " <selenium.webdriver.remote.webelement.WebElement (session=\"2f9aa57b5d1170687145b9c5ae6c2548\", element=\"f.D32591034E7012EA4E6E57205D60598E.d.46EF595AD47ECD030BF5CC4231020573.e.34\")>,\n",
       " <selenium.webdriver.remote.webelement.WebElement (session=\"2f9aa57b5d1170687145b9c5ae6c2548\", element=\"f.D32591034E7012EA4E6E57205D60598E.d.46EF595AD47ECD030BF5CC4231020573.e.35\")>,\n",
       " <selenium.webdriver.remote.webelement.WebElement (session=\"2f9aa57b5d1170687145b9c5ae6c2548\", element=\"f.D32591034E7012EA4E6E57205D60598E.d.46EF595AD47ECD030BF5CC4231020573.e.36\")>,\n",
       " <selenium.webdriver.remote.webelement.WebElement (session=\"2f9aa57b5d1170687145b9c5ae6c2548\", element=\"f.D32591034E7012EA4E6E57205D60598E.d.46EF595AD47ECD030BF5CC4231020573.e.37\")>,\n",
       " <selenium.webdriver.remote.webelement.WebElement (session=\"2f9aa57b5d1170687145b9c5ae6c2548\", element=\"f.D32591034E7012EA4E6E57205D60598E.d.46EF595AD47ECD030BF5CC4231020573.e.38\")>,\n",
       " <selenium.webdriver.remote.webelement.WebElement (session=\"2f9aa57b5d1170687145b9c5ae6c2548\", element=\"f.D32591034E7012EA4E6E57205D60598E.d.46EF595AD47ECD030BF5CC4231020573.e.39\")>,\n",
       " <selenium.webdriver.remote.webelement.WebElement (session=\"2f9aa57b5d1170687145b9c5ae6c2548\", element=\"f.D32591034E7012EA4E6E57205D60598E.d.46EF595AD47ECD030BF5CC4231020573.e.40\")>,\n",
       " <selenium.webdriver.remote.webelement.WebElement (session=\"2f9aa57b5d1170687145b9c5ae6c2548\", element=\"f.D32591034E7012EA4E6E57205D60598E.d.46EF595AD47ECD030BF5CC4231020573.e.41\")>,\n",
       " <selenium.webdriver.remote.webelement.WebElement (session=\"2f9aa57b5d1170687145b9c5ae6c2548\", element=\"f.D32591034E7012EA4E6E57205D60598E.d.46EF595AD47ECD030BF5CC4231020573.e.42\")>,\n",
       " <selenium.webdriver.remote.webelement.WebElement (session=\"2f9aa57b5d1170687145b9c5ae6c2548\", element=\"f.D32591034E7012EA4E6E57205D60598E.d.46EF595AD47ECD030BF5CC4231020573.e.43\")>,\n",
       " <selenium.webdriver.remote.webelement.WebElement (session=\"2f9aa57b5d1170687145b9c5ae6c2548\", element=\"f.D32591034E7012EA4E6E57205D60598E.d.46EF595AD47ECD030BF5CC4231020573.e.44\")>,\n",
       " <selenium.webdriver.remote.webelement.WebElement (session=\"2f9aa57b5d1170687145b9c5ae6c2548\", element=\"f.D32591034E7012EA4E6E57205D60598E.d.46EF595AD47ECD030BF5CC4231020573.e.45\")>,\n",
       " <selenium.webdriver.remote.webelement.WebElement (session=\"2f9aa57b5d1170687145b9c5ae6c2548\", element=\"f.D32591034E7012EA4E6E57205D60598E.d.46EF595AD47ECD030BF5CC4231020573.e.46\")>,\n",
       " <selenium.webdriver.remote.webelement.WebElement (session=\"2f9aa57b5d1170687145b9c5ae6c2548\", element=\"f.D32591034E7012EA4E6E57205D60598E.d.46EF595AD47ECD030BF5CC4231020573.e.47\")>,\n",
       " <selenium.webdriver.remote.webelement.WebElement (session=\"2f9aa57b5d1170687145b9c5ae6c2548\", element=\"f.D32591034E7012EA4E6E57205D60598E.d.46EF595AD47ECD030BF5CC4231020573.e.48\")>,\n",
       " <selenium.webdriver.remote.webelement.WebElement (session=\"2f9aa57b5d1170687145b9c5ae6c2548\", element=\"f.D32591034E7012EA4E6E57205D60598E.d.46EF595AD47ECD030BF5CC4231020573.e.49\")>,\n",
       " <selenium.webdriver.remote.webelement.WebElement (session=\"2f9aa57b5d1170687145b9c5ae6c2548\", element=\"f.D32591034E7012EA4E6E57205D60598E.d.46EF595AD47ECD030BF5CC4231020573.e.50\")>,\n",
       " <selenium.webdriver.remote.webelement.WebElement (session=\"2f9aa57b5d1170687145b9c5ae6c2548\", element=\"f.D32591034E7012EA4E6E57205D60598E.d.46EF595AD47ECD030BF5CC4231020573.e.51\")>,\n",
       " <selenium.webdriver.remote.webelement.WebElement (session=\"2f9aa57b5d1170687145b9c5ae6c2548\", element=\"f.D32591034E7012EA4E6E57205D60598E.d.46EF595AD47ECD030BF5CC4231020573.e.52\")>,\n",
       " <selenium.webdriver.remote.webelement.WebElement (session=\"2f9aa57b5d1170687145b9c5ae6c2548\", element=\"f.D32591034E7012EA4E6E57205D60598E.d.46EF595AD47ECD030BF5CC4231020573.e.53\")>,\n",
       " <selenium.webdriver.remote.webelement.WebElement (session=\"2f9aa57b5d1170687145b9c5ae6c2548\", element=\"f.D32591034E7012EA4E6E57205D60598E.d.46EF595AD47ECD030BF5CC4231020573.e.54\")>,\n",
       " <selenium.webdriver.remote.webelement.WebElement (session=\"2f9aa57b5d1170687145b9c5ae6c2548\", element=\"f.D32591034E7012EA4E6E57205D60598E.d.46EF595AD47ECD030BF5CC4231020573.e.55\")>,\n",
       " <selenium.webdriver.remote.webelement.WebElement (session=\"2f9aa57b5d1170687145b9c5ae6c2548\", element=\"f.D32591034E7012EA4E6E57205D60598E.d.46EF595AD47ECD030BF5CC4231020573.e.56\")>,\n",
       " <selenium.webdriver.remote.webelement.WebElement (session=\"2f9aa57b5d1170687145b9c5ae6c2548\", element=\"f.D32591034E7012EA4E6E57205D60598E.d.46EF595AD47ECD030BF5CC4231020573.e.57\")>,\n",
       " <selenium.webdriver.remote.webelement.WebElement (session=\"2f9aa57b5d1170687145b9c5ae6c2548\", element=\"f.D32591034E7012EA4E6E57205D60598E.d.46EF595AD47ECD030BF5CC4231020573.e.58\")>,\n",
       " <selenium.webdriver.remote.webelement.WebElement (session=\"2f9aa57b5d1170687145b9c5ae6c2548\", element=\"f.D32591034E7012EA4E6E57205D60598E.d.46EF595AD47ECD030BF5CC4231020573.e.59\")>,\n",
       " <selenium.webdriver.remote.webelement.WebElement (session=\"2f9aa57b5d1170687145b9c5ae6c2548\", element=\"f.D32591034E7012EA4E6E57205D60598E.d.46EF595AD47ECD030BF5CC4231020573.e.60\")>,\n",
       " <selenium.webdriver.remote.webelement.WebElement (session=\"2f9aa57b5d1170687145b9c5ae6c2548\", element=\"f.D32591034E7012EA4E6E57205D60598E.d.46EF595AD47ECD030BF5CC4231020573.e.61\")>,\n",
       " <selenium.webdriver.remote.webelement.WebElement (session=\"2f9aa57b5d1170687145b9c5ae6c2548\", element=\"f.D32591034E7012EA4E6E57205D60598E.d.46EF595AD47ECD030BF5CC4231020573.e.62\")>,\n",
       " <selenium.webdriver.remote.webelement.WebElement (session=\"2f9aa57b5d1170687145b9c5ae6c2548\", element=\"f.D32591034E7012EA4E6E57205D60598E.d.46EF595AD47ECD030BF5CC4231020573.e.63\")>,\n",
       " <selenium.webdriver.remote.webelement.WebElement (session=\"2f9aa57b5d1170687145b9c5ae6c2548\", element=\"f.D32591034E7012EA4E6E57205D60598E.d.46EF595AD47ECD030BF5CC4231020573.e.64\")>,\n",
       " <selenium.webdriver.remote.webelement.WebElement (session=\"2f9aa57b5d1170687145b9c5ae6c2548\", element=\"f.D32591034E7012EA4E6E57205D60598E.d.46EF595AD47ECD030BF5CC4231020573.e.65\")>]"
      ]
     },
     "execution_count": 7,
     "metadata": {},
     "output_type": "execute_result"
    }
   ],
   "source": [
    "tarjetas = driver.find_elements(By.CSS_SELECTOR, 'div.col-md-6')\n",
    "tarjetas"
   ]
  },
  {
   "cell_type": "code",
   "execution_count": 8,
   "metadata": {},
   "outputs": [
    {
     "data": {
      "text/plain": [
       "50"
      ]
     },
     "execution_count": 8,
     "metadata": {},
     "output_type": "execute_result"
    }
   ],
   "source": [
    "'''\n",
    "Nos aparecen 50 tarjetas en total, pero nosotros solo queremos las tarjetas que aparecen \n",
    "a la izquierda, es decir... Queremos las número 0, 2, 4, 6, etc.\n",
    "'''\n",
    "\n",
    "len(tarjetas)"
   ]
  },
  {
   "cell_type": "code",
   "execution_count": 9,
   "metadata": {},
   "outputs": [
    {
     "name": "stdout",
     "output_type": "stream",
     "text": [
      "25\n"
     ]
    }
   ],
   "source": [
    "'''\n",
    "Para comprobar lo que digo en el anterior código, le voy a pedir que me cuente todas las\n",
    "tarjetas de 2 en 2, y nos debería de devolver 25\n",
    "'''\n",
    "\n",
    "len(tarjetas[::2]) # El órden que le pedimos debe quedar dentro del 'len'\n",
    "print(len(tarjetas[::2]))\n",
    "\n",
    "'''\n",
    "Nombramos nuevamente a las tarjetas con los datos que nos interesan\n",
    "'''\n",
    "\n",
    "tarjetas = tarjetas[::2]"
   ]
  },
  {
   "cell_type": "code",
   "execution_count": 10,
   "metadata": {},
   "outputs": [
    {
     "name": "stdout",
     "output_type": "stream",
     "text": [
      "Pete\n",
      "\n",
      "epwalsh\n"
     ]
    }
   ],
   "source": [
    "'''\n",
    "Extraemos el primer dato a modo de ejemplo usando \"element\" en lugar de \"elements\"\n",
    "'''\n",
    "\n",
    "usuario_0 = tarjetas[0].find_element(By.TAG_NAME, 'h1').text\n",
    "print(usuario_0)\n",
    "print()\n",
    "nickname_0 = tarjetas[0].find_element(By.TAG_NAME, 'p').text\n",
    "print(nickname_0)"
   ]
  },
  {
   "cell_type": "code",
   "execution_count": 11,
   "metadata": {},
   "outputs": [],
   "source": [
    "'''\n",
    "- Para el elemento t en tarjetas, encuentra el nombre \"h1\" e intenta encontrar el usuario \"p\".\n",
    "- Si no lo encuentras pon el usuario vacío.\n",
    "- Creame un diccionario donde aparezcan los nombres y los usuarios\n",
    "- Añadir dictio a la lista res\n",
    "'''\n",
    "\n",
    "res = []\n",
    "\n",
    "for t in tarjetas:\n",
    "    nombre = t.find_element(By.TAG_NAME,'h1').text\n",
    "    \n",
    "    try:\n",
    "        usuario = t.find_element(By.TAG_NAME, 'p').text\n",
    "    except:\n",
    "        usuario = ''\n",
    "    \n",
    "    dictio = {'nombre': nombre, 'usuario': usuario}\n",
    "    \n",
    "    res.append(dictio)"
   ]
  },
  {
   "cell_type": "code",
   "execution_count": 12,
   "metadata": {},
   "outputs": [
    {
     "data": {
      "text/plain": [
       "[{'nombre': 'Pete', 'usuario': 'epwalsh'},\n",
       " {'nombre': 'Charles Packer', 'usuario': 'cpacker'},\n",
       " {'nombre': 'Vectorized', 'usuario': 'Vectorized'},\n",
       " {'nombre': 'Oliver', 'usuario': 'SchrodingersGat'},\n",
       " {'nombre': 'Dessalines', 'usuario': 'dessalines'},\n",
       " {'nombre': 'lllyasviel', 'usuario': ''},\n",
       " {'nombre': 'weiyang', 'usuario': 'wy-z'},\n",
       " {'nombre': 'SoftFever', 'usuario': 'SoftFever'},\n",
       " {'nombre': 'Chakshu Gautam', 'usuario': 'ChakshuGautam'},\n",
       " {'nombre': 'Lee Robinson', 'usuario': 'leerob'},\n",
       " {'nombre': '三咲雅 · Misaki Masa', 'usuario': 'sxyazi'},\n",
       " {'nombre': 'Laurent Mazare', 'usuario': 'LaurentMazare'},\n",
       " {'nombre': 'Stephen Celis', 'usuario': 'stephencelis'},\n",
       " {'nombre': 'Deshraj Yadav', 'usuario': 'deshraj'},\n",
       " {'nombre': 'James Newton-King', 'usuario': 'JamesNK'},\n",
       " {'nombre': 'George Hotz', 'usuario': 'geohot'},\n",
       " {'nombre': 'J. Nick Koston', 'usuario': 'bdraco'},\n",
       " {'nombre': 'Jorge O. Castro', 'usuario': 'castrojo'},\n",
       " {'nombre': 'DaniPopes', 'usuario': ''},\n",
       " {'nombre': 'Sebastian Raschka', 'usuario': 'rasbt'},\n",
       " {'nombre': 'Robbert van der Helm', 'usuario': 'robbert-vdh'},\n",
       " {'nombre': 'Azure SDK Bot', 'usuario': 'azure-sdk'},\n",
       " {'nombre': 'Abi Raja', 'usuario': 'abi'},\n",
       " {'nombre': 'Denis Rouzaud', 'usuario': '3nids'},\n",
       " {'nombre': 'Brandon Keepers', 'usuario': 'bkeepers'}]"
      ]
     },
     "execution_count": 12,
     "metadata": {},
     "output_type": "execute_result"
    }
   ],
   "source": [
    "res"
   ]
  },
  {
   "cell_type": "code",
   "execution_count": 13,
   "metadata": {},
   "outputs": [
    {
     "data": {
      "text/plain": [
       "25"
      ]
     },
     "execution_count": 13,
     "metadata": {},
     "output_type": "execute_result"
    }
   ],
   "source": [
    "len(res)"
   ]
  },
  {
   "cell_type": "code",
   "execution_count": 14,
   "metadata": {},
   "outputs": [],
   "source": [
    "driver.close()"
   ]
  },
  {
   "cell_type": "markdown",
   "metadata": {},
   "source": [
    "#### Display the trending Python repositories in GitHub\n",
    "\n",
    "The steps to solve this problem is similar to the previous one except that you need to find out the repository names instead of developer names."
   ]
  },
  {
   "cell_type": "code",
   "execution_count": 15,
   "metadata": {},
   "outputs": [],
   "source": [
    "# This is the url you will scrape in this exercise\n",
    "url = 'https://github.com/trending/python?since=daily'"
   ]
  },
  {
   "cell_type": "code",
   "execution_count": 16,
   "metadata": {},
   "outputs": [],
   "source": [
    "driver = webdriver.Chrome()"
   ]
  },
  {
   "cell_type": "code",
   "execution_count": 17,
   "metadata": {},
   "outputs": [],
   "source": [
    "driver.get(url)"
   ]
  },
  {
   "cell_type": "code",
   "execution_count": 18,
   "metadata": {},
   "outputs": [
    {
     "data": {
      "text/plain": [
       "[<selenium.webdriver.remote.webelement.WebElement (session=\"8835be40f7435e91226f3f2b83aebdcb\", element=\"f.545CBAAF25D945B9897DD7C91BF45EC0.d.5F1FECAAA0BD1863D9DDAD4B0CA3A1DC.e.18\")>,\n",
       " <selenium.webdriver.remote.webelement.WebElement (session=\"8835be40f7435e91226f3f2b83aebdcb\", element=\"f.545CBAAF25D945B9897DD7C91BF45EC0.d.5F1FECAAA0BD1863D9DDAD4B0CA3A1DC.e.19\")>,\n",
       " <selenium.webdriver.remote.webelement.WebElement (session=\"8835be40f7435e91226f3f2b83aebdcb\", element=\"f.545CBAAF25D945B9897DD7C91BF45EC0.d.5F1FECAAA0BD1863D9DDAD4B0CA3A1DC.e.20\")>,\n",
       " <selenium.webdriver.remote.webelement.WebElement (session=\"8835be40f7435e91226f3f2b83aebdcb\", element=\"f.545CBAAF25D945B9897DD7C91BF45EC0.d.5F1FECAAA0BD1863D9DDAD4B0CA3A1DC.e.21\")>,\n",
       " <selenium.webdriver.remote.webelement.WebElement (session=\"8835be40f7435e91226f3f2b83aebdcb\", element=\"f.545CBAAF25D945B9897DD7C91BF45EC0.d.5F1FECAAA0BD1863D9DDAD4B0CA3A1DC.e.22\")>,\n",
       " <selenium.webdriver.remote.webelement.WebElement (session=\"8835be40f7435e91226f3f2b83aebdcb\", element=\"f.545CBAAF25D945B9897DD7C91BF45EC0.d.5F1FECAAA0BD1863D9DDAD4B0CA3A1DC.e.23\")>,\n",
       " <selenium.webdriver.remote.webelement.WebElement (session=\"8835be40f7435e91226f3f2b83aebdcb\", element=\"f.545CBAAF25D945B9897DD7C91BF45EC0.d.5F1FECAAA0BD1863D9DDAD4B0CA3A1DC.e.24\")>,\n",
       " <selenium.webdriver.remote.webelement.WebElement (session=\"8835be40f7435e91226f3f2b83aebdcb\", element=\"f.545CBAAF25D945B9897DD7C91BF45EC0.d.5F1FECAAA0BD1863D9DDAD4B0CA3A1DC.e.25\")>,\n",
       " <selenium.webdriver.remote.webelement.WebElement (session=\"8835be40f7435e91226f3f2b83aebdcb\", element=\"f.545CBAAF25D945B9897DD7C91BF45EC0.d.5F1FECAAA0BD1863D9DDAD4B0CA3A1DC.e.26\")>,\n",
       " <selenium.webdriver.remote.webelement.WebElement (session=\"8835be40f7435e91226f3f2b83aebdcb\", element=\"f.545CBAAF25D945B9897DD7C91BF45EC0.d.5F1FECAAA0BD1863D9DDAD4B0CA3A1DC.e.27\")>,\n",
       " <selenium.webdriver.remote.webelement.WebElement (session=\"8835be40f7435e91226f3f2b83aebdcb\", element=\"f.545CBAAF25D945B9897DD7C91BF45EC0.d.5F1FECAAA0BD1863D9DDAD4B0CA3A1DC.e.28\")>,\n",
       " <selenium.webdriver.remote.webelement.WebElement (session=\"8835be40f7435e91226f3f2b83aebdcb\", element=\"f.545CBAAF25D945B9897DD7C91BF45EC0.d.5F1FECAAA0BD1863D9DDAD4B0CA3A1DC.e.29\")>,\n",
       " <selenium.webdriver.remote.webelement.WebElement (session=\"8835be40f7435e91226f3f2b83aebdcb\", element=\"f.545CBAAF25D945B9897DD7C91BF45EC0.d.5F1FECAAA0BD1863D9DDAD4B0CA3A1DC.e.30\")>,\n",
       " <selenium.webdriver.remote.webelement.WebElement (session=\"8835be40f7435e91226f3f2b83aebdcb\", element=\"f.545CBAAF25D945B9897DD7C91BF45EC0.d.5F1FECAAA0BD1863D9DDAD4B0CA3A1DC.e.31\")>,\n",
       " <selenium.webdriver.remote.webelement.WebElement (session=\"8835be40f7435e91226f3f2b83aebdcb\", element=\"f.545CBAAF25D945B9897DD7C91BF45EC0.d.5F1FECAAA0BD1863D9DDAD4B0CA3A1DC.e.32\")>,\n",
       " <selenium.webdriver.remote.webelement.WebElement (session=\"8835be40f7435e91226f3f2b83aebdcb\", element=\"f.545CBAAF25D945B9897DD7C91BF45EC0.d.5F1FECAAA0BD1863D9DDAD4B0CA3A1DC.e.33\")>,\n",
       " <selenium.webdriver.remote.webelement.WebElement (session=\"8835be40f7435e91226f3f2b83aebdcb\", element=\"f.545CBAAF25D945B9897DD7C91BF45EC0.d.5F1FECAAA0BD1863D9DDAD4B0CA3A1DC.e.34\")>,\n",
       " <selenium.webdriver.remote.webelement.WebElement (session=\"8835be40f7435e91226f3f2b83aebdcb\", element=\"f.545CBAAF25D945B9897DD7C91BF45EC0.d.5F1FECAAA0BD1863D9DDAD4B0CA3A1DC.e.35\")>,\n",
       " <selenium.webdriver.remote.webelement.WebElement (session=\"8835be40f7435e91226f3f2b83aebdcb\", element=\"f.545CBAAF25D945B9897DD7C91BF45EC0.d.5F1FECAAA0BD1863D9DDAD4B0CA3A1DC.e.36\")>,\n",
       " <selenium.webdriver.remote.webelement.WebElement (session=\"8835be40f7435e91226f3f2b83aebdcb\", element=\"f.545CBAAF25D945B9897DD7C91BF45EC0.d.5F1FECAAA0BD1863D9DDAD4B0CA3A1DC.e.37\")>,\n",
       " <selenium.webdriver.remote.webelement.WebElement (session=\"8835be40f7435e91226f3f2b83aebdcb\", element=\"f.545CBAAF25D945B9897DD7C91BF45EC0.d.5F1FECAAA0BD1863D9DDAD4B0CA3A1DC.e.38\")>,\n",
       " <selenium.webdriver.remote.webelement.WebElement (session=\"8835be40f7435e91226f3f2b83aebdcb\", element=\"f.545CBAAF25D945B9897DD7C91BF45EC0.d.5F1FECAAA0BD1863D9DDAD4B0CA3A1DC.e.39\")>,\n",
       " <selenium.webdriver.remote.webelement.WebElement (session=\"8835be40f7435e91226f3f2b83aebdcb\", element=\"f.545CBAAF25D945B9897DD7C91BF45EC0.d.5F1FECAAA0BD1863D9DDAD4B0CA3A1DC.e.40\")>,\n",
       " <selenium.webdriver.remote.webelement.WebElement (session=\"8835be40f7435e91226f3f2b83aebdcb\", element=\"f.545CBAAF25D945B9897DD7C91BF45EC0.d.5F1FECAAA0BD1863D9DDAD4B0CA3A1DC.e.41\")>,\n",
       " <selenium.webdriver.remote.webelement.WebElement (session=\"8835be40f7435e91226f3f2b83aebdcb\", element=\"f.545CBAAF25D945B9897DD7C91BF45EC0.d.5F1FECAAA0BD1863D9DDAD4B0CA3A1DC.e.42\")>]"
      ]
     },
     "execution_count": 18,
     "metadata": {},
     "output_type": "execute_result"
    }
   ],
   "source": [
    "tarjetas = driver.find_elements(By.CSS_SELECTOR, 'h2.h3.lh-condensed')\n",
    "tarjetas"
   ]
  },
  {
   "cell_type": "code",
   "execution_count": 19,
   "metadata": {},
   "outputs": [
    {
     "data": {
      "text/plain": [
       "25"
      ]
     },
     "execution_count": 19,
     "metadata": {},
     "output_type": "execute_result"
    }
   ],
   "source": [
    "len(tarjetas)"
   ]
  },
  {
   "cell_type": "code",
   "execution_count": 20,
   "metadata": {},
   "outputs": [
    {
     "data": {
      "text/plain": [
       "'layerdiffusion / sd-forge-layerdiffusion'"
      ]
     },
     "execution_count": 20,
     "metadata": {},
     "output_type": "execute_result"
    }
   ],
   "source": [
    "tarjetas[0].text"
   ]
  },
  {
   "cell_type": "code",
   "execution_count": 21,
   "metadata": {},
   "outputs": [],
   "source": [
    "res = []\n",
    "\n",
    "for t in tarjetas:\n",
    "    res.append(t.text)"
   ]
  },
  {
   "cell_type": "code",
   "execution_count": 22,
   "metadata": {},
   "outputs": [
    {
     "data": {
      "text/plain": [
       "['layerdiffusion / sd-forge-layerdiffusion',\n",
       " 'naver / dust3r',\n",
       " 'AUTOMATIC1111 / stable-diffusion-webui',\n",
       " 'pydantic / FastUI',\n",
       " 'bigcode-project / starcoder2',\n",
       " 'allenai / OLMo',\n",
       " 'kyegomez / BitNet',\n",
       " 'embedchain / embedchain',\n",
       " 'mini-sora / minisora',\n",
       " 'liguodongiot / llm-action',\n",
       " 'lllyasviel / Fooocus',\n",
       " 'tinygrad / tinygrad',\n",
       " 'lllyasviel / stable-diffusion-webui-forge',\n",
       " 'Sinaptik-AI / pandas-ai',\n",
       " 'freqtrade / freqtrade',\n",
       " 'roboflow / supervision',\n",
       " 'donnemartin / system-design-primer',\n",
       " 'microsoft / unilm',\n",
       " 'ltdrdata / ComfyUI-Impact-Pack',\n",
       " 'BatsResearch / bonito',\n",
       " 'huggingface / alignment-handbook',\n",
       " 'alexta69 / metube',\n",
       " 'VikParuchuri / marker',\n",
       " 'majacinka / crewai-experiments',\n",
       " 'smicallef / spiderfoot']"
      ]
     },
     "execution_count": 22,
     "metadata": {},
     "output_type": "execute_result"
    }
   ],
   "source": [
    "res"
   ]
  },
  {
   "cell_type": "code",
   "execution_count": 23,
   "metadata": {
    "scrolled": true
   },
   "outputs": [
    {
     "data": {
      "text/plain": [
       "25"
      ]
     },
     "execution_count": 23,
     "metadata": {},
     "output_type": "execute_result"
    }
   ],
   "source": [
    "len(res)"
   ]
  },
  {
   "cell_type": "code",
   "execution_count": 24,
   "metadata": {},
   "outputs": [],
   "source": [
    "driver.close()"
   ]
  },
  {
   "cell_type": "markdown",
   "metadata": {},
   "source": [
    "#### Display all the image links from Walt Disney wikipedia page"
   ]
  },
  {
   "cell_type": "code",
   "execution_count": 25,
   "metadata": {},
   "outputs": [],
   "source": [
    "# This is the url you will scrape in this exercise\n",
    "url = 'https://en.wikipedia.org/wiki/Walt_Disney'"
   ]
  },
  {
   "cell_type": "code",
   "execution_count": 26,
   "metadata": {},
   "outputs": [],
   "source": [
    "driver = webdriver.Chrome()"
   ]
  },
  {
   "cell_type": "code",
   "execution_count": 27,
   "metadata": {},
   "outputs": [],
   "source": [
    "driver.get(url)"
   ]
  },
  {
   "cell_type": "code",
   "execution_count": 28,
   "metadata": {},
   "outputs": [
    {
     "data": {
      "text/plain": [
       "[<selenium.webdriver.remote.webelement.WebElement (session=\"63e874f91f2fd03f4df7fd7d7dfdff84\", element=\"f.6CEDE42D94AB4A53AF525C511A340B55.d.D2BC6620EEC8A30588E36E6F4CEE4DAB.e.18\")>,\n",
       " <selenium.webdriver.remote.webelement.WebElement (session=\"63e874f91f2fd03f4df7fd7d7dfdff84\", element=\"f.6CEDE42D94AB4A53AF525C511A340B55.d.D2BC6620EEC8A30588E36E6F4CEE4DAB.e.19\")>,\n",
       " <selenium.webdriver.remote.webelement.WebElement (session=\"63e874f91f2fd03f4df7fd7d7dfdff84\", element=\"f.6CEDE42D94AB4A53AF525C511A340B55.d.D2BC6620EEC8A30588E36E6F4CEE4DAB.e.20\")>,\n",
       " <selenium.webdriver.remote.webelement.WebElement (session=\"63e874f91f2fd03f4df7fd7d7dfdff84\", element=\"f.6CEDE42D94AB4A53AF525C511A340B55.d.D2BC6620EEC8A30588E36E6F4CEE4DAB.e.61\")>,\n",
       " <selenium.webdriver.remote.webelement.WebElement (session=\"63e874f91f2fd03f4df7fd7d7dfdff84\", element=\"f.6CEDE42D94AB4A53AF525C511A340B55.d.D2BC6620EEC8A30588E36E6F4CEE4DAB.e.62\")>,\n",
       " <selenium.webdriver.remote.webelement.WebElement (session=\"63e874f91f2fd03f4df7fd7d7dfdff84\", element=\"f.6CEDE42D94AB4A53AF525C511A340B55.d.D2BC6620EEC8A30588E36E6F4CEE4DAB.e.60\")>,\n",
       " <selenium.webdriver.remote.webelement.WebElement (session=\"63e874f91f2fd03f4df7fd7d7dfdff84\", element=\"f.6CEDE42D94AB4A53AF525C511A340B55.d.D2BC6620EEC8A30588E36E6F4CEE4DAB.e.67\")>,\n",
       " <selenium.webdriver.remote.webelement.WebElement (session=\"63e874f91f2fd03f4df7fd7d7dfdff84\", element=\"f.6CEDE42D94AB4A53AF525C511A340B55.d.D2BC6620EEC8A30588E36E6F4CEE4DAB.e.68\")>,\n",
       " <selenium.webdriver.remote.webelement.WebElement (session=\"63e874f91f2fd03f4df7fd7d7dfdff84\", element=\"f.6CEDE42D94AB4A53AF525C511A340B55.d.D2BC6620EEC8A30588E36E6F4CEE4DAB.e.69\")>,\n",
       " <selenium.webdriver.remote.webelement.WebElement (session=\"63e874f91f2fd03f4df7fd7d7dfdff84\", element=\"f.6CEDE42D94AB4A53AF525C511A340B55.d.D2BC6620EEC8A30588E36E6F4CEE4DAB.e.70\")>,\n",
       " <selenium.webdriver.remote.webelement.WebElement (session=\"63e874f91f2fd03f4df7fd7d7dfdff84\", element=\"f.6CEDE42D94AB4A53AF525C511A340B55.d.D2BC6620EEC8A30588E36E6F4CEE4DAB.e.71\")>,\n",
       " <selenium.webdriver.remote.webelement.WebElement (session=\"63e874f91f2fd03f4df7fd7d7dfdff84\", element=\"f.6CEDE42D94AB4A53AF525C511A340B55.d.D2BC6620EEC8A30588E36E6F4CEE4DAB.e.72\")>,\n",
       " <selenium.webdriver.remote.webelement.WebElement (session=\"63e874f91f2fd03f4df7fd7d7dfdff84\", element=\"f.6CEDE42D94AB4A53AF525C511A340B55.d.D2BC6620EEC8A30588E36E6F4CEE4DAB.e.73\")>,\n",
       " <selenium.webdriver.remote.webelement.WebElement (session=\"63e874f91f2fd03f4df7fd7d7dfdff84\", element=\"f.6CEDE42D94AB4A53AF525C511A340B55.d.D2BC6620EEC8A30588E36E6F4CEE4DAB.e.74\")>,\n",
       " <selenium.webdriver.remote.webelement.WebElement (session=\"63e874f91f2fd03f4df7fd7d7dfdff84\", element=\"f.6CEDE42D94AB4A53AF525C511A340B55.d.D2BC6620EEC8A30588E36E6F4CEE4DAB.e.75\")>,\n",
       " <selenium.webdriver.remote.webelement.WebElement (session=\"63e874f91f2fd03f4df7fd7d7dfdff84\", element=\"f.6CEDE42D94AB4A53AF525C511A340B55.d.D2BC6620EEC8A30588E36E6F4CEE4DAB.e.76\")>,\n",
       " <selenium.webdriver.remote.webelement.WebElement (session=\"63e874f91f2fd03f4df7fd7d7dfdff84\", element=\"f.6CEDE42D94AB4A53AF525C511A340B55.d.D2BC6620EEC8A30588E36E6F4CEE4DAB.e.77\")>,\n",
       " <selenium.webdriver.remote.webelement.WebElement (session=\"63e874f91f2fd03f4df7fd7d7dfdff84\", element=\"f.6CEDE42D94AB4A53AF525C511A340B55.d.D2BC6620EEC8A30588E36E6F4CEE4DAB.e.78\")>,\n",
       " <selenium.webdriver.remote.webelement.WebElement (session=\"63e874f91f2fd03f4df7fd7d7dfdff84\", element=\"f.6CEDE42D94AB4A53AF525C511A340B55.d.D2BC6620EEC8A30588E36E6F4CEE4DAB.e.79\")>,\n",
       " <selenium.webdriver.remote.webelement.WebElement (session=\"63e874f91f2fd03f4df7fd7d7dfdff84\", element=\"f.6CEDE42D94AB4A53AF525C511A340B55.d.D2BC6620EEC8A30588E36E6F4CEE4DAB.e.80\")>,\n",
       " <selenium.webdriver.remote.webelement.WebElement (session=\"63e874f91f2fd03f4df7fd7d7dfdff84\", element=\"f.6CEDE42D94AB4A53AF525C511A340B55.d.D2BC6620EEC8A30588E36E6F4CEE4DAB.e.81\")>,\n",
       " <selenium.webdriver.remote.webelement.WebElement (session=\"63e874f91f2fd03f4df7fd7d7dfdff84\", element=\"f.6CEDE42D94AB4A53AF525C511A340B55.d.D2BC6620EEC8A30588E36E6F4CEE4DAB.e.82\")>,\n",
       " <selenium.webdriver.remote.webelement.WebElement (session=\"63e874f91f2fd03f4df7fd7d7dfdff84\", element=\"f.6CEDE42D94AB4A53AF525C511A340B55.d.D2BC6620EEC8A30588E36E6F4CEE4DAB.e.83\")>,\n",
       " <selenium.webdriver.remote.webelement.WebElement (session=\"63e874f91f2fd03f4df7fd7d7dfdff84\", element=\"f.6CEDE42D94AB4A53AF525C511A340B55.d.D2BC6620EEC8A30588E36E6F4CEE4DAB.e.84\")>,\n",
       " <selenium.webdriver.remote.webelement.WebElement (session=\"63e874f91f2fd03f4df7fd7d7dfdff84\", element=\"f.6CEDE42D94AB4A53AF525C511A340B55.d.D2BC6620EEC8A30588E36E6F4CEE4DAB.e.85\")>,\n",
       " <selenium.webdriver.remote.webelement.WebElement (session=\"63e874f91f2fd03f4df7fd7d7dfdff84\", element=\"f.6CEDE42D94AB4A53AF525C511A340B55.d.D2BC6620EEC8A30588E36E6F4CEE4DAB.e.86\")>,\n",
       " <selenium.webdriver.remote.webelement.WebElement (session=\"63e874f91f2fd03f4df7fd7d7dfdff84\", element=\"f.6CEDE42D94AB4A53AF525C511A340B55.d.D2BC6620EEC8A30588E36E6F4CEE4DAB.e.87\")>,\n",
       " <selenium.webdriver.remote.webelement.WebElement (session=\"63e874f91f2fd03f4df7fd7d7dfdff84\", element=\"f.6CEDE42D94AB4A53AF525C511A340B55.d.D2BC6620EEC8A30588E36E6F4CEE4DAB.e.88\")>,\n",
       " <selenium.webdriver.remote.webelement.WebElement (session=\"63e874f91f2fd03f4df7fd7d7dfdff84\", element=\"f.6CEDE42D94AB4A53AF525C511A340B55.d.D2BC6620EEC8A30588E36E6F4CEE4DAB.e.89\")>,\n",
       " <selenium.webdriver.remote.webelement.WebElement (session=\"63e874f91f2fd03f4df7fd7d7dfdff84\", element=\"f.6CEDE42D94AB4A53AF525C511A340B55.d.D2BC6620EEC8A30588E36E6F4CEE4DAB.e.90\")>,\n",
       " <selenium.webdriver.remote.webelement.WebElement (session=\"63e874f91f2fd03f4df7fd7d7dfdff84\", element=\"f.6CEDE42D94AB4A53AF525C511A340B55.d.D2BC6620EEC8A30588E36E6F4CEE4DAB.e.91\")>,\n",
       " <selenium.webdriver.remote.webelement.WebElement (session=\"63e874f91f2fd03f4df7fd7d7dfdff84\", element=\"f.6CEDE42D94AB4A53AF525C511A340B55.d.D2BC6620EEC8A30588E36E6F4CEE4DAB.e.92\")>,\n",
       " <selenium.webdriver.remote.webelement.WebElement (session=\"63e874f91f2fd03f4df7fd7d7dfdff84\", element=\"f.6CEDE42D94AB4A53AF525C511A340B55.d.D2BC6620EEC8A30588E36E6F4CEE4DAB.e.93\")>,\n",
       " <selenium.webdriver.remote.webelement.WebElement (session=\"63e874f91f2fd03f4df7fd7d7dfdff84\", element=\"f.6CEDE42D94AB4A53AF525C511A340B55.d.D2BC6620EEC8A30588E36E6F4CEE4DAB.e.94\")>,\n",
       " <selenium.webdriver.remote.webelement.WebElement (session=\"63e874f91f2fd03f4df7fd7d7dfdff84\", element=\"f.6CEDE42D94AB4A53AF525C511A340B55.d.D2BC6620EEC8A30588E36E6F4CEE4DAB.e.95\")>]"
      ]
     },
     "execution_count": 28,
     "metadata": {},
     "output_type": "execute_result"
    }
   ],
   "source": [
    "imagenes = driver.find_elements(By.TAG_NAME, 'img')\n",
    "imagenes"
   ]
  },
  {
   "cell_type": "code",
   "execution_count": 29,
   "metadata": {},
   "outputs": [
    {
     "data": {
      "text/plain": [
       "35"
      ]
     },
     "execution_count": 29,
     "metadata": {},
     "output_type": "execute_result"
    }
   ],
   "source": [
    "'''\n",
    "- Hay 36 imágenes en esta página de wikipedia\n",
    "'''\n",
    "\n",
    "len(imagenes)"
   ]
  },
  {
   "cell_type": "code",
   "execution_count": 30,
   "metadata": {},
   "outputs": [
    {
     "data": {
      "text/plain": [
       "'https://upload.wikimedia.org/wikipedia/commons/thumb/d/df/Walt_Disney_1946.JPG/220px-Walt_Disney_1946.JPG'"
      ]
     },
     "execution_count": 30,
     "metadata": {},
     "output_type": "execute_result"
    }
   ],
   "source": [
    "'''\n",
    "- Si queremos extraer la imagen de Walt Disney, es decir... Una imagen concreta:\n",
    "    . Copiamos su XPATH\n",
    "    . Sacamos la info desde el propio driver\n",
    "    . Pedimos que lo encuentre y extraemos su atributo\n",
    "'''\n",
    "\n",
    "xpath = '//*[@id=\"mw-content-text\"]/div[1]/table[1]/tbody/tr[2]/td/span/a/img'\n",
    "\n",
    "img_wd = driver.find_element(By.XPATH, xpath).get_attribute('src')\n",
    "img_wd"
   ]
  },
  {
   "cell_type": "code",
   "execution_count": 31,
   "metadata": {},
   "outputs": [],
   "source": [
    "driver.close()"
   ]
  },
  {
   "cell_type": "markdown",
   "metadata": {},
   "source": [
    "#### Retrieve an arbitary Wikipedia page of \"Python\" and create a list of links on that page"
   ]
  },
  {
   "cell_type": "code",
   "execution_count": 32,
   "metadata": {},
   "outputs": [],
   "source": [
    "# This is the url you will scrape in this exercise\n",
    "url ='https://en.wikipedia.org/wiki/Python' "
   ]
  },
  {
   "cell_type": "code",
   "execution_count": 33,
   "metadata": {},
   "outputs": [],
   "source": [
    "driver = webdriver.Chrome()"
   ]
  },
  {
   "cell_type": "code",
   "execution_count": 34,
   "metadata": {},
   "outputs": [],
   "source": [
    "driver.get(url)"
   ]
  },
  {
   "cell_type": "code",
   "execution_count": 35,
   "metadata": {
    "scrolled": true
   },
   "outputs": [
    {
     "data": {
      "text/plain": [
       "[<selenium.webdriver.remote.webelement.WebElement (session=\"54cf4402bb65c996c89ed288b06df4b3\", element=\"f.1B53143419B0F0D64D00B6837882032F.d.5B29DB2BC68CBA61414F1C31709C4F02.e.92\")>,\n",
       " <selenium.webdriver.remote.webelement.WebElement (session=\"54cf4402bb65c996c89ed288b06df4b3\", element=\"f.1B53143419B0F0D64D00B6837882032F.d.5B29DB2BC68CBA61414F1C31709C4F02.e.93\")>,\n",
       " <selenium.webdriver.remote.webelement.WebElement (session=\"54cf4402bb65c996c89ed288b06df4b3\", element=\"f.1B53143419B0F0D64D00B6837882032F.d.5B29DB2BC68CBA61414F1C31709C4F02.e.94\")>,\n",
       " <selenium.webdriver.remote.webelement.WebElement (session=\"54cf4402bb65c996c89ed288b06df4b3\", element=\"f.1B53143419B0F0D64D00B6837882032F.d.5B29DB2BC68CBA61414F1C31709C4F02.e.95\")>,\n",
       " <selenium.webdriver.remote.webelement.WebElement (session=\"54cf4402bb65c996c89ed288b06df4b3\", element=\"f.1B53143419B0F0D64D00B6837882032F.d.5B29DB2BC68CBA61414F1C31709C4F02.e.96\")>,\n",
       " <selenium.webdriver.remote.webelement.WebElement (session=\"54cf4402bb65c996c89ed288b06df4b3\", element=\"f.1B53143419B0F0D64D00B6837882032F.d.5B29DB2BC68CBA61414F1C31709C4F02.e.97\")>,\n",
       " <selenium.webdriver.remote.webelement.WebElement (session=\"54cf4402bb65c996c89ed288b06df4b3\", element=\"f.1B53143419B0F0D64D00B6837882032F.d.5B29DB2BC68CBA61414F1C31709C4F02.e.98\")>,\n",
       " <selenium.webdriver.remote.webelement.WebElement (session=\"54cf4402bb65c996c89ed288b06df4b3\", element=\"f.1B53143419B0F0D64D00B6837882032F.d.5B29DB2BC68CBA61414F1C31709C4F02.e.99\")>,\n",
       " <selenium.webdriver.remote.webelement.WebElement (session=\"54cf4402bb65c996c89ed288b06df4b3\", element=\"f.1B53143419B0F0D64D00B6837882032F.d.5B29DB2BC68CBA61414F1C31709C4F02.e.100\")>,\n",
       " <selenium.webdriver.remote.webelement.WebElement (session=\"54cf4402bb65c996c89ed288b06df4b3\", element=\"f.1B53143419B0F0D64D00B6837882032F.d.5B29DB2BC68CBA61414F1C31709C4F02.e.101\")>,\n",
       " <selenium.webdriver.remote.webelement.WebElement (session=\"54cf4402bb65c996c89ed288b06df4b3\", element=\"f.1B53143419B0F0D64D00B6837882032F.d.5B29DB2BC68CBA61414F1C31709C4F02.e.102\")>,\n",
       " <selenium.webdriver.remote.webelement.WebElement (session=\"54cf4402bb65c996c89ed288b06df4b3\", element=\"f.1B53143419B0F0D64D00B6837882032F.d.5B29DB2BC68CBA61414F1C31709C4F02.e.103\")>,\n",
       " <selenium.webdriver.remote.webelement.WebElement (session=\"54cf4402bb65c996c89ed288b06df4b3\", element=\"f.1B53143419B0F0D64D00B6837882032F.d.5B29DB2BC68CBA61414F1C31709C4F02.e.104\")>,\n",
       " <selenium.webdriver.remote.webelement.WebElement (session=\"54cf4402bb65c996c89ed288b06df4b3\", element=\"f.1B53143419B0F0D64D00B6837882032F.d.5B29DB2BC68CBA61414F1C31709C4F02.e.105\")>,\n",
       " <selenium.webdriver.remote.webelement.WebElement (session=\"54cf4402bb65c996c89ed288b06df4b3\", element=\"f.1B53143419B0F0D64D00B6837882032F.d.5B29DB2BC68CBA61414F1C31709C4F02.e.106\")>,\n",
       " <selenium.webdriver.remote.webelement.WebElement (session=\"54cf4402bb65c996c89ed288b06df4b3\", element=\"f.1B53143419B0F0D64D00B6837882032F.d.5B29DB2BC68CBA61414F1C31709C4F02.e.107\")>,\n",
       " <selenium.webdriver.remote.webelement.WebElement (session=\"54cf4402bb65c996c89ed288b06df4b3\", element=\"f.1B53143419B0F0D64D00B6837882032F.d.5B29DB2BC68CBA61414F1C31709C4F02.e.108\")>,\n",
       " <selenium.webdriver.remote.webelement.WebElement (session=\"54cf4402bb65c996c89ed288b06df4b3\", element=\"f.1B53143419B0F0D64D00B6837882032F.d.5B29DB2BC68CBA61414F1C31709C4F02.e.109\")>,\n",
       " <selenium.webdriver.remote.webelement.WebElement (session=\"54cf4402bb65c996c89ed288b06df4b3\", element=\"f.1B53143419B0F0D64D00B6837882032F.d.5B29DB2BC68CBA61414F1C31709C4F02.e.110\")>,\n",
       " <selenium.webdriver.remote.webelement.WebElement (session=\"54cf4402bb65c996c89ed288b06df4b3\", element=\"f.1B53143419B0F0D64D00B6837882032F.d.5B29DB2BC68CBA61414F1C31709C4F02.e.111\")>,\n",
       " <selenium.webdriver.remote.webelement.WebElement (session=\"54cf4402bb65c996c89ed288b06df4b3\", element=\"f.1B53143419B0F0D64D00B6837882032F.d.5B29DB2BC68CBA61414F1C31709C4F02.e.112\")>,\n",
       " <selenium.webdriver.remote.webelement.WebElement (session=\"54cf4402bb65c996c89ed288b06df4b3\", element=\"f.1B53143419B0F0D64D00B6837882032F.d.5B29DB2BC68CBA61414F1C31709C4F02.e.113\")>,\n",
       " <selenium.webdriver.remote.webelement.WebElement (session=\"54cf4402bb65c996c89ed288b06df4b3\", element=\"f.1B53143419B0F0D64D00B6837882032F.d.5B29DB2BC68CBA61414F1C31709C4F02.e.114\")>,\n",
       " <selenium.webdriver.remote.webelement.WebElement (session=\"54cf4402bb65c996c89ed288b06df4b3\", element=\"f.1B53143419B0F0D64D00B6837882032F.d.5B29DB2BC68CBA61414F1C31709C4F02.e.115\")>,\n",
       " <selenium.webdriver.remote.webelement.WebElement (session=\"54cf4402bb65c996c89ed288b06df4b3\", element=\"f.1B53143419B0F0D64D00B6837882032F.d.5B29DB2BC68CBA61414F1C31709C4F02.e.116\")>,\n",
       " <selenium.webdriver.remote.webelement.WebElement (session=\"54cf4402bb65c996c89ed288b06df4b3\", element=\"f.1B53143419B0F0D64D00B6837882032F.d.5B29DB2BC68CBA61414F1C31709C4F02.e.117\")>,\n",
       " <selenium.webdriver.remote.webelement.WebElement (session=\"54cf4402bb65c996c89ed288b06df4b3\", element=\"f.1B53143419B0F0D64D00B6837882032F.d.5B29DB2BC68CBA61414F1C31709C4F02.e.118\")>,\n",
       " <selenium.webdriver.remote.webelement.WebElement (session=\"54cf4402bb65c996c89ed288b06df4b3\", element=\"f.1B53143419B0F0D64D00B6837882032F.d.5B29DB2BC68CBA61414F1C31709C4F02.e.119\")>,\n",
       " <selenium.webdriver.remote.webelement.WebElement (session=\"54cf4402bb65c996c89ed288b06df4b3\", element=\"f.1B53143419B0F0D64D00B6837882032F.d.5B29DB2BC68CBA61414F1C31709C4F02.e.120\")>,\n",
       " <selenium.webdriver.remote.webelement.WebElement (session=\"54cf4402bb65c996c89ed288b06df4b3\", element=\"f.1B53143419B0F0D64D00B6837882032F.d.5B29DB2BC68CBA61414F1C31709C4F02.e.121\")>,\n",
       " <selenium.webdriver.remote.webelement.WebElement (session=\"54cf4402bb65c996c89ed288b06df4b3\", element=\"f.1B53143419B0F0D64D00B6837882032F.d.5B29DB2BC68CBA61414F1C31709C4F02.e.122\")>,\n",
       " <selenium.webdriver.remote.webelement.WebElement (session=\"54cf4402bb65c996c89ed288b06df4b3\", element=\"f.1B53143419B0F0D64D00B6837882032F.d.5B29DB2BC68CBA61414F1C31709C4F02.e.123\")>,\n",
       " <selenium.webdriver.remote.webelement.WebElement (session=\"54cf4402bb65c996c89ed288b06df4b3\", element=\"f.1B53143419B0F0D64D00B6837882032F.d.5B29DB2BC68CBA61414F1C31709C4F02.e.124\")>,\n",
       " <selenium.webdriver.remote.webelement.WebElement (session=\"54cf4402bb65c996c89ed288b06df4b3\", element=\"f.1B53143419B0F0D64D00B6837882032F.d.5B29DB2BC68CBA61414F1C31709C4F02.e.125\")>,\n",
       " <selenium.webdriver.remote.webelement.WebElement (session=\"54cf4402bb65c996c89ed288b06df4b3\", element=\"f.1B53143419B0F0D64D00B6837882032F.d.5B29DB2BC68CBA61414F1C31709C4F02.e.126\")>,\n",
       " <selenium.webdriver.remote.webelement.WebElement (session=\"54cf4402bb65c996c89ed288b06df4b3\", element=\"f.1B53143419B0F0D64D00B6837882032F.d.5B29DB2BC68CBA61414F1C31709C4F02.e.127\")>,\n",
       " <selenium.webdriver.remote.webelement.WebElement (session=\"54cf4402bb65c996c89ed288b06df4b3\", element=\"f.1B53143419B0F0D64D00B6837882032F.d.5B29DB2BC68CBA61414F1C31709C4F02.e.128\")>,\n",
       " <selenium.webdriver.remote.webelement.WebElement (session=\"54cf4402bb65c996c89ed288b06df4b3\", element=\"f.1B53143419B0F0D64D00B6837882032F.d.5B29DB2BC68CBA61414F1C31709C4F02.e.129\")>,\n",
       " <selenium.webdriver.remote.webelement.WebElement (session=\"54cf4402bb65c996c89ed288b06df4b3\", element=\"f.1B53143419B0F0D64D00B6837882032F.d.5B29DB2BC68CBA61414F1C31709C4F02.e.130\")>,\n",
       " <selenium.webdriver.remote.webelement.WebElement (session=\"54cf4402bb65c996c89ed288b06df4b3\", element=\"f.1B53143419B0F0D64D00B6837882032F.d.5B29DB2BC68CBA61414F1C31709C4F02.e.131\")>,\n",
       " <selenium.webdriver.remote.webelement.WebElement (session=\"54cf4402bb65c996c89ed288b06df4b3\", element=\"f.1B53143419B0F0D64D00B6837882032F.d.5B29DB2BC68CBA61414F1C31709C4F02.e.132\")>,\n",
       " <selenium.webdriver.remote.webelement.WebElement (session=\"54cf4402bb65c996c89ed288b06df4b3\", element=\"f.1B53143419B0F0D64D00B6837882032F.d.5B29DB2BC68CBA61414F1C31709C4F02.e.133\")>,\n",
       " <selenium.webdriver.remote.webelement.WebElement (session=\"54cf4402bb65c996c89ed288b06df4b3\", element=\"f.1B53143419B0F0D64D00B6837882032F.d.5B29DB2BC68CBA61414F1C31709C4F02.e.134\")>,\n",
       " <selenium.webdriver.remote.webelement.WebElement (session=\"54cf4402bb65c996c89ed288b06df4b3\", element=\"f.1B53143419B0F0D64D00B6837882032F.d.5B29DB2BC68CBA61414F1C31709C4F02.e.135\")>,\n",
       " <selenium.webdriver.remote.webelement.WebElement (session=\"54cf4402bb65c996c89ed288b06df4b3\", element=\"f.1B53143419B0F0D64D00B6837882032F.d.5B29DB2BC68CBA61414F1C31709C4F02.e.136\")>,\n",
       " <selenium.webdriver.remote.webelement.WebElement (session=\"54cf4402bb65c996c89ed288b06df4b3\", element=\"f.1B53143419B0F0D64D00B6837882032F.d.5B29DB2BC68CBA61414F1C31709C4F02.e.137\")>,\n",
       " <selenium.webdriver.remote.webelement.WebElement (session=\"54cf4402bb65c996c89ed288b06df4b3\", element=\"f.1B53143419B0F0D64D00B6837882032F.d.5B29DB2BC68CBA61414F1C31709C4F02.e.138\")>,\n",
       " <selenium.webdriver.remote.webelement.WebElement (session=\"54cf4402bb65c996c89ed288b06df4b3\", element=\"f.1B53143419B0F0D64D00B6837882032F.d.5B29DB2BC68CBA61414F1C31709C4F02.e.139\")>,\n",
       " <selenium.webdriver.remote.webelement.WebElement (session=\"54cf4402bb65c996c89ed288b06df4b3\", element=\"f.1B53143419B0F0D64D00B6837882032F.d.5B29DB2BC68CBA61414F1C31709C4F02.e.140\")>,\n",
       " <selenium.webdriver.remote.webelement.WebElement (session=\"54cf4402bb65c996c89ed288b06df4b3\", element=\"f.1B53143419B0F0D64D00B6837882032F.d.5B29DB2BC68CBA61414F1C31709C4F02.e.141\")>,\n",
       " <selenium.webdriver.remote.webelement.WebElement (session=\"54cf4402bb65c996c89ed288b06df4b3\", element=\"f.1B53143419B0F0D64D00B6837882032F.d.5B29DB2BC68CBA61414F1C31709C4F02.e.142\")>,\n",
       " <selenium.webdriver.remote.webelement.WebElement (session=\"54cf4402bb65c996c89ed288b06df4b3\", element=\"f.1B53143419B0F0D64D00B6837882032F.d.5B29DB2BC68CBA61414F1C31709C4F02.e.143\")>,\n",
       " <selenium.webdriver.remote.webelement.WebElement (session=\"54cf4402bb65c996c89ed288b06df4b3\", element=\"f.1B53143419B0F0D64D00B6837882032F.d.5B29DB2BC68CBA61414F1C31709C4F02.e.144\")>,\n",
       " <selenium.webdriver.remote.webelement.WebElement (session=\"54cf4402bb65c996c89ed288b06df4b3\", element=\"f.1B53143419B0F0D64D00B6837882032F.d.5B29DB2BC68CBA61414F1C31709C4F02.e.145\")>,\n",
       " <selenium.webdriver.remote.webelement.WebElement (session=\"54cf4402bb65c996c89ed288b06df4b3\", element=\"f.1B53143419B0F0D64D00B6837882032F.d.5B29DB2BC68CBA61414F1C31709C4F02.e.146\")>,\n",
       " <selenium.webdriver.remote.webelement.WebElement (session=\"54cf4402bb65c996c89ed288b06df4b3\", element=\"f.1B53143419B0F0D64D00B6837882032F.d.5B29DB2BC68CBA61414F1C31709C4F02.e.147\")>,\n",
       " <selenium.webdriver.remote.webelement.WebElement (session=\"54cf4402bb65c996c89ed288b06df4b3\", element=\"f.1B53143419B0F0D64D00B6837882032F.d.5B29DB2BC68CBA61414F1C31709C4F02.e.148\")>,\n",
       " <selenium.webdriver.remote.webelement.WebElement (session=\"54cf4402bb65c996c89ed288b06df4b3\", element=\"f.1B53143419B0F0D64D00B6837882032F.d.5B29DB2BC68CBA61414F1C31709C4F02.e.149\")>,\n",
       " <selenium.webdriver.remote.webelement.WebElement (session=\"54cf4402bb65c996c89ed288b06df4b3\", element=\"f.1B53143419B0F0D64D00B6837882032F.d.5B29DB2BC68CBA61414F1C31709C4F02.e.150\")>,\n",
       " <selenium.webdriver.remote.webelement.WebElement (session=\"54cf4402bb65c996c89ed288b06df4b3\", element=\"f.1B53143419B0F0D64D00B6837882032F.d.5B29DB2BC68CBA61414F1C31709C4F02.e.151\")>,\n",
       " <selenium.webdriver.remote.webelement.WebElement (session=\"54cf4402bb65c996c89ed288b06df4b3\", element=\"f.1B53143419B0F0D64D00B6837882032F.d.5B29DB2BC68CBA61414F1C31709C4F02.e.152\")>,\n",
       " <selenium.webdriver.remote.webelement.WebElement (session=\"54cf4402bb65c996c89ed288b06df4b3\", element=\"f.1B53143419B0F0D64D00B6837882032F.d.5B29DB2BC68CBA61414F1C31709C4F02.e.153\")>,\n",
       " <selenium.webdriver.remote.webelement.WebElement (session=\"54cf4402bb65c996c89ed288b06df4b3\", element=\"f.1B53143419B0F0D64D00B6837882032F.d.5B29DB2BC68CBA61414F1C31709C4F02.e.154\")>,\n",
       " <selenium.webdriver.remote.webelement.WebElement (session=\"54cf4402bb65c996c89ed288b06df4b3\", element=\"f.1B53143419B0F0D64D00B6837882032F.d.5B29DB2BC68CBA61414F1C31709C4F02.e.155\")>,\n",
       " <selenium.webdriver.remote.webelement.WebElement (session=\"54cf4402bb65c996c89ed288b06df4b3\", element=\"f.1B53143419B0F0D64D00B6837882032F.d.5B29DB2BC68CBA61414F1C31709C4F02.e.156\")>,\n",
       " <selenium.webdriver.remote.webelement.WebElement (session=\"54cf4402bb65c996c89ed288b06df4b3\", element=\"f.1B53143419B0F0D64D00B6837882032F.d.5B29DB2BC68CBA61414F1C31709C4F02.e.157\")>,\n",
       " <selenium.webdriver.remote.webelement.WebElement (session=\"54cf4402bb65c996c89ed288b06df4b3\", element=\"f.1B53143419B0F0D64D00B6837882032F.d.5B29DB2BC68CBA61414F1C31709C4F02.e.158\")>,\n",
       " <selenium.webdriver.remote.webelement.WebElement (session=\"54cf4402bb65c996c89ed288b06df4b3\", element=\"f.1B53143419B0F0D64D00B6837882032F.d.5B29DB2BC68CBA61414F1C31709C4F02.e.159\")>,\n",
       " <selenium.webdriver.remote.webelement.WebElement (session=\"54cf4402bb65c996c89ed288b06df4b3\", element=\"f.1B53143419B0F0D64D00B6837882032F.d.5B29DB2BC68CBA61414F1C31709C4F02.e.160\")>,\n",
       " <selenium.webdriver.remote.webelement.WebElement (session=\"54cf4402bb65c996c89ed288b06df4b3\", element=\"f.1B53143419B0F0D64D00B6837882032F.d.5B29DB2BC68CBA61414F1C31709C4F02.e.161\")>,\n",
       " <selenium.webdriver.remote.webelement.WebElement (session=\"54cf4402bb65c996c89ed288b06df4b3\", element=\"f.1B53143419B0F0D64D00B6837882032F.d.5B29DB2BC68CBA61414F1C31709C4F02.e.162\")>,\n",
       " <selenium.webdriver.remote.webelement.WebElement (session=\"54cf4402bb65c996c89ed288b06df4b3\", element=\"f.1B53143419B0F0D64D00B6837882032F.d.5B29DB2BC68CBA61414F1C31709C4F02.e.163\")>,\n",
       " <selenium.webdriver.remote.webelement.WebElement (session=\"54cf4402bb65c996c89ed288b06df4b3\", element=\"f.1B53143419B0F0D64D00B6837882032F.d.5B29DB2BC68CBA61414F1C31709C4F02.e.164\")>,\n",
       " <selenium.webdriver.remote.webelement.WebElement (session=\"54cf4402bb65c996c89ed288b06df4b3\", element=\"f.1B53143419B0F0D64D00B6837882032F.d.5B29DB2BC68CBA61414F1C31709C4F02.e.165\")>,\n",
       " <selenium.webdriver.remote.webelement.WebElement (session=\"54cf4402bb65c996c89ed288b06df4b3\", element=\"f.1B53143419B0F0D64D00B6837882032F.d.5B29DB2BC68CBA61414F1C31709C4F02.e.166\")>,\n",
       " <selenium.webdriver.remote.webelement.WebElement (session=\"54cf4402bb65c996c89ed288b06df4b3\", element=\"f.1B53143419B0F0D64D00B6837882032F.d.5B29DB2BC68CBA61414F1C31709C4F02.e.167\")>,\n",
       " <selenium.webdriver.remote.webelement.WebElement (session=\"54cf4402bb65c996c89ed288b06df4b3\", element=\"f.1B53143419B0F0D64D00B6837882032F.d.5B29DB2BC68CBA61414F1C31709C4F02.e.168\")>,\n",
       " <selenium.webdriver.remote.webelement.WebElement (session=\"54cf4402bb65c996c89ed288b06df4b3\", element=\"f.1B53143419B0F0D64D00B6837882032F.d.5B29DB2BC68CBA61414F1C31709C4F02.e.169\")>,\n",
       " <selenium.webdriver.remote.webelement.WebElement (session=\"54cf4402bb65c996c89ed288b06df4b3\", element=\"f.1B53143419B0F0D64D00B6837882032F.d.5B29DB2BC68CBA61414F1C31709C4F02.e.170\")>,\n",
       " <selenium.webdriver.remote.webelement.WebElement (session=\"54cf4402bb65c996c89ed288b06df4b3\", element=\"f.1B53143419B0F0D64D00B6837882032F.d.5B29DB2BC68CBA61414F1C31709C4F02.e.171\")>,\n",
       " <selenium.webdriver.remote.webelement.WebElement (session=\"54cf4402bb65c996c89ed288b06df4b3\", element=\"f.1B53143419B0F0D64D00B6837882032F.d.5B29DB2BC68CBA61414F1C31709C4F02.e.87\")>,\n",
       " <selenium.webdriver.remote.webelement.WebElement (session=\"54cf4402bb65c996c89ed288b06df4b3\", element=\"f.1B53143419B0F0D64D00B6837882032F.d.5B29DB2BC68CBA61414F1C31709C4F02.e.88\")>,\n",
       " <selenium.webdriver.remote.webelement.WebElement (session=\"54cf4402bb65c996c89ed288b06df4b3\", element=\"f.1B53143419B0F0D64D00B6837882032F.d.5B29DB2BC68CBA61414F1C31709C4F02.e.89\")>,\n",
       " <selenium.webdriver.remote.webelement.WebElement (session=\"54cf4402bb65c996c89ed288b06df4b3\", element=\"f.1B53143419B0F0D64D00B6837882032F.d.5B29DB2BC68CBA61414F1C31709C4F02.e.90\")>,\n",
       " <selenium.webdriver.remote.webelement.WebElement (session=\"54cf4402bb65c996c89ed288b06df4b3\", element=\"f.1B53143419B0F0D64D00B6837882032F.d.5B29DB2BC68CBA61414F1C31709C4F02.e.91\")>,\n",
       " <selenium.webdriver.remote.webelement.WebElement (session=\"54cf4402bb65c996c89ed288b06df4b3\", element=\"f.1B53143419B0F0D64D00B6837882032F.d.5B29DB2BC68CBA61414F1C31709C4F02.e.172\")>,\n",
       " <selenium.webdriver.remote.webelement.WebElement (session=\"54cf4402bb65c996c89ed288b06df4b3\", element=\"f.1B53143419B0F0D64D00B6837882032F.d.5B29DB2BC68CBA61414F1C31709C4F02.e.173\")>,\n",
       " <selenium.webdriver.remote.webelement.WebElement (session=\"54cf4402bb65c996c89ed288b06df4b3\", element=\"f.1B53143419B0F0D64D00B6837882032F.d.5B29DB2BC68CBA61414F1C31709C4F02.e.174\")>,\n",
       " <selenium.webdriver.remote.webelement.WebElement (session=\"54cf4402bb65c996c89ed288b06df4b3\", element=\"f.1B53143419B0F0D64D00B6837882032F.d.5B29DB2BC68CBA61414F1C31709C4F02.e.175\")>,\n",
       " <selenium.webdriver.remote.webelement.WebElement (session=\"54cf4402bb65c996c89ed288b06df4b3\", element=\"f.1B53143419B0F0D64D00B6837882032F.d.5B29DB2BC68CBA61414F1C31709C4F02.e.176\")>,\n",
       " <selenium.webdriver.remote.webelement.WebElement (session=\"54cf4402bb65c996c89ed288b06df4b3\", element=\"f.1B53143419B0F0D64D00B6837882032F.d.5B29DB2BC68CBA61414F1C31709C4F02.e.177\")>,\n",
       " <selenium.webdriver.remote.webelement.WebElement (session=\"54cf4402bb65c996c89ed288b06df4b3\", element=\"f.1B53143419B0F0D64D00B6837882032F.d.5B29DB2BC68CBA61414F1C31709C4F02.e.178\")>,\n",
       " <selenium.webdriver.remote.webelement.WebElement (session=\"54cf4402bb65c996c89ed288b06df4b3\", element=\"f.1B53143419B0F0D64D00B6837882032F.d.5B29DB2BC68CBA61414F1C31709C4F02.e.179\")>,\n",
       " <selenium.webdriver.remote.webelement.WebElement (session=\"54cf4402bb65c996c89ed288b06df4b3\", element=\"f.1B53143419B0F0D64D00B6837882032F.d.5B29DB2BC68CBA61414F1C31709C4F02.e.180\")>,\n",
       " <selenium.webdriver.remote.webelement.WebElement (session=\"54cf4402bb65c996c89ed288b06df4b3\", element=\"f.1B53143419B0F0D64D00B6837882032F.d.5B29DB2BC68CBA61414F1C31709C4F02.e.181\")>,\n",
       " <selenium.webdriver.remote.webelement.WebElement (session=\"54cf4402bb65c996c89ed288b06df4b3\", element=\"f.1B53143419B0F0D64D00B6837882032F.d.5B29DB2BC68CBA61414F1C31709C4F02.e.182\")>,\n",
       " <selenium.webdriver.remote.webelement.WebElement (session=\"54cf4402bb65c996c89ed288b06df4b3\", element=\"f.1B53143419B0F0D64D00B6837882032F.d.5B29DB2BC68CBA61414F1C31709C4F02.e.183\")>,\n",
       " <selenium.webdriver.remote.webelement.WebElement (session=\"54cf4402bb65c996c89ed288b06df4b3\", element=\"f.1B53143419B0F0D64D00B6837882032F.d.5B29DB2BC68CBA61414F1C31709C4F02.e.184\")>,\n",
       " <selenium.webdriver.remote.webelement.WebElement (session=\"54cf4402bb65c996c89ed288b06df4b3\", element=\"f.1B53143419B0F0D64D00B6837882032F.d.5B29DB2BC68CBA61414F1C31709C4F02.e.185\")>,\n",
       " <selenium.webdriver.remote.webelement.WebElement (session=\"54cf4402bb65c996c89ed288b06df4b3\", element=\"f.1B53143419B0F0D64D00B6837882032F.d.5B29DB2BC68CBA61414F1C31709C4F02.e.186\")>,\n",
       " <selenium.webdriver.remote.webelement.WebElement (session=\"54cf4402bb65c996c89ed288b06df4b3\", element=\"f.1B53143419B0F0D64D00B6837882032F.d.5B29DB2BC68CBA61414F1C31709C4F02.e.187\")>,\n",
       " <selenium.webdriver.remote.webelement.WebElement (session=\"54cf4402bb65c996c89ed288b06df4b3\", element=\"f.1B53143419B0F0D64D00B6837882032F.d.5B29DB2BC68CBA61414F1C31709C4F02.e.188\")>,\n",
       " <selenium.webdriver.remote.webelement.WebElement (session=\"54cf4402bb65c996c89ed288b06df4b3\", element=\"f.1B53143419B0F0D64D00B6837882032F.d.5B29DB2BC68CBA61414F1C31709C4F02.e.189\")>,\n",
       " <selenium.webdriver.remote.webelement.WebElement (session=\"54cf4402bb65c996c89ed288b06df4b3\", element=\"f.1B53143419B0F0D64D00B6837882032F.d.5B29DB2BC68CBA61414F1C31709C4F02.e.190\")>,\n",
       " <selenium.webdriver.remote.webelement.WebElement (session=\"54cf4402bb65c996c89ed288b06df4b3\", element=\"f.1B53143419B0F0D64D00B6837882032F.d.5B29DB2BC68CBA61414F1C31709C4F02.e.191\")>,\n",
       " <selenium.webdriver.remote.webelement.WebElement (session=\"54cf4402bb65c996c89ed288b06df4b3\", element=\"f.1B53143419B0F0D64D00B6837882032F.d.5B29DB2BC68CBA61414F1C31709C4F02.e.192\")>,\n",
       " <selenium.webdriver.remote.webelement.WebElement (session=\"54cf4402bb65c996c89ed288b06df4b3\", element=\"f.1B53143419B0F0D64D00B6837882032F.d.5B29DB2BC68CBA61414F1C31709C4F02.e.193\")>,\n",
       " <selenium.webdriver.remote.webelement.WebElement (session=\"54cf4402bb65c996c89ed288b06df4b3\", element=\"f.1B53143419B0F0D64D00B6837882032F.d.5B29DB2BC68CBA61414F1C31709C4F02.e.194\")>,\n",
       " <selenium.webdriver.remote.webelement.WebElement (session=\"54cf4402bb65c996c89ed288b06df4b3\", element=\"f.1B53143419B0F0D64D00B6837882032F.d.5B29DB2BC68CBA61414F1C31709C4F02.e.195\")>,\n",
       " <selenium.webdriver.remote.webelement.WebElement (session=\"54cf4402bb65c996c89ed288b06df4b3\", element=\"f.1B53143419B0F0D64D00B6837882032F.d.5B29DB2BC68CBA61414F1C31709C4F02.e.196\")>,\n",
       " <selenium.webdriver.remote.webelement.WebElement (session=\"54cf4402bb65c996c89ed288b06df4b3\", element=\"f.1B53143419B0F0D64D00B6837882032F.d.5B29DB2BC68CBA61414F1C31709C4F02.e.197\")>,\n",
       " <selenium.webdriver.remote.webelement.WebElement (session=\"54cf4402bb65c996c89ed288b06df4b3\", element=\"f.1B53143419B0F0D64D00B6837882032F.d.5B29DB2BC68CBA61414F1C31709C4F02.e.198\")>,\n",
       " <selenium.webdriver.remote.webelement.WebElement (session=\"54cf4402bb65c996c89ed288b06df4b3\", element=\"f.1B53143419B0F0D64D00B6837882032F.d.5B29DB2BC68CBA61414F1C31709C4F02.e.199\")>,\n",
       " <selenium.webdriver.remote.webelement.WebElement (session=\"54cf4402bb65c996c89ed288b06df4b3\", element=\"f.1B53143419B0F0D64D00B6837882032F.d.5B29DB2BC68CBA61414F1C31709C4F02.e.200\")>,\n",
       " <selenium.webdriver.remote.webelement.WebElement (session=\"54cf4402bb65c996c89ed288b06df4b3\", element=\"f.1B53143419B0F0D64D00B6837882032F.d.5B29DB2BC68CBA61414F1C31709C4F02.e.201\")>,\n",
       " <selenium.webdriver.remote.webelement.WebElement (session=\"54cf4402bb65c996c89ed288b06df4b3\", element=\"f.1B53143419B0F0D64D00B6837882032F.d.5B29DB2BC68CBA61414F1C31709C4F02.e.202\")>,\n",
       " <selenium.webdriver.remote.webelement.WebElement (session=\"54cf4402bb65c996c89ed288b06df4b3\", element=\"f.1B53143419B0F0D64D00B6837882032F.d.5B29DB2BC68CBA61414F1C31709C4F02.e.203\")>,\n",
       " <selenium.webdriver.remote.webelement.WebElement (session=\"54cf4402bb65c996c89ed288b06df4b3\", element=\"f.1B53143419B0F0D64D00B6837882032F.d.5B29DB2BC68CBA61414F1C31709C4F02.e.204\")>,\n",
       " <selenium.webdriver.remote.webelement.WebElement (session=\"54cf4402bb65c996c89ed288b06df4b3\", element=\"f.1B53143419B0F0D64D00B6837882032F.d.5B29DB2BC68CBA61414F1C31709C4F02.e.205\")>,\n",
       " <selenium.webdriver.remote.webelement.WebElement (session=\"54cf4402bb65c996c89ed288b06df4b3\", element=\"f.1B53143419B0F0D64D00B6837882032F.d.5B29DB2BC68CBA61414F1C31709C4F02.e.206\")>,\n",
       " <selenium.webdriver.remote.webelement.WebElement (session=\"54cf4402bb65c996c89ed288b06df4b3\", element=\"f.1B53143419B0F0D64D00B6837882032F.d.5B29DB2BC68CBA61414F1C31709C4F02.e.207\")>,\n",
       " <selenium.webdriver.remote.webelement.WebElement (session=\"54cf4402bb65c996c89ed288b06df4b3\", element=\"f.1B53143419B0F0D64D00B6837882032F.d.5B29DB2BC68CBA61414F1C31709C4F02.e.208\")>,\n",
       " <selenium.webdriver.remote.webelement.WebElement (session=\"54cf4402bb65c996c89ed288b06df4b3\", element=\"f.1B53143419B0F0D64D00B6837882032F.d.5B29DB2BC68CBA61414F1C31709C4F02.e.209\")>,\n",
       " <selenium.webdriver.remote.webelement.WebElement (session=\"54cf4402bb65c996c89ed288b06df4b3\", element=\"f.1B53143419B0F0D64D00B6837882032F.d.5B29DB2BC68CBA61414F1C31709C4F02.e.210\")>,\n",
       " <selenium.webdriver.remote.webelement.WebElement (session=\"54cf4402bb65c996c89ed288b06df4b3\", element=\"f.1B53143419B0F0D64D00B6837882032F.d.5B29DB2BC68CBA61414F1C31709C4F02.e.211\")>,\n",
       " <selenium.webdriver.remote.webelement.WebElement (session=\"54cf4402bb65c996c89ed288b06df4b3\", element=\"f.1B53143419B0F0D64D00B6837882032F.d.5B29DB2BC68CBA61414F1C31709C4F02.e.212\")>,\n",
       " <selenium.webdriver.remote.webelement.WebElement (session=\"54cf4402bb65c996c89ed288b06df4b3\", element=\"f.1B53143419B0F0D64D00B6837882032F.d.5B29DB2BC68CBA61414F1C31709C4F02.e.213\")>,\n",
       " <selenium.webdriver.remote.webelement.WebElement (session=\"54cf4402bb65c996c89ed288b06df4b3\", element=\"f.1B53143419B0F0D64D00B6837882032F.d.5B29DB2BC68CBA61414F1C31709C4F02.e.214\")>,\n",
       " <selenium.webdriver.remote.webelement.WebElement (session=\"54cf4402bb65c996c89ed288b06df4b3\", element=\"f.1B53143419B0F0D64D00B6837882032F.d.5B29DB2BC68CBA61414F1C31709C4F02.e.215\")>,\n",
       " <selenium.webdriver.remote.webelement.WebElement (session=\"54cf4402bb65c996c89ed288b06df4b3\", element=\"f.1B53143419B0F0D64D00B6837882032F.d.5B29DB2BC68CBA61414F1C31709C4F02.e.216\")>,\n",
       " <selenium.webdriver.remote.webelement.WebElement (session=\"54cf4402bb65c996c89ed288b06df4b3\", element=\"f.1B53143419B0F0D64D00B6837882032F.d.5B29DB2BC68CBA61414F1C31709C4F02.e.217\")>,\n",
       " <selenium.webdriver.remote.webelement.WebElement (session=\"54cf4402bb65c996c89ed288b06df4b3\", element=\"f.1B53143419B0F0D64D00B6837882032F.d.5B29DB2BC68CBA61414F1C31709C4F02.e.218\")>,\n",
       " <selenium.webdriver.remote.webelement.WebElement (session=\"54cf4402bb65c996c89ed288b06df4b3\", element=\"f.1B53143419B0F0D64D00B6837882032F.d.5B29DB2BC68CBA61414F1C31709C4F02.e.219\")>,\n",
       " <selenium.webdriver.remote.webelement.WebElement (session=\"54cf4402bb65c996c89ed288b06df4b3\", element=\"f.1B53143419B0F0D64D00B6837882032F.d.5B29DB2BC68CBA61414F1C31709C4F02.e.220\")>,\n",
       " <selenium.webdriver.remote.webelement.WebElement (session=\"54cf4402bb65c996c89ed288b06df4b3\", element=\"f.1B53143419B0F0D64D00B6837882032F.d.5B29DB2BC68CBA61414F1C31709C4F02.e.221\")>,\n",
       " <selenium.webdriver.remote.webelement.WebElement (session=\"54cf4402bb65c996c89ed288b06df4b3\", element=\"f.1B53143419B0F0D64D00B6837882032F.d.5B29DB2BC68CBA61414F1C31709C4F02.e.222\")>,\n",
       " <selenium.webdriver.remote.webelement.WebElement (session=\"54cf4402bb65c996c89ed288b06df4b3\", element=\"f.1B53143419B0F0D64D00B6837882032F.d.5B29DB2BC68CBA61414F1C31709C4F02.e.223\")>,\n",
       " <selenium.webdriver.remote.webelement.WebElement (session=\"54cf4402bb65c996c89ed288b06df4b3\", element=\"f.1B53143419B0F0D64D00B6837882032F.d.5B29DB2BC68CBA61414F1C31709C4F02.e.224\")>,\n",
       " <selenium.webdriver.remote.webelement.WebElement (session=\"54cf4402bb65c996c89ed288b06df4b3\", element=\"f.1B53143419B0F0D64D00B6837882032F.d.5B29DB2BC68CBA61414F1C31709C4F02.e.225\")>,\n",
       " <selenium.webdriver.remote.webelement.WebElement (session=\"54cf4402bb65c996c89ed288b06df4b3\", element=\"f.1B53143419B0F0D64D00B6837882032F.d.5B29DB2BC68CBA61414F1C31709C4F02.e.226\")>,\n",
       " <selenium.webdriver.remote.webelement.WebElement (session=\"54cf4402bb65c996c89ed288b06df4b3\", element=\"f.1B53143419B0F0D64D00B6837882032F.d.5B29DB2BC68CBA61414F1C31709C4F02.e.227\")>,\n",
       " <selenium.webdriver.remote.webelement.WebElement (session=\"54cf4402bb65c996c89ed288b06df4b3\", element=\"f.1B53143419B0F0D64D00B6837882032F.d.5B29DB2BC68CBA61414F1C31709C4F02.e.228\")>,\n",
       " <selenium.webdriver.remote.webelement.WebElement (session=\"54cf4402bb65c996c89ed288b06df4b3\", element=\"f.1B53143419B0F0D64D00B6837882032F.d.5B29DB2BC68CBA61414F1C31709C4F02.e.229\")>,\n",
       " <selenium.webdriver.remote.webelement.WebElement (session=\"54cf4402bb65c996c89ed288b06df4b3\", element=\"f.1B53143419B0F0D64D00B6837882032F.d.5B29DB2BC68CBA61414F1C31709C4F02.e.230\")>,\n",
       " <selenium.webdriver.remote.webelement.WebElement (session=\"54cf4402bb65c996c89ed288b06df4b3\", element=\"f.1B53143419B0F0D64D00B6837882032F.d.5B29DB2BC68CBA61414F1C31709C4F02.e.231\")>,\n",
       " <selenium.webdriver.remote.webelement.WebElement (session=\"54cf4402bb65c996c89ed288b06df4b3\", element=\"f.1B53143419B0F0D64D00B6837882032F.d.5B29DB2BC68CBA61414F1C31709C4F02.e.232\")>,\n",
       " <selenium.webdriver.remote.webelement.WebElement (session=\"54cf4402bb65c996c89ed288b06df4b3\", element=\"f.1B53143419B0F0D64D00B6837882032F.d.5B29DB2BC68CBA61414F1C31709C4F02.e.233\")>,\n",
       " <selenium.webdriver.remote.webelement.WebElement (session=\"54cf4402bb65c996c89ed288b06df4b3\", element=\"f.1B53143419B0F0D64D00B6837882032F.d.5B29DB2BC68CBA61414F1C31709C4F02.e.234\")>,\n",
       " <selenium.webdriver.remote.webelement.WebElement (session=\"54cf4402bb65c996c89ed288b06df4b3\", element=\"f.1B53143419B0F0D64D00B6837882032F.d.5B29DB2BC68CBA61414F1C31709C4F02.e.235\")>,\n",
       " <selenium.webdriver.remote.webelement.WebElement (session=\"54cf4402bb65c996c89ed288b06df4b3\", element=\"f.1B53143419B0F0D64D00B6837882032F.d.5B29DB2BC68CBA61414F1C31709C4F02.e.236\")>,\n",
       " <selenium.webdriver.remote.webelement.WebElement (session=\"54cf4402bb65c996c89ed288b06df4b3\", element=\"f.1B53143419B0F0D64D00B6837882032F.d.5B29DB2BC68CBA61414F1C31709C4F02.e.237\")>,\n",
       " <selenium.webdriver.remote.webelement.WebElement (session=\"54cf4402bb65c996c89ed288b06df4b3\", element=\"f.1B53143419B0F0D64D00B6837882032F.d.5B29DB2BC68CBA61414F1C31709C4F02.e.238\")>,\n",
       " <selenium.webdriver.remote.webelement.WebElement (session=\"54cf4402bb65c996c89ed288b06df4b3\", element=\"f.1B53143419B0F0D64D00B6837882032F.d.5B29DB2BC68CBA61414F1C31709C4F02.e.239\")>,\n",
       " <selenium.webdriver.remote.webelement.WebElement (session=\"54cf4402bb65c996c89ed288b06df4b3\", element=\"f.1B53143419B0F0D64D00B6837882032F.d.5B29DB2BC68CBA61414F1C31709C4F02.e.240\")>,\n",
       " <selenium.webdriver.remote.webelement.WebElement (session=\"54cf4402bb65c996c89ed288b06df4b3\", element=\"f.1B53143419B0F0D64D00B6837882032F.d.5B29DB2BC68CBA61414F1C31709C4F02.e.241\")>,\n",
       " <selenium.webdriver.remote.webelement.WebElement (session=\"54cf4402bb65c996c89ed288b06df4b3\", element=\"f.1B53143419B0F0D64D00B6837882032F.d.5B29DB2BC68CBA61414F1C31709C4F02.e.242\")>,\n",
       " <selenium.webdriver.remote.webelement.WebElement (session=\"54cf4402bb65c996c89ed288b06df4b3\", element=\"f.1B53143419B0F0D64D00B6837882032F.d.5B29DB2BC68CBA61414F1C31709C4F02.e.243\")>,\n",
       " <selenium.webdriver.remote.webelement.WebElement (session=\"54cf4402bb65c996c89ed288b06df4b3\", element=\"f.1B53143419B0F0D64D00B6837882032F.d.5B29DB2BC68CBA61414F1C31709C4F02.e.244\")>,\n",
       " <selenium.webdriver.remote.webelement.WebElement (session=\"54cf4402bb65c996c89ed288b06df4b3\", element=\"f.1B53143419B0F0D64D00B6837882032F.d.5B29DB2BC68CBA61414F1C31709C4F02.e.245\")>,\n",
       " <selenium.webdriver.remote.webelement.WebElement (session=\"54cf4402bb65c996c89ed288b06df4b3\", element=\"f.1B53143419B0F0D64D00B6837882032F.d.5B29DB2BC68CBA61414F1C31709C4F02.e.246\")>,\n",
       " <selenium.webdriver.remote.webelement.WebElement (session=\"54cf4402bb65c996c89ed288b06df4b3\", element=\"f.1B53143419B0F0D64D00B6837882032F.d.5B29DB2BC68CBA61414F1C31709C4F02.e.247\")>,\n",
       " <selenium.webdriver.remote.webelement.WebElement (session=\"54cf4402bb65c996c89ed288b06df4b3\", element=\"f.1B53143419B0F0D64D00B6837882032F.d.5B29DB2BC68CBA61414F1C31709C4F02.e.248\")>,\n",
       " <selenium.webdriver.remote.webelement.WebElement (session=\"54cf4402bb65c996c89ed288b06df4b3\", element=\"f.1B53143419B0F0D64D00B6837882032F.d.5B29DB2BC68CBA61414F1C31709C4F02.e.249\")>,\n",
       " <selenium.webdriver.remote.webelement.WebElement (session=\"54cf4402bb65c996c89ed288b06df4b3\", element=\"f.1B53143419B0F0D64D00B6837882032F.d.5B29DB2BC68CBA61414F1C31709C4F02.e.250\")>,\n",
       " <selenium.webdriver.remote.webelement.WebElement (session=\"54cf4402bb65c996c89ed288b06df4b3\", element=\"f.1B53143419B0F0D64D00B6837882032F.d.5B29DB2BC68CBA61414F1C31709C4F02.e.251\")>,\n",
       " <selenium.webdriver.remote.webelement.WebElement (session=\"54cf4402bb65c996c89ed288b06df4b3\", element=\"f.1B53143419B0F0D64D00B6837882032F.d.5B29DB2BC68CBA61414F1C31709C4F02.e.252\")>,\n",
       " <selenium.webdriver.remote.webelement.WebElement (session=\"54cf4402bb65c996c89ed288b06df4b3\", element=\"f.1B53143419B0F0D64D00B6837882032F.d.5B29DB2BC68CBA61414F1C31709C4F02.e.253\")>]"
      ]
     },
     "execution_count": 35,
     "metadata": {},
     "output_type": "execute_result"
    }
   ],
   "source": [
    "aes = driver.find_elements(By.TAG_NAME, 'a')\n",
    "aes"
   ]
  },
  {
   "cell_type": "code",
   "execution_count": 36,
   "metadata": {},
   "outputs": [
    {
     "data": {
      "text/plain": [
       "'https://en.wikipedia.org/wiki/Python#bodyContent'"
      ]
     },
     "execution_count": 36,
     "metadata": {},
     "output_type": "execute_result"
    }
   ],
   "source": [
    "'''\n",
    "- Yo no puedo pedir que me extraiga el atributo de la lista completa, pero si que lo puedo\n",
    "pedir por cada elemento.\n",
    "'''\n",
    "\n",
    "href = aes[0].get_attribute('href')\n",
    "href"
   ]
  },
  {
   "cell_type": "code",
   "execution_count": 37,
   "metadata": {
    "scrolled": true
   },
   "outputs": [
    {
     "data": {
      "text/plain": [
       "['https://en.wikipedia.org/wiki/Python#bodyContent',\n",
       " 'https://en.wikipedia.org/wiki/Main_Page',\n",
       " 'https://en.wikipedia.org/wiki/Wikipedia:Contents',\n",
       " 'https://en.wikipedia.org/wiki/Portal:Current_events',\n",
       " 'https://en.wikipedia.org/wiki/Special:Random',\n",
       " 'https://en.wikipedia.org/wiki/Wikipedia:About',\n",
       " 'https://en.wikipedia.org/wiki/Wikipedia:Contact_us',\n",
       " 'https://donate.wikimedia.org/wiki/Special:FundraiserRedirector?utm_source=donate&utm_medium=sidebar&utm_campaign=C13_en.wikipedia.org&uselang=en',\n",
       " 'https://en.wikipedia.org/wiki/Help:Contents',\n",
       " 'https://en.wikipedia.org/wiki/Help:Introduction']"
      ]
     },
     "execution_count": 37,
     "metadata": {},
     "output_type": "execute_result"
    }
   ],
   "source": [
    "'''\n",
    "- Lo que podemos hacer es pedir que a partir de una lista vacía, añada los links de aquellas\n",
    "partes de la página que contengan el atributo \"href\".\n",
    "'''\n",
    "\n",
    "href_completa = [a.get_attribute('href') for a in aes]\n",
    "href_completa[:10]"
   ]
  },
  {
   "cell_type": "code",
   "execution_count": 38,
   "metadata": {},
   "outputs": [],
   "source": [
    "driver.close()"
   ]
  },
  {
   "cell_type": "markdown",
   "metadata": {},
   "source": [
    "#### Number of Titles that have changed in the United States Code since its last release point "
   ]
  },
  {
   "cell_type": "code",
   "execution_count": 39,
   "metadata": {},
   "outputs": [],
   "source": [
    "# This is the url you will scrape in this exercise\n",
    "url = 'http://uscode.house.gov/download/download.shtml'"
   ]
  },
  {
   "cell_type": "code",
   "execution_count": 40,
   "metadata": {},
   "outputs": [],
   "source": [
    "driver = webdriver.Chrome()"
   ]
  },
  {
   "cell_type": "code",
   "execution_count": 41,
   "metadata": {},
   "outputs": [],
   "source": [
    "driver.get(url)"
   ]
  },
  {
   "cell_type": "code",
   "execution_count": 42,
   "metadata": {},
   "outputs": [
    {
     "data": {
      "text/plain": [
       "[<selenium.webdriver.remote.webelement.WebElement (session=\"aec11e5cf450f98c5049029269bc7a1f\", element=\"f.A402E0CF3EBA0F397A3B965C016F2D83.d.F689EBBECAAA5185D7D685833027F40B.e.30\")>,\n",
       " <selenium.webdriver.remote.webelement.WebElement (session=\"aec11e5cf450f98c5049029269bc7a1f\", element=\"f.A402E0CF3EBA0F397A3B965C016F2D83.d.F689EBBECAAA5185D7D685833027F40B.e.31\")>,\n",
       " <selenium.webdriver.remote.webelement.WebElement (session=\"aec11e5cf450f98c5049029269bc7a1f\", element=\"f.A402E0CF3EBA0F397A3B965C016F2D83.d.F689EBBECAAA5185D7D685833027F40B.e.32\")>,\n",
       " <selenium.webdriver.remote.webelement.WebElement (session=\"aec11e5cf450f98c5049029269bc7a1f\", element=\"f.A402E0CF3EBA0F397A3B965C016F2D83.d.F689EBBECAAA5185D7D685833027F40B.e.33\")>,\n",
       " <selenium.webdriver.remote.webelement.WebElement (session=\"aec11e5cf450f98c5049029269bc7a1f\", element=\"f.A402E0CF3EBA0F397A3B965C016F2D83.d.F689EBBECAAA5185D7D685833027F40B.e.34\")>,\n",
       " <selenium.webdriver.remote.webelement.WebElement (session=\"aec11e5cf450f98c5049029269bc7a1f\", element=\"f.A402E0CF3EBA0F397A3B965C016F2D83.d.F689EBBECAAA5185D7D685833027F40B.e.35\")>]"
      ]
     },
     "execution_count": 42,
     "metadata": {},
     "output_type": "execute_result"
    }
   ],
   "source": [
    "'''\n",
    "- Le pedimos que nos extraiga todos los datos que contengan \"div.usctitlechanged\" usando el\n",
    "CSS_SELECTOR.\n",
    "'''\n",
    "\n",
    "negrita = driver.find_elements(By.CSS_SELECTOR,'div.usctitlechanged')\n",
    "negrita"
   ]
  },
  {
   "cell_type": "code",
   "execution_count": 43,
   "metadata": {},
   "outputs": [
    {
     "data": {
      "text/plain": [
       "6"
      ]
     },
     "execution_count": 43,
     "metadata": {},
     "output_type": "execute_result"
    }
   ],
   "source": [
    "len(negrita)"
   ]
  },
  {
   "cell_type": "code",
   "execution_count": 44,
   "metadata": {},
   "outputs": [
    {
     "data": {
      "text/plain": [
       "'Title 2 - The Congress'"
      ]
     },
     "execution_count": 44,
     "metadata": {},
     "output_type": "execute_result"
    }
   ],
   "source": [
    "'''\n",
    "- Pedimos que nos extraiga el primer titulo que esté en negrita para comprobar que escoge\n",
    "el correcto.\n",
    "'''\n",
    "\n",
    "negrita[0].text"
   ]
  },
  {
   "cell_type": "code",
   "execution_count": 45,
   "metadata": {},
   "outputs": [],
   "source": [
    "'''\n",
    "- Creamos una lista vacía y le solicitamos que para cada elemento \"n\" en la lista \"negrita\", \n",
    "añada el texto de dicho elemento a la lista res\n",
    "'''\n",
    "\n",
    "res = []\n",
    "\n",
    "for n in negrita:\n",
    "    \n",
    "    res.append(n.text)"
   ]
  },
  {
   "cell_type": "code",
   "execution_count": 46,
   "metadata": {},
   "outputs": [
    {
     "data": {
      "text/plain": [
       "['Title 2 - The Congress',\n",
       " 'Title 5 - Government Organization and Employees ٭',\n",
       " 'Title 6 - Domestic Security',\n",
       " 'Title 18 - Crimes and Criminal Procedure ٭',\n",
       " 'Title 19 - Customs Duties',\n",
       " 'Title 42 - The Public Health and Welfare']"
      ]
     },
     "execution_count": 46,
     "metadata": {},
     "output_type": "execute_result"
    }
   ],
   "source": [
    "res"
   ]
  },
  {
   "cell_type": "code",
   "execution_count": 47,
   "metadata": {},
   "outputs": [],
   "source": [
    "driver.close()"
   ]
  },
  {
   "cell_type": "markdown",
   "metadata": {},
   "source": [
    "#### A Python list with the top ten FBI's Most Wanted names "
   ]
  },
  {
   "cell_type": "code",
   "execution_count": 48,
   "metadata": {},
   "outputs": [],
   "source": [
    "# This is the url you will scrape in this exercise\n",
    "url = 'https://www.fbi.gov/wanted/topten'"
   ]
  },
  {
   "cell_type": "code",
   "execution_count": 49,
   "metadata": {},
   "outputs": [],
   "source": [
    "driver = webdriver.Chrome()"
   ]
  },
  {
   "cell_type": "code",
   "execution_count": 50,
   "metadata": {},
   "outputs": [],
   "source": [
    "driver.get(url)"
   ]
  },
  {
   "cell_type": "code",
   "execution_count": 51,
   "metadata": {},
   "outputs": [
    {
     "data": {
      "text/plain": [
       "[<selenium.webdriver.remote.webelement.WebElement (session=\"8a657083979f2e9856fb074362e7d28c\", element=\"f.5699A39899B902E3D235225072BD06BC.d.2FE5140025F518A97DF1DC016C63E6E9.e.28\")>,\n",
       " <selenium.webdriver.remote.webelement.WebElement (session=\"8a657083979f2e9856fb074362e7d28c\", element=\"f.5699A39899B902E3D235225072BD06BC.d.2FE5140025F518A97DF1DC016C63E6E9.e.29\")>,\n",
       " <selenium.webdriver.remote.webelement.WebElement (session=\"8a657083979f2e9856fb074362e7d28c\", element=\"f.5699A39899B902E3D235225072BD06BC.d.2FE5140025F518A97DF1DC016C63E6E9.e.30\")>,\n",
       " <selenium.webdriver.remote.webelement.WebElement (session=\"8a657083979f2e9856fb074362e7d28c\", element=\"f.5699A39899B902E3D235225072BD06BC.d.2FE5140025F518A97DF1DC016C63E6E9.e.31\")>,\n",
       " <selenium.webdriver.remote.webelement.WebElement (session=\"8a657083979f2e9856fb074362e7d28c\", element=\"f.5699A39899B902E3D235225072BD06BC.d.2FE5140025F518A97DF1DC016C63E6E9.e.32\")>,\n",
       " <selenium.webdriver.remote.webelement.WebElement (session=\"8a657083979f2e9856fb074362e7d28c\", element=\"f.5699A39899B902E3D235225072BD06BC.d.2FE5140025F518A97DF1DC016C63E6E9.e.33\")>,\n",
       " <selenium.webdriver.remote.webelement.WebElement (session=\"8a657083979f2e9856fb074362e7d28c\", element=\"f.5699A39899B902E3D235225072BD06BC.d.2FE5140025F518A97DF1DC016C63E6E9.e.34\")>,\n",
       " <selenium.webdriver.remote.webelement.WebElement (session=\"8a657083979f2e9856fb074362e7d28c\", element=\"f.5699A39899B902E3D235225072BD06BC.d.2FE5140025F518A97DF1DC016C63E6E9.e.35\")>,\n",
       " <selenium.webdriver.remote.webelement.WebElement (session=\"8a657083979f2e9856fb074362e7d28c\", element=\"f.5699A39899B902E3D235225072BD06BC.d.2FE5140025F518A97DF1DC016C63E6E9.e.36\")>,\n",
       " <selenium.webdriver.remote.webelement.WebElement (session=\"8a657083979f2e9856fb074362e7d28c\", element=\"f.5699A39899B902E3D235225072BD06BC.d.2FE5140025F518A97DF1DC016C63E6E9.e.37\")>,\n",
       " <selenium.webdriver.remote.webelement.WebElement (session=\"8a657083979f2e9856fb074362e7d28c\", element=\"f.5699A39899B902E3D235225072BD06BC.d.2FE5140025F518A97DF1DC016C63E6E9.e.38\")>,\n",
       " <selenium.webdriver.remote.webelement.WebElement (session=\"8a657083979f2e9856fb074362e7d28c\", element=\"f.5699A39899B902E3D235225072BD06BC.d.2FE5140025F518A97DF1DC016C63E6E9.e.39\")>]"
      ]
     },
     "execution_count": 51,
     "metadata": {},
     "output_type": "execute_result"
    }
   ],
   "source": [
    "fugitivos = driver.find_elements(By.TAG_NAME, 'h3')\n",
    "fugitivos"
   ]
  },
  {
   "cell_type": "code",
   "execution_count": 52,
   "metadata": {},
   "outputs": [
    {
     "data": {
      "text/plain": [
       "12"
      ]
     },
     "execution_count": 52,
     "metadata": {},
     "output_type": "execute_result"
    }
   ],
   "source": [
    "len(fugitivos)"
   ]
  },
  {
   "cell_type": "code",
   "execution_count": 53,
   "metadata": {},
   "outputs": [
    {
     "data": {
      "text/plain": [
       "'BHADRESHKUMAR CHETANBHAI PATEL'"
      ]
     },
     "execution_count": 53,
     "metadata": {},
     "output_type": "execute_result"
    }
   ],
   "source": [
    "fugitivos[0].text"
   ]
  },
  {
   "cell_type": "code",
   "execution_count": 54,
   "metadata": {},
   "outputs": [],
   "source": [
    "res = []\n",
    "\n",
    "for f in fugitivos:\n",
    "    res.append(f.text)"
   ]
  },
  {
   "cell_type": "code",
   "execution_count": 55,
   "metadata": {},
   "outputs": [
    {
     "data": {
      "text/plain": [
       "['BHADRESHKUMAR CHETANBHAI PATEL',\n",
       " 'ALEJANDRO ROSALES CASTILLO',\n",
       " 'DONALD EUGENE FIELDS II',\n",
       " 'RUJA IGNATOVA',\n",
       " 'WILVER VILLEGAS-PALOMINO',\n",
       " \"VITEL'HOMME INNOCENT\",\n",
       " 'ARNOLDO JIMENEZ',\n",
       " 'ALEXIS FLORES',\n",
       " 'OMAR ALEXANDER CARDENAS',\n",
       " 'YULAN ADONAY ARCHAGA CARIAS']"
      ]
     },
     "execution_count": 55,
     "metadata": {},
     "output_type": "execute_result"
    }
   ],
   "source": [
    "fugitivos = res[:-2]\n",
    "fugitivos"
   ]
  },
  {
   "cell_type": "code",
   "execution_count": 56,
   "metadata": {},
   "outputs": [
    {
     "data": {
      "text/plain": [
       "10"
      ]
     },
     "execution_count": 56,
     "metadata": {},
     "output_type": "execute_result"
    }
   ],
   "source": [
    "len(fugitivos)"
   ]
  },
  {
   "cell_type": "code",
   "execution_count": 57,
   "metadata": {},
   "outputs": [],
   "source": [
    "driver.close()"
   ]
  },
  {
   "cell_type": "markdown",
   "metadata": {},
   "source": [
    "####  20 latest earthquakes info (date, time, latitude, longitude and region name) by the EMSC as a pandas dataframe"
   ]
  },
  {
   "cell_type": "code",
   "execution_count": 69,
   "metadata": {},
   "outputs": [],
   "source": [
    "# This is the url you will scrape in this exercise\n",
    "url = 'https://www.emsc-csem.org/Earthquake/'"
   ]
  },
  {
   "cell_type": "code",
   "execution_count": 70,
   "metadata": {},
   "outputs": [],
   "source": [
    "driver = webdriver.Chrome()"
   ]
  },
  {
   "cell_type": "code",
   "execution_count": 71,
   "metadata": {},
   "outputs": [],
   "source": [
    "driver.get(url)"
   ]
  },
  {
   "cell_type": "code",
   "execution_count": 72,
   "metadata": {},
   "outputs": [],
   "source": [
    "import pandas as pd\n",
    "import numpy as np"
   ]
  },
  {
   "cell_type": "code",
   "execution_count": 73,
   "metadata": {},
   "outputs": [],
   "source": [
    "cookie = driver.find_element(By.XPATH, '//*[@id=\"cookieConsentContainer\"]/a/div').click()"
   ]
  },
  {
   "cell_type": "code",
   "execution_count": 74,
   "metadata": {
    "scrolled": true
   },
   "outputs": [
    {
     "data": {
      "text/plain": [
       "<selenium.webdriver.remote.webelement.WebElement (session=\"7fcc16dad475336e512469a2272854eb\", element=\"f.E3F7D540F1E5A6D848FD0E4B154F8A9B.d.D4BBD92073B7707D5E68368FA71509BB.e.113\")>"
      ]
     },
     "execution_count": 74,
     "metadata": {},
     "output_type": "execute_result"
    }
   ],
   "source": [
    "tabla = driver.find_elements(By.TAG_NAME, 'table')[2]\n",
    "tabla"
   ]
  },
  {
   "cell_type": "code",
   "execution_count": 75,
   "metadata": {},
   "outputs": [
    {
     "data": {
      "text/plain": [
       "<selenium.webdriver.remote.webelement.WebElement (session=\"7fcc16dad475336e512469a2272854eb\", element=\"f.E3F7D540F1E5A6D848FD0E4B154F8A9B.d.D4BBD92073B7707D5E68368FA71509BB.e.114\")>"
      ]
     },
     "execution_count": 75,
     "metadata": {},
     "output_type": "execute_result"
    }
   ],
   "source": [
    "encabezado = tabla.find_element(By.TAG_NAME, 'thead')\n",
    "encabezado"
   ]
  },
  {
   "cell_type": "code",
   "execution_count": 76,
   "metadata": {},
   "outputs": [
    {
     "data": {
      "text/plain": [
       "['Date & Time\\nUTC',\n",
       " 'Lat.\\ndegrees',\n",
       " 'Lon.\\ndegrees',\n",
       " 'Depth\\nkm',\n",
       " 'Mag.[+]',\n",
       " 'Region']"
      ]
     },
     "execution_count": 76,
     "metadata": {},
     "output_type": "execute_result"
    }
   ],
   "source": [
    "palabras_enc = [e.text for e in encabezado.find_elements(By.TAG_NAME, 'th')]\n",
    "palabras_enc = palabras_enc[2:]\n",
    "palabras_enc"
   ]
  },
  {
   "cell_type": "code",
   "execution_count": 77,
   "metadata": {},
   "outputs": [],
   "source": [
    "cuerpo = tabla.find_element(By.TAG_NAME, 'tbody')"
   ]
  },
  {
   "cell_type": "code",
   "execution_count": 78,
   "metadata": {},
   "outputs": [],
   "source": [
    "filas = cuerpo.find_elements(By.TAG_NAME, 'tr')"
   ]
  },
  {
   "cell_type": "code",
   "execution_count": 79,
   "metadata": {},
   "outputs": [
    {
     "data": {
      "text/plain": [
       "['2024-03-03 15:54:59',\n",
       " '20 min ago',\n",
       " '11.240 125.680 44 3.1 SAMAR, PHILIPPINES']"
      ]
     },
     "execution_count": 79,
     "metadata": {},
     "output_type": "execute_result"
    }
   ],
   "source": [
    "filas[0].text.split('\\n')"
   ]
  },
  {
   "cell_type": "code",
   "execution_count": 80,
   "metadata": {},
   "outputs": [
    {
     "data": {
      "text/plain": [
       "[<selenium.webdriver.remote.webelement.WebElement (session=\"7fcc16dad475336e512469a2272854eb\", element=\"f.E3F7D540F1E5A6D848FD0E4B154F8A9B.d.D4BBD92073B7707D5E68368FA71509BB.e.224\")>,\n",
       " <selenium.webdriver.remote.webelement.WebElement (session=\"7fcc16dad475336e512469a2272854eb\", element=\"f.E3F7D540F1E5A6D848FD0E4B154F8A9B.d.D4BBD92073B7707D5E68368FA71509BB.e.225\")>,\n",
       " <selenium.webdriver.remote.webelement.WebElement (session=\"7fcc16dad475336e512469a2272854eb\", element=\"f.E3F7D540F1E5A6D848FD0E4B154F8A9B.d.D4BBD92073B7707D5E68368FA71509BB.e.226\")>,\n",
       " <selenium.webdriver.remote.webelement.WebElement (session=\"7fcc16dad475336e512469a2272854eb\", element=\"f.E3F7D540F1E5A6D848FD0E4B154F8A9B.d.D4BBD92073B7707D5E68368FA71509BB.e.227\")>,\n",
       " <selenium.webdriver.remote.webelement.WebElement (session=\"7fcc16dad475336e512469a2272854eb\", element=\"f.E3F7D540F1E5A6D848FD0E4B154F8A9B.d.D4BBD92073B7707D5E68368FA71509BB.e.228\")>,\n",
       " <selenium.webdriver.remote.webelement.WebElement (session=\"7fcc16dad475336e512469a2272854eb\", element=\"f.E3F7D540F1E5A6D848FD0E4B154F8A9B.d.D4BBD92073B7707D5E68368FA71509BB.e.229\")>,\n",
       " <selenium.webdriver.remote.webelement.WebElement (session=\"7fcc16dad475336e512469a2272854eb\", element=\"f.E3F7D540F1E5A6D848FD0E4B154F8A9B.d.D4BBD92073B7707D5E68368FA71509BB.e.230\")>,\n",
       " <selenium.webdriver.remote.webelement.WebElement (session=\"7fcc16dad475336e512469a2272854eb\", element=\"f.E3F7D540F1E5A6D848FD0E4B154F8A9B.d.D4BBD92073B7707D5E68368FA71509BB.e.231\")>,\n",
       " <selenium.webdriver.remote.webelement.WebElement (session=\"7fcc16dad475336e512469a2272854eb\", element=\"f.E3F7D540F1E5A6D848FD0E4B154F8A9B.d.D4BBD92073B7707D5E68368FA71509BB.e.232\")>,\n",
       " <selenium.webdriver.remote.webelement.WebElement (session=\"7fcc16dad475336e512469a2272854eb\", element=\"f.E3F7D540F1E5A6D848FD0E4B154F8A9B.d.D4BBD92073B7707D5E68368FA71509BB.e.233\")>]"
      ]
     },
     "execution_count": 80,
     "metadata": {},
     "output_type": "execute_result"
    }
   ],
   "source": [
    "filas[0].find_elements(By.TAG_NAME, 'td')"
   ]
  },
  {
   "cell_type": "code",
   "execution_count": 81,
   "metadata": {},
   "outputs": [
    {
     "data": {
      "text/plain": [
       "['',\n",
       " '',\n",
       " '',\n",
       " '2024-03-03 15:54:59\\n20 min ago',\n",
       " '11.240',\n",
       " '125.680',\n",
       " '44',\n",
       " '',\n",
       " '3.1',\n",
       " 'SAMAR, PHILIPPINES']"
      ]
     },
     "execution_count": 81,
     "metadata": {},
     "output_type": "execute_result"
    }
   ],
   "source": [
    "[e.text for e in filas[0].find_elements(By.TAG_NAME, 'td')]"
   ]
  },
  {
   "cell_type": "code",
   "execution_count": 82,
   "metadata": {},
   "outputs": [
    {
     "data": {
      "text/plain": [
       "10"
      ]
     },
     "execution_count": 82,
     "metadata": {},
     "output_type": "execute_result"
    }
   ],
   "source": [
    "len([e.text for e in filas[0].find_elements(By.TAG_NAME, 'td')])"
   ]
  },
  {
   "cell_type": "code",
   "execution_count": 83,
   "metadata": {},
   "outputs": [
    {
     "data": {
      "text/plain": [
       "['2024-03-03 15:54:59\\n20 min ago',\n",
       " '11.240',\n",
       " '125.680',\n",
       " '44',\n",
       " '3.1',\n",
       " 'SAMAR, PHILIPPINES']"
      ]
     },
     "execution_count": 83,
     "metadata": {},
     "output_type": "execute_result"
    }
   ],
   "source": [
    "f = [e.text for e in filas[0].find_elements(By.TAG_NAME, 'td')][1:]\n",
    "\n",
    "res = []\n",
    "\n",
    "for e in f:\n",
    "    \n",
    "    if e!='':       \n",
    "        res.append(e)\n",
    "        \n",
    "res"
   ]
  },
  {
   "cell_type": "code",
   "execution_count": 84,
   "metadata": {},
   "outputs": [
    {
     "data": {
      "text/plain": [
       "6"
      ]
     },
     "execution_count": 84,
     "metadata": {},
     "output_type": "execute_result"
    }
   ],
   "source": [
    "len(res)"
   ]
  },
  {
   "cell_type": "code",
   "execution_count": 85,
   "metadata": {},
   "outputs": [],
   "source": [
    "data = []\n",
    "\n",
    "for f in filas:   \n",
    "    tmp = []    \n",
    "    d = [e.text for e in f.find_elements(By.TAG_NAME, 'td')][2:]\n",
    "\n",
    "    for casilla in d:\n",
    "\n",
    "        if casilla!='':\n",
    "            tmp.append(casilla)\n",
    "\n",
    "    data.append(tmp)"
   ]
  },
  {
   "cell_type": "code",
   "execution_count": 86,
   "metadata": {},
   "outputs": [
    {
     "data": {
      "text/plain": [
       "[['2024-03-03 15:54:59\\n20 min ago',\n",
       "  '11.240',\n",
       "  '125.680',\n",
       "  '44',\n",
       "  '3.1',\n",
       "  'SAMAR, PHILIPPINES'],\n",
       " ['2024-03-03 15:49:19\\n26 min ago',\n",
       "  '-8.860',\n",
       "  '112.480',\n",
       "  '28',\n",
       "  '4.3',\n",
       "  'JAVA, INDONESIA'],\n",
       " ['2024-03-03 15:47:02\\n28 min ago',\n",
       "  '28.108',\n",
       "  '-16.263',\n",
       "  '21',\n",
       "  '2.2',\n",
       "  'CANARY ISLANDS, SPAIN REGION'],\n",
       " ['2024-03-03 15:28:25\\n47 min ago',\n",
       "  '34.890',\n",
       "  '24.120',\n",
       "  '3',\n",
       "  '2.7',\n",
       "  'CRETE, GREECE'],\n",
       " ['2024-03-03 15:19:07\\n56 min ago', '38.160', '22.820', '5', '2.1', 'GREECE'],\n",
       " ['2024-03-03 15:13:49\\n1 hr 01 min ago',\n",
       "  '37.488',\n",
       "  '36.992',\n",
       "  '7',\n",
       "  '2.1',\n",
       "  'CENTRAL TURKEY'],\n",
       " ['2024-03-03 15:07:42\\n1 hr 08 min ago',\n",
       "  '-5.051',\n",
       "  '102.966',\n",
       "  '62',\n",
       "  '5.1',\n",
       "  'SOUTHERN SUMATRA, INDONESIA'],\n",
       " ['2024-03-03 15:03:36\\n1 hr 12 min ago',\n",
       "  '38.380',\n",
       "  '20.480',\n",
       "  '5',\n",
       "  '2.0',\n",
       "  'GREECE'],\n",
       " ['2024-03-03 14:50:42\\n1 hr 25 min ago',\n",
       "  '38.035',\n",
       "  '37.641',\n",
       "  '11',\n",
       "  '2.0',\n",
       "  'CENTRAL TURKEY'],\n",
       " ['2024-03-03 14:43:55\\n1 hr 31 min ago',\n",
       "  '38.043',\n",
       "  '37.659',\n",
       "  '7',\n",
       "  '4.3',\n",
       "  'CENTRAL TURKEY'],\n",
       " ['2024-03-03 14:42:37\\n1 hr 33 min ago',\n",
       "  '38.299',\n",
       "  '37.358',\n",
       "  '9',\n",
       "  '2.0',\n",
       "  'CENTRAL TURKEY'],\n",
       " ['2024-03-03 14:39:11\\n1 hr 36 min ago',\n",
       "  '38.380',\n",
       "  '20.470',\n",
       "  '5',\n",
       "  '2.2',\n",
       "  'GREECE'],\n",
       " ['2024-03-03 14:26:29\\n1 hr 49 min ago',\n",
       "  '38.360',\n",
       "  '20.510',\n",
       "  '5',\n",
       "  '2.2',\n",
       "  'GREECE'],\n",
       " ['2024-03-03 14:18:36\\n1 hr 57 min ago',\n",
       "  '38.360',\n",
       "  '20.480',\n",
       "  '5',\n",
       "  '2.4',\n",
       "  'GREECE'],\n",
       " ['2024-03-03 14:14:21\\n2 hr 01 min ago',\n",
       "  '-33.480',\n",
       "  '136.310',\n",
       "  '10',\n",
       "  '2.7',\n",
       "  'NEAR COAST OF SOUTH AUSTRALIA'],\n",
       " ['2024-03-03 14:11:54\\n2 hr 03 min ago',\n",
       "  '37.062',\n",
       "  '36.674',\n",
       "  '9',\n",
       "  '2.0',\n",
       "  'CENTRAL TURKEY'],\n",
       " ['2024-03-03 14:06:30\\n2 hr 09 min ago',\n",
       "  '-31.960',\n",
       "  '-69.650',\n",
       "  '132',\n",
       "  '3.1',\n",
       "  'SAN JUAN, ARGENTINA'],\n",
       " ['2024-03-03 14:04:39\\n2 hr 11 min ago',\n",
       "  '31.607',\n",
       "  '-103.992',\n",
       "  '6',\n",
       "  '2.3',\n",
       "  'WESTERN TEXAS'],\n",
       " ['2024-03-03 14:00:59\\n2 hr 14 min ago',\n",
       "  '38.360',\n",
       "  '20.480',\n",
       "  '5',\n",
       "  '2.7',\n",
       "  'GREECE'],\n",
       " ['2024-03-03 13:40:21\\n2 hr 35 min ago',\n",
       "  '38.400',\n",
       "  '20.390',\n",
       "  '5',\n",
       "  '2.3',\n",
       "  'GREECE'],\n",
       " ['2024-03-03 13:37:59\\n2 hr 37 min ago',\n",
       "  '-2.500',\n",
       "  '140.450',\n",
       "  '10',\n",
       "  '4.2',\n",
       "  'NEAR N COAST OF PAPUA, INDONESIA'],\n",
       " ['2024-03-03 13:35:09\\n2 hr 40 min ago',\n",
       "  '38.380',\n",
       "  '20.507',\n",
       "  '8',\n",
       "  '3.5',\n",
       "  'GREECE'],\n",
       " ['2024-03-03 13:34:30\\n2 hr 41 min ago',\n",
       "  '-31.260',\n",
       "  '-68.910',\n",
       "  '76',\n",
       "  '3.1',\n",
       "  'SAN JUAN, ARGENTINA'],\n",
       " ['2024-03-03 13:21:56\\n2 hr 53 min ago',\n",
       "  '-32.640',\n",
       "  '151.960',\n",
       "  '10',\n",
       "  '2.6',\n",
       "  'NEAR S.E. COAST OF AUSTRALIA'],\n",
       " ['2024-03-03 13:13:36\\n3 hr 02 min ago',\n",
       "  '37.604',\n",
       "  '35.851',\n",
       "  '7',\n",
       "  '2.7',\n",
       "  'CENTRAL TURKEY'],\n",
       " ['2024-03-03 13:09:37\\n3 hr 06 min ago',\n",
       "  '37.010',\n",
       "  '23.830',\n",
       "  '15',\n",
       "  '3.2',\n",
       "  'SOUTHERN GREECE'],\n",
       " ['2024-03-03 13:04:33\\n3 hr 11 min ago',\n",
       "  '38.190',\n",
       "  '22.810',\n",
       "  '5',\n",
       "  '2.0',\n",
       "  'GREECE'],\n",
       " ['2024-03-03 13:03:30\\n3 hr 12 min ago',\n",
       "  '-31.340',\n",
       "  '-68.820',\n",
       "  '69',\n",
       "  '3.1',\n",
       "  'SAN JUAN, ARGENTINA'],\n",
       " ['2024-03-03 12:56:33\\n3 hr 19 min ago',\n",
       "  '40.223',\n",
       "  '-121.078',\n",
       "  '-1',\n",
       "  '2.2',\n",
       "  'NORTHERN CALIFORNIA'],\n",
       " ['2024-03-03 12:36:37\\n3 hr 39 min ago',\n",
       "  '2.718',\n",
       "  '99.156',\n",
       "  '174',\n",
       "  '4.8',\n",
       "  'NORTHERN SUMATRA, INDONESIA'],\n",
       " ['2024-03-03 12:29:55\\n3 hr 45 min ago',\n",
       "  '8.180',\n",
       "  '126.540',\n",
       "  '68',\n",
       "  '3.6',\n",
       "  'MINDANAO, PHILIPPINES'],\n",
       " ['2024-03-03 12:28:28\\n3 hr 47 min ago',\n",
       "  '38.390',\n",
       "  '20.490',\n",
       "  '14',\n",
       "  '2.0',\n",
       "  'GREECE'],\n",
       " ['2024-03-03 12:26:08\\n3 hr 49 min ago',\n",
       "  '37.624',\n",
       "  '35.782',\n",
       "  '3',\n",
       "  '2.2',\n",
       "  'CENTRAL TURKEY'],\n",
       " ['2024-03-03 12:26:05\\n3 hr 49 min ago',\n",
       "  '37.530',\n",
       "  '21.670',\n",
       "  '57',\n",
       "  '2.5',\n",
       "  'SOUTHERN GREECE'],\n",
       " ['2024-03-03 12:23:45\\n3 hr 51 min ago',\n",
       "  '38.068',\n",
       "  '38.404',\n",
       "  '8',\n",
       "  '2.2',\n",
       "  'EASTERN TURKEY'],\n",
       " ['2024-03-03 11:59:10\\n4 hr 16 min ago',\n",
       "  '31.606',\n",
       "  '-103.980',\n",
       "  '7',\n",
       "  '2.5',\n",
       "  'WESTERN TEXAS'],\n",
       " ['2024-03-03 11:54:41\\n4 hr 21 min ago',\n",
       "  '38.380',\n",
       "  '20.470',\n",
       "  '5',\n",
       "  '2.2',\n",
       "  'GREECE'],\n",
       " ['2024-03-03 11:49:59\\n4 hr 25 min ago',\n",
       "  '-35.087',\n",
       "  '178.903',\n",
       "  '146',\n",
       "  '3.7',\n",
       "  'OFF E. COAST OF N. ISLAND, N.Z.'],\n",
       " ['2024-03-03 11:41:12\\n4 hr 34 min ago',\n",
       "  '38.090',\n",
       "  '22.110',\n",
       "  '35',\n",
       "  '2.2',\n",
       "  'GREECE'],\n",
       " ['2024-03-03 11:38:05\\n4 hr 37 min ago',\n",
       "  '-7.610',\n",
       "  '128.320',\n",
       "  '162',\n",
       "  '4.0',\n",
       "  'KEPULAUAN BARAT DAYA, INDONESIA'],\n",
       " ['2024-03-03 11:34:04\\n4 hr 41 min ago',\n",
       "  '19.224',\n",
       "  '-155.511',\n",
       "  '40',\n",
       "  '3.1',\n",
       "  'ISLAND OF HAWAII, HAWAII'],\n",
       " ['2024-03-03 11:33:34\\n4 hr 42 min ago',\n",
       "  '40.309',\n",
       "  '27.036',\n",
       "  '7',\n",
       "  '1.5',\n",
       "  'WESTERN TURKEY'],\n",
       " ['2024-03-03 11:31:36\\n4 hr 44 min ago',\n",
       "  '38.700',\n",
       "  '21.590',\n",
       "  '13',\n",
       "  '2.0',\n",
       "  'GREECE'],\n",
       " ['2024-03-03 11:29:24\\n4 hr 46 min ago',\n",
       "  '38.200',\n",
       "  '22.800',\n",
       "  '5',\n",
       "  '2.3',\n",
       "  'GREECE'],\n",
       " ['2024-03-03 11:27:20\\n4 hr 48 min ago',\n",
       "  '39.604',\n",
       "  '26.070',\n",
       "  '8',\n",
       "  '1.1',\n",
       "  'NEAR THE COAST OF WESTERN TURKEY'],\n",
       " ['2024-03-03 11:24:20\\n4 hr 51 min ago',\n",
       "  '17.810',\n",
       "  '120.360',\n",
       "  '31',\n",
       "  '3.4',\n",
       "  'LUZON, PHILIPPINES'],\n",
       " ['2024-03-03 11:20:35\\n4 hr 55 min ago',\n",
       "  '38.400',\n",
       "  '20.480',\n",
       "  '0',\n",
       "  '2.3',\n",
       "  'GREECE'],\n",
       " ['2024-03-03 11:18:17\\n4 hr 57 min ago',\n",
       "  '38.380',\n",
       "  '20.500',\n",
       "  '5',\n",
       "  '2.1',\n",
       "  'GREECE'],\n",
       " ['2024-03-03 11:17:20\\n4 hr 58 min ago',\n",
       "  '41.820',\n",
       "  '2.952',\n",
       "  '1',\n",
       "  '2.7',\n",
       "  'SPAIN'],\n",
       " ['2024-03-03 10:55:30\\n5 hr 20 min ago',\n",
       "  '-31.513',\n",
       "  '-69.853',\n",
       "  '126',\n",
       "  '3.2',\n",
       "  'SAN JUAN, ARGENTINA'],\n",
       " ['2024-03-03 10:52:23\\n5 hr 23 min ago',\n",
       "  '39.756',\n",
       "  '26.091',\n",
       "  '5',\n",
       "  '2.0',\n",
       "  'NEAR THE COAST OF WESTERN TURKEY'],\n",
       " ['2024-03-03 10:49:00\\n5 hr 26 min ago',\n",
       "  '38.381',\n",
       "  '20.486',\n",
       "  '8',\n",
       "  '3.0',\n",
       "  'GREECE'],\n",
       " ['2024-03-03 10:48:56\\n5 hr 26 min ago',\n",
       "  '40.805',\n",
       "  '28.000',\n",
       "  '14',\n",
       "  '2.2',\n",
       "  'WESTERN TURKEY'],\n",
       " ['2024-03-03 10:46:10\\n5 hr 29 min ago',\n",
       "  '38.123',\n",
       "  '38.444',\n",
       "  '5',\n",
       "  '2.2',\n",
       "  'EASTERN TURKEY'],\n",
       " ['2024-03-03 10:38:04\\n5 hr 37 min ago',\n",
       "  '38.400',\n",
       "  '20.440',\n",
       "  '5',\n",
       "  '2.2',\n",
       "  'GREECE'],\n",
       " ['2024-03-03 10:36:13\\n5 hr 39 min ago',\n",
       "  '38.386',\n",
       "  '20.476',\n",
       "  '12',\n",
       "  '3.5',\n",
       "  'GREECE'],\n",
       " ['2024-03-03 10:28:06\\n5 hr 47 min ago',\n",
       "  '38.410',\n",
       "  '20.460',\n",
       "  '0',\n",
       "  '2.4',\n",
       "  'GREECE'],\n",
       " ['2024-03-03 10:20:01\\n5 hr 55 min ago',\n",
       "  '18.060',\n",
       "  '-93.720',\n",
       "  '5',\n",
       "  '3.5',\n",
       "  'TABASCO, MEXICO'],\n",
       " ['2024-03-03 10:14:52\\n6 hr 00 min ago',\n",
       "  '38.450',\n",
       "  '21.800',\n",
       "  '7',\n",
       "  '2.0',\n",
       "  'GREECE'],\n",
       " ['2024-03-03 10:11:35\\n6 hr 04 min ago',\n",
       "  '37.555',\n",
       "  '35.842',\n",
       "  '6',\n",
       "  '3.3',\n",
       "  'CENTRAL TURKEY'],\n",
       " ['2024-03-03 10:07:08\\n6 hr 08 min ago',\n",
       "  '41.155',\n",
       "  '78.500',\n",
       "  '2',\n",
       "  '4.4',\n",
       "  'SOUTHERN XINJIANG, CHINA'],\n",
       " ['2024-03-03 09:55:08\\n6 hr 20 min ago',\n",
       "  '-5.250',\n",
       "  '133.940',\n",
       "  '18',\n",
       "  '4.3',\n",
       "  'KEPULAUAN KAI, INDONESIA'],\n",
       " ['2024-03-03 09:53:36\\n6 hr 22 min ago',\n",
       "  '38.400',\n",
       "  '20.480',\n",
       "  '5',\n",
       "  '2.0',\n",
       "  'GREECE'],\n",
       " ['2024-03-03 09:51:57\\n6 hr 23 min ago',\n",
       "  '16.750',\n",
       "  '-99.240',\n",
       "  '46',\n",
       "  '3.8',\n",
       "  'GUERRERO, MEXICO'],\n",
       " ['2024-03-03 09:48:25\\n6 hr 27 min ago',\n",
       "  '16.580',\n",
       "  '-95.150',\n",
       "  '12',\n",
       "  '3.5',\n",
       "  'OAXACA, MEXICO'],\n",
       " ['2024-03-03 09:43:42\\n6 hr 32 min ago',\n",
       "  '31.606',\n",
       "  '-103.989',\n",
       "  '5',\n",
       "  '2.0',\n",
       "  'WESTERN TEXAS'],\n",
       " ['2024-03-03 09:42:07\\n6 hr 33 min ago',\n",
       "  '15.200',\n",
       "  '-92.080',\n",
       "  '10',\n",
       "  '3.9',\n",
       "  'GUATEMALA'],\n",
       " ['2024-03-03 09:40:09\\n6 hr 35 min ago',\n",
       "  '19.547',\n",
       "  '-65.279',\n",
       "  '25',\n",
       "  '3.9',\n",
       "  'PUERTO RICO REGION'],\n",
       " ['2024-03-03 09:36:33\\n6 hr 39 min ago',\n",
       "  '38.390',\n",
       "  '20.460',\n",
       "  '5',\n",
       "  '2.2',\n",
       "  'GREECE'],\n",
       " ['2024-03-03 09:36:26\\n6 hr 39 min ago',\n",
       "  '31.618',\n",
       "  '-103.986',\n",
       "  '7',\n",
       "  '3.3',\n",
       "  'WESTERN TEXAS'],\n",
       " ['2024-03-03 09:35:45\\n6 hr 39 min ago', 'EASTERN KAZAKHSTAN'],\n",
       " ['2024-03-03 09:35:20\\n6 hr 40 min ago',\n",
       "  '28.622',\n",
       "  '-17.883',\n",
       "  '1',\n",
       "  '1.8',\n",
       "  'CANARY ISLANDS, SPAIN REGION'],\n",
       " ['2024-03-03 09:34:53\\n6 hr 40 min ago',\n",
       "  '32.795',\n",
       "  '-115.811',\n",
       "  '10',\n",
       "  '2.0',\n",
       "  'SOUTHERN CALIFORNIA'],\n",
       " ['2024-03-03 09:32:57\\n6 hr 42 min ago',\n",
       "  '38.420',\n",
       "  '20.540',\n",
       "  '16',\n",
       "  '2.0',\n",
       "  'GREECE'],\n",
       " ['2024-03-03 09:30:13\\n6 hr 45 min ago',\n",
       "  '35.858',\n",
       "  '33.617',\n",
       "  '11',\n",
       "  '2.5',\n",
       "  'CYPRUS REGION'],\n",
       " ['2024-03-03 09:30:01\\n6 hr 45 min ago',\n",
       "  '8.620',\n",
       "  '127.110',\n",
       "  '1',\n",
       "  '3.0',\n",
       "  'PHILIPPINE ISLANDS REGION'],\n",
       " ['2024-03-03 09:26:10\\n6 hr 49 min ago',\n",
       "  '38.400',\n",
       "  '20.480',\n",
       "  '5',\n",
       "  '2.5',\n",
       "  'GREECE'],\n",
       " ['2024-03-03 09:24:31\\n6 hr 51 min ago',\n",
       "  '41.200',\n",
       "  '78.460',\n",
       "  '10',\n",
       "  '4.5',\n",
       "  'SOUTHERN XINJIANG, CHINA'],\n",
       " ['2024-03-03 09:20:53\\n6 hr 54 min ago',\n",
       "  '31.615',\n",
       "  '-103.989',\n",
       "  '5',\n",
       "  '3.1',\n",
       "  'WESTERN TEXAS'],\n",
       " ['2024-03-03 09:20:03\\n6 hr 55 min ago',\n",
       "  '32.776',\n",
       "  '-115.844',\n",
       "  '2',\n",
       "  '2.5',\n",
       "  'SOUTHERN CALIFORNIA'],\n",
       " ['2024-03-03 09:17:32\\n6 hr 58 min ago',\n",
       "  '31.607',\n",
       "  '-103.982',\n",
       "  '6',\n",
       "  '2.7',\n",
       "  'WESTERN TEXAS'],\n",
       " ['2024-03-03 09:15:24\\n7 hr 00 min ago',\n",
       "  '31.609',\n",
       "  '-103.983',\n",
       "  '5',\n",
       "  '3.8',\n",
       "  'WESTERN TEXAS'],\n",
       " ['2024-03-03 09:14:52\\n7 hr 00 min ago',\n",
       "  '19.210',\n",
       "  '-155.489',\n",
       "  '30',\n",
       "  '2.5',\n",
       "  'ISLAND OF HAWAII, HAWAII'],\n",
       " ['2024-03-03 09:04:40\\n7 hr 11 min ago',\n",
       "  '40.136',\n",
       "  '-0.748',\n",
       "  '2',\n",
       "  '2.0',\n",
       "  'SPAIN'],\n",
       " ['2024-03-03 09:02:48\\n7 hr 12 min ago',\n",
       "  '19.395',\n",
       "  '-155.278',\n",
       "  '0',\n",
       "  '2.4',\n",
       "  'ISLAND OF HAWAII, HAWAII'],\n",
       " ['2024-03-03 09:01:55\\n7 hr 13 min ago',\n",
       "  '40.816',\n",
       "  '14.159',\n",
       "  '3',\n",
       "  '3.4',\n",
       "  'SOUTHERN ITALY'],\n",
       " ['2024-03-03 08:54:13\\n7 hr 21 min ago',\n",
       "  '38.878',\n",
       "  '42.751',\n",
       "  '7',\n",
       "  '2.3',\n",
       "  'EASTERN TURKEY'],\n",
       " ['2024-03-03 08:51:40\\n7 hr 24 min ago',\n",
       "  '40.625',\n",
       "  '-124.355',\n",
       "  '6',\n",
       "  '2.2',\n",
       "  'OFFSHORE NORTHERN CALIFORNIA'],\n",
       " ['2024-03-03 08:50:13\\n7 hr 25 min ago',\n",
       "  '13.510',\n",
       "  '120.720',\n",
       "  '10',\n",
       "  '4.6',\n",
       "  'MINDORO, PHILIPPINES'],\n",
       " ['2024-03-03 08:47:16\\n7 hr 28 min ago',\n",
       "  '38.070',\n",
       "  '36.451',\n",
       "  '7',\n",
       "  '2.1',\n",
       "  'CENTRAL TURKEY'],\n",
       " ['2024-03-03 08:46:58\\n7 hr 28 min ago',\n",
       "  '40.310',\n",
       "  '27.003',\n",
       "  '8',\n",
       "  '1.3',\n",
       "  'WESTERN TURKEY'],\n",
       " ['2024-03-03 08:46:37\\n7 hr 29 min ago',\n",
       "  '18.560',\n",
       "  '-96.090',\n",
       "  '117',\n",
       "  '3.7',\n",
       "  'VERACRUZ, MEXICO'],\n",
       " ['2024-03-03 08:38:50\\n7 hr 36 min ago',\n",
       "  '38.380',\n",
       "  '20.480',\n",
       "  '5',\n",
       "  '2.2',\n",
       "  'GREECE'],\n",
       " ['2024-03-03 08:34:06\\n7 hr 41 min ago',\n",
       "  '38.353',\n",
       "  '20.500',\n",
       "  '7',\n",
       "  '3.1',\n",
       "  'GREECE'],\n",
       " ['2024-03-03 08:32:00\\n7 hr 43 min ago',\n",
       "  '41.203',\n",
       "  '141.968',\n",
       "  '60',\n",
       "  '4.9',\n",
       "  'HOKKAIDO, JAPAN REGION'],\n",
       " ['2024-03-03 08:30:28\\n7 hr 45 min ago',\n",
       "  '38.390',\n",
       "  '20.490',\n",
       "  '14',\n",
       "  '2.1',\n",
       "  'GREECE'],\n",
       " ['2024-03-03 08:28:51\\n7 hr 46 min ago',\n",
       "  '38.400',\n",
       "  '20.480',\n",
       "  '6',\n",
       "  '2.7',\n",
       "  'GREECE'],\n",
       " ['2024-03-03 08:27:47\\n7 hr 47 min ago',\n",
       "  '38.400',\n",
       "  '20.464',\n",
       "  '9',\n",
       "  '3.2',\n",
       "  'GREECE'],\n",
       " ['2024-03-03 08:25:12\\n7 hr 50 min ago',\n",
       "  '38.400',\n",
       "  '20.480',\n",
       "  '3',\n",
       "  '3.0',\n",
       "  'GREECE'],\n",
       " ['2024-03-03 08:18:43\\n7 hr 57 min ago',\n",
       "  '38.390',\n",
       "  '20.490',\n",
       "  '2',\n",
       "  '2.8',\n",
       "  'GREECE']]"
      ]
     },
     "execution_count": 86,
     "metadata": {},
     "output_type": "execute_result"
    }
   ],
   "source": [
    "data"
   ]
  },
  {
   "cell_type": "code",
   "execution_count": 87,
   "metadata": {},
   "outputs": [
    {
     "data": {
      "text/html": [
       "<div>\n",
       "<style scoped>\n",
       "    .dataframe tbody tr th:only-of-type {\n",
       "        vertical-align: middle;\n",
       "    }\n",
       "\n",
       "    .dataframe tbody tr th {\n",
       "        vertical-align: top;\n",
       "    }\n",
       "\n",
       "    .dataframe thead th {\n",
       "        text-align: right;\n",
       "    }\n",
       "</style>\n",
       "<table border=\"1\" class=\"dataframe\">\n",
       "  <thead>\n",
       "    <tr style=\"text-align: right;\">\n",
       "      <th></th>\n",
       "      <th>Date &amp; Time\\nUTC</th>\n",
       "      <th>Lat.\\ndegrees</th>\n",
       "      <th>Lon.\\ndegrees</th>\n",
       "      <th>Depth\\nkm</th>\n",
       "      <th>Mag.[+]</th>\n",
       "      <th>Region</th>\n",
       "    </tr>\n",
       "  </thead>\n",
       "  <tbody>\n",
       "    <tr>\n",
       "      <th>0</th>\n",
       "      <td>2024-03-03 15:54:59\\n20 min ago</td>\n",
       "      <td>11.240</td>\n",
       "      <td>125.680</td>\n",
       "      <td>44</td>\n",
       "      <td>3.1</td>\n",
       "      <td>SAMAR, PHILIPPINES</td>\n",
       "    </tr>\n",
       "    <tr>\n",
       "      <th>1</th>\n",
       "      <td>2024-03-03 15:49:19\\n26 min ago</td>\n",
       "      <td>-8.860</td>\n",
       "      <td>112.480</td>\n",
       "      <td>28</td>\n",
       "      <td>4.3</td>\n",
       "      <td>JAVA, INDONESIA</td>\n",
       "    </tr>\n",
       "    <tr>\n",
       "      <th>2</th>\n",
       "      <td>2024-03-03 15:47:02\\n28 min ago</td>\n",
       "      <td>28.108</td>\n",
       "      <td>-16.263</td>\n",
       "      <td>21</td>\n",
       "      <td>2.2</td>\n",
       "      <td>CANARY ISLANDS, SPAIN REGION</td>\n",
       "    </tr>\n",
       "    <tr>\n",
       "      <th>3</th>\n",
       "      <td>2024-03-03 15:28:25\\n47 min ago</td>\n",
       "      <td>34.890</td>\n",
       "      <td>24.120</td>\n",
       "      <td>3</td>\n",
       "      <td>2.7</td>\n",
       "      <td>CRETE, GREECE</td>\n",
       "    </tr>\n",
       "    <tr>\n",
       "      <th>4</th>\n",
       "      <td>2024-03-03 15:19:07\\n56 min ago</td>\n",
       "      <td>38.160</td>\n",
       "      <td>22.820</td>\n",
       "      <td>5</td>\n",
       "      <td>2.1</td>\n",
       "      <td>GREECE</td>\n",
       "    </tr>\n",
       "    <tr>\n",
       "      <th>...</th>\n",
       "      <td>...</td>\n",
       "      <td>...</td>\n",
       "      <td>...</td>\n",
       "      <td>...</td>\n",
       "      <td>...</td>\n",
       "      <td>...</td>\n",
       "    </tr>\n",
       "    <tr>\n",
       "      <th>95</th>\n",
       "      <td>2024-03-03 08:30:28\\n7 hr 45 min ago</td>\n",
       "      <td>38.390</td>\n",
       "      <td>20.490</td>\n",
       "      <td>14</td>\n",
       "      <td>2.1</td>\n",
       "      <td>GREECE</td>\n",
       "    </tr>\n",
       "    <tr>\n",
       "      <th>96</th>\n",
       "      <td>2024-03-03 08:28:51\\n7 hr 46 min ago</td>\n",
       "      <td>38.400</td>\n",
       "      <td>20.480</td>\n",
       "      <td>6</td>\n",
       "      <td>2.7</td>\n",
       "      <td>GREECE</td>\n",
       "    </tr>\n",
       "    <tr>\n",
       "      <th>97</th>\n",
       "      <td>2024-03-03 08:27:47\\n7 hr 47 min ago</td>\n",
       "      <td>38.400</td>\n",
       "      <td>20.464</td>\n",
       "      <td>9</td>\n",
       "      <td>3.2</td>\n",
       "      <td>GREECE</td>\n",
       "    </tr>\n",
       "    <tr>\n",
       "      <th>98</th>\n",
       "      <td>2024-03-03 08:25:12\\n7 hr 50 min ago</td>\n",
       "      <td>38.400</td>\n",
       "      <td>20.480</td>\n",
       "      <td>3</td>\n",
       "      <td>3.0</td>\n",
       "      <td>GREECE</td>\n",
       "    </tr>\n",
       "    <tr>\n",
       "      <th>99</th>\n",
       "      <td>2024-03-03 08:18:43\\n7 hr 57 min ago</td>\n",
       "      <td>38.390</td>\n",
       "      <td>20.490</td>\n",
       "      <td>2</td>\n",
       "      <td>2.8</td>\n",
       "      <td>GREECE</td>\n",
       "    </tr>\n",
       "  </tbody>\n",
       "</table>\n",
       "<p>100 rows × 6 columns</p>\n",
       "</div>"
      ],
      "text/plain": [
       "                        Date & Time\\nUTC Lat.\\ndegrees Lon.\\ndegrees  \\\n",
       "0        2024-03-03 15:54:59\\n20 min ago        11.240       125.680   \n",
       "1        2024-03-03 15:49:19\\n26 min ago        -8.860       112.480   \n",
       "2        2024-03-03 15:47:02\\n28 min ago        28.108       -16.263   \n",
       "3        2024-03-03 15:28:25\\n47 min ago        34.890        24.120   \n",
       "4        2024-03-03 15:19:07\\n56 min ago        38.160        22.820   \n",
       "..                                   ...           ...           ...   \n",
       "95  2024-03-03 08:30:28\\n7 hr 45 min ago        38.390        20.490   \n",
       "96  2024-03-03 08:28:51\\n7 hr 46 min ago        38.400        20.480   \n",
       "97  2024-03-03 08:27:47\\n7 hr 47 min ago        38.400        20.464   \n",
       "98  2024-03-03 08:25:12\\n7 hr 50 min ago        38.400        20.480   \n",
       "99  2024-03-03 08:18:43\\n7 hr 57 min ago        38.390        20.490   \n",
       "\n",
       "   Depth\\nkm Mag.[+]                        Region  \n",
       "0         44     3.1            SAMAR, PHILIPPINES  \n",
       "1         28     4.3               JAVA, INDONESIA  \n",
       "2         21     2.2  CANARY ISLANDS, SPAIN REGION  \n",
       "3          3     2.7                 CRETE, GREECE  \n",
       "4          5     2.1                        GREECE  \n",
       "..       ...     ...                           ...  \n",
       "95        14     2.1                        GREECE  \n",
       "96         6     2.7                        GREECE  \n",
       "97         9     3.2                        GREECE  \n",
       "98         3     3.0                        GREECE  \n",
       "99         2     2.8                        GREECE  \n",
       "\n",
       "[100 rows x 6 columns]"
      ]
     },
     "execution_count": 87,
     "metadata": {},
     "output_type": "execute_result"
    }
   ],
   "source": [
    "df = pd.DataFrame(data, columns = palabras_enc)\n",
    "df"
   ]
  },
  {
   "cell_type": "code",
   "execution_count": 88,
   "metadata": {
    "scrolled": true
   },
   "outputs": [
    {
     "data": {
      "text/html": [
       "<div>\n",
       "<style scoped>\n",
       "    .dataframe tbody tr th:only-of-type {\n",
       "        vertical-align: middle;\n",
       "    }\n",
       "\n",
       "    .dataframe tbody tr th {\n",
       "        vertical-align: top;\n",
       "    }\n",
       "\n",
       "    .dataframe thead th {\n",
       "        text-align: right;\n",
       "    }\n",
       "</style>\n",
       "<table border=\"1\" class=\"dataframe\">\n",
       "  <thead>\n",
       "    <tr style=\"text-align: right;\">\n",
       "      <th></th>\n",
       "      <th>Date &amp; Time\\nUTC</th>\n",
       "      <th>Lat.\\ndegrees</th>\n",
       "      <th>Lon.\\ndegrees</th>\n",
       "      <th>Depth\\nkm</th>\n",
       "      <th>Mag.[+]</th>\n",
       "      <th>Region</th>\n",
       "    </tr>\n",
       "  </thead>\n",
       "  <tbody>\n",
       "    <tr>\n",
       "      <th>0</th>\n",
       "      <td>2024-03-03 15:54:59\\n20 min ago</td>\n",
       "      <td>11.240</td>\n",
       "      <td>125.680</td>\n",
       "      <td>44</td>\n",
       "      <td>3.1</td>\n",
       "      <td>SAMAR, PHILIPPINES</td>\n",
       "    </tr>\n",
       "    <tr>\n",
       "      <th>1</th>\n",
       "      <td>2024-03-03 15:49:19\\n26 min ago</td>\n",
       "      <td>-8.860</td>\n",
       "      <td>112.480</td>\n",
       "      <td>28</td>\n",
       "      <td>4.3</td>\n",
       "      <td>JAVA, INDONESIA</td>\n",
       "    </tr>\n",
       "    <tr>\n",
       "      <th>2</th>\n",
       "      <td>2024-03-03 15:47:02\\n28 min ago</td>\n",
       "      <td>28.108</td>\n",
       "      <td>-16.263</td>\n",
       "      <td>21</td>\n",
       "      <td>2.2</td>\n",
       "      <td>CANARY ISLANDS, SPAIN REGION</td>\n",
       "    </tr>\n",
       "    <tr>\n",
       "      <th>3</th>\n",
       "      <td>2024-03-03 15:28:25\\n47 min ago</td>\n",
       "      <td>34.890</td>\n",
       "      <td>24.120</td>\n",
       "      <td>3</td>\n",
       "      <td>2.7</td>\n",
       "      <td>CRETE, GREECE</td>\n",
       "    </tr>\n",
       "    <tr>\n",
       "      <th>4</th>\n",
       "      <td>2024-03-03 15:19:07\\n56 min ago</td>\n",
       "      <td>38.160</td>\n",
       "      <td>22.820</td>\n",
       "      <td>5</td>\n",
       "      <td>2.1</td>\n",
       "      <td>GREECE</td>\n",
       "    </tr>\n",
       "    <tr>\n",
       "      <th>5</th>\n",
       "      <td>2024-03-03 15:13:49\\n1 hr 01 min ago</td>\n",
       "      <td>37.488</td>\n",
       "      <td>36.992</td>\n",
       "      <td>7</td>\n",
       "      <td>2.1</td>\n",
       "      <td>CENTRAL TURKEY</td>\n",
       "    </tr>\n",
       "    <tr>\n",
       "      <th>6</th>\n",
       "      <td>2024-03-03 15:07:42\\n1 hr 08 min ago</td>\n",
       "      <td>-5.051</td>\n",
       "      <td>102.966</td>\n",
       "      <td>62</td>\n",
       "      <td>5.1</td>\n",
       "      <td>SOUTHERN SUMATRA, INDONESIA</td>\n",
       "    </tr>\n",
       "    <tr>\n",
       "      <th>7</th>\n",
       "      <td>2024-03-03 15:03:36\\n1 hr 12 min ago</td>\n",
       "      <td>38.380</td>\n",
       "      <td>20.480</td>\n",
       "      <td>5</td>\n",
       "      <td>2.0</td>\n",
       "      <td>GREECE</td>\n",
       "    </tr>\n",
       "    <tr>\n",
       "      <th>8</th>\n",
       "      <td>2024-03-03 14:50:42\\n1 hr 25 min ago</td>\n",
       "      <td>38.035</td>\n",
       "      <td>37.641</td>\n",
       "      <td>11</td>\n",
       "      <td>2.0</td>\n",
       "      <td>CENTRAL TURKEY</td>\n",
       "    </tr>\n",
       "    <tr>\n",
       "      <th>9</th>\n",
       "      <td>2024-03-03 14:43:55\\n1 hr 31 min ago</td>\n",
       "      <td>38.043</td>\n",
       "      <td>37.659</td>\n",
       "      <td>7</td>\n",
       "      <td>4.3</td>\n",
       "      <td>CENTRAL TURKEY</td>\n",
       "    </tr>\n",
       "    <tr>\n",
       "      <th>10</th>\n",
       "      <td>2024-03-03 14:42:37\\n1 hr 33 min ago</td>\n",
       "      <td>38.299</td>\n",
       "      <td>37.358</td>\n",
       "      <td>9</td>\n",
       "      <td>2.0</td>\n",
       "      <td>CENTRAL TURKEY</td>\n",
       "    </tr>\n",
       "    <tr>\n",
       "      <th>11</th>\n",
       "      <td>2024-03-03 14:39:11\\n1 hr 36 min ago</td>\n",
       "      <td>38.380</td>\n",
       "      <td>20.470</td>\n",
       "      <td>5</td>\n",
       "      <td>2.2</td>\n",
       "      <td>GREECE</td>\n",
       "    </tr>\n",
       "    <tr>\n",
       "      <th>12</th>\n",
       "      <td>2024-03-03 14:26:29\\n1 hr 49 min ago</td>\n",
       "      <td>38.360</td>\n",
       "      <td>20.510</td>\n",
       "      <td>5</td>\n",
       "      <td>2.2</td>\n",
       "      <td>GREECE</td>\n",
       "    </tr>\n",
       "    <tr>\n",
       "      <th>13</th>\n",
       "      <td>2024-03-03 14:18:36\\n1 hr 57 min ago</td>\n",
       "      <td>38.360</td>\n",
       "      <td>20.480</td>\n",
       "      <td>5</td>\n",
       "      <td>2.4</td>\n",
       "      <td>GREECE</td>\n",
       "    </tr>\n",
       "    <tr>\n",
       "      <th>14</th>\n",
       "      <td>2024-03-03 14:14:21\\n2 hr 01 min ago</td>\n",
       "      <td>-33.480</td>\n",
       "      <td>136.310</td>\n",
       "      <td>10</td>\n",
       "      <td>2.7</td>\n",
       "      <td>NEAR COAST OF SOUTH AUSTRALIA</td>\n",
       "    </tr>\n",
       "    <tr>\n",
       "      <th>15</th>\n",
       "      <td>2024-03-03 14:11:54\\n2 hr 03 min ago</td>\n",
       "      <td>37.062</td>\n",
       "      <td>36.674</td>\n",
       "      <td>9</td>\n",
       "      <td>2.0</td>\n",
       "      <td>CENTRAL TURKEY</td>\n",
       "    </tr>\n",
       "    <tr>\n",
       "      <th>16</th>\n",
       "      <td>2024-03-03 14:06:30\\n2 hr 09 min ago</td>\n",
       "      <td>-31.960</td>\n",
       "      <td>-69.650</td>\n",
       "      <td>132</td>\n",
       "      <td>3.1</td>\n",
       "      <td>SAN JUAN, ARGENTINA</td>\n",
       "    </tr>\n",
       "    <tr>\n",
       "      <th>17</th>\n",
       "      <td>2024-03-03 14:04:39\\n2 hr 11 min ago</td>\n",
       "      <td>31.607</td>\n",
       "      <td>-103.992</td>\n",
       "      <td>6</td>\n",
       "      <td>2.3</td>\n",
       "      <td>WESTERN TEXAS</td>\n",
       "    </tr>\n",
       "    <tr>\n",
       "      <th>18</th>\n",
       "      <td>2024-03-03 14:00:59\\n2 hr 14 min ago</td>\n",
       "      <td>38.360</td>\n",
       "      <td>20.480</td>\n",
       "      <td>5</td>\n",
       "      <td>2.7</td>\n",
       "      <td>GREECE</td>\n",
       "    </tr>\n",
       "    <tr>\n",
       "      <th>19</th>\n",
       "      <td>2024-03-03 13:40:21\\n2 hr 35 min ago</td>\n",
       "      <td>38.400</td>\n",
       "      <td>20.390</td>\n",
       "      <td>5</td>\n",
       "      <td>2.3</td>\n",
       "      <td>GREECE</td>\n",
       "    </tr>\n",
       "  </tbody>\n",
       "</table>\n",
       "</div>"
      ],
      "text/plain": [
       "                        Date & Time\\nUTC Lat.\\ndegrees Lon.\\ndegrees  \\\n",
       "0        2024-03-03 15:54:59\\n20 min ago        11.240       125.680   \n",
       "1        2024-03-03 15:49:19\\n26 min ago        -8.860       112.480   \n",
       "2        2024-03-03 15:47:02\\n28 min ago        28.108       -16.263   \n",
       "3        2024-03-03 15:28:25\\n47 min ago        34.890        24.120   \n",
       "4        2024-03-03 15:19:07\\n56 min ago        38.160        22.820   \n",
       "5   2024-03-03 15:13:49\\n1 hr 01 min ago        37.488        36.992   \n",
       "6   2024-03-03 15:07:42\\n1 hr 08 min ago        -5.051       102.966   \n",
       "7   2024-03-03 15:03:36\\n1 hr 12 min ago        38.380        20.480   \n",
       "8   2024-03-03 14:50:42\\n1 hr 25 min ago        38.035        37.641   \n",
       "9   2024-03-03 14:43:55\\n1 hr 31 min ago        38.043        37.659   \n",
       "10  2024-03-03 14:42:37\\n1 hr 33 min ago        38.299        37.358   \n",
       "11  2024-03-03 14:39:11\\n1 hr 36 min ago        38.380        20.470   \n",
       "12  2024-03-03 14:26:29\\n1 hr 49 min ago        38.360        20.510   \n",
       "13  2024-03-03 14:18:36\\n1 hr 57 min ago        38.360        20.480   \n",
       "14  2024-03-03 14:14:21\\n2 hr 01 min ago       -33.480       136.310   \n",
       "15  2024-03-03 14:11:54\\n2 hr 03 min ago        37.062        36.674   \n",
       "16  2024-03-03 14:06:30\\n2 hr 09 min ago       -31.960       -69.650   \n",
       "17  2024-03-03 14:04:39\\n2 hr 11 min ago        31.607      -103.992   \n",
       "18  2024-03-03 14:00:59\\n2 hr 14 min ago        38.360        20.480   \n",
       "19  2024-03-03 13:40:21\\n2 hr 35 min ago        38.400        20.390   \n",
       "\n",
       "   Depth\\nkm Mag.[+]                         Region  \n",
       "0         44     3.1             SAMAR, PHILIPPINES  \n",
       "1         28     4.3                JAVA, INDONESIA  \n",
       "2         21     2.2   CANARY ISLANDS, SPAIN REGION  \n",
       "3          3     2.7                  CRETE, GREECE  \n",
       "4          5     2.1                         GREECE  \n",
       "5          7     2.1                 CENTRAL TURKEY  \n",
       "6         62     5.1    SOUTHERN SUMATRA, INDONESIA  \n",
       "7          5     2.0                         GREECE  \n",
       "8         11     2.0                 CENTRAL TURKEY  \n",
       "9          7     4.3                 CENTRAL TURKEY  \n",
       "10         9     2.0                 CENTRAL TURKEY  \n",
       "11         5     2.2                         GREECE  \n",
       "12         5     2.2                         GREECE  \n",
       "13         5     2.4                         GREECE  \n",
       "14        10     2.7  NEAR COAST OF SOUTH AUSTRALIA  \n",
       "15         9     2.0                 CENTRAL TURKEY  \n",
       "16       132     3.1            SAN JUAN, ARGENTINA  \n",
       "17         6     2.3                  WESTERN TEXAS  \n",
       "18         5     2.7                         GREECE  \n",
       "19         5     2.3                         GREECE  "
      ]
     },
     "execution_count": 88,
     "metadata": {},
     "output_type": "execute_result"
    }
   ],
   "source": [
    "df[:20]"
   ]
  },
  {
   "cell_type": "code",
   "execution_count": 89,
   "metadata": {},
   "outputs": [],
   "source": [
    "driver.close()"
   ]
  },
  {
   "cell_type": "markdown",
   "metadata": {},
   "source": [
    "#### Count number of tweets by a given Twitter account."
   ]
  },
  {
   "cell_type": "markdown",
   "metadata": {},
   "source": [
    "You will need to include a ***try/except block*** for account names not found. \n",
    "<br>***Hint:*** the program should count the number of tweets for any provided account"
   ]
  },
  {
   "cell_type": "code",
   "execution_count": 90,
   "metadata": {},
   "outputs": [],
   "source": [
    "# This is the url you will scrape in this exercise \n",
    "# You will need to add the account credentials to this url\n",
    "url = 'https://twitter.com/Nanosecso?ref_src=twsrc%5Egoogle%7Ctwcamp%5Eserp%7Ctwgr%5Eauthor'"
   ]
  },
  {
   "cell_type": "code",
   "execution_count": 91,
   "metadata": {},
   "outputs": [],
   "source": [
    "driver = webdriver.Chrome()"
   ]
  },
  {
   "cell_type": "code",
   "execution_count": 92,
   "metadata": {},
   "outputs": [],
   "source": [
    "driver.get(url)"
   ]
  },
  {
   "cell_type": "code",
   "execution_count": 94,
   "metadata": {},
   "outputs": [
    {
     "data": {
      "text/plain": [
       "'20,9 mil posts'"
      ]
     },
     "execution_count": 94,
     "metadata": {},
     "output_type": "execute_result"
    }
   ],
   "source": [
    "xpath = '//*[@id=\"react-root\"]/div/div/div[2]/main/div/div/div/div/div/div[1]/div[1]/div/div/div/div/div/div[2]/div/div'\n",
    "\n",
    "driver.find_element(By.XPATH, xpath).text"
   ]
  },
  {
   "cell_type": "markdown",
   "metadata": {},
   "source": [
    "#### Number of followers of a given twitter account"
   ]
  },
  {
   "cell_type": "markdown",
   "metadata": {},
   "source": [
    "You will need to include a ***try/except block*** in case account/s name not found. \n",
    "<br>***Hint:*** the program should count the followers for any provided account"
   ]
  },
  {
   "cell_type": "code",
   "execution_count": 95,
   "metadata": {
    "scrolled": true
   },
   "outputs": [
    {
     "data": {
      "text/plain": [
       "'185,1 mil'"
      ]
     },
     "execution_count": 95,
     "metadata": {},
     "output_type": "execute_result"
    }
   ],
   "source": [
    "xpath = '//*[@id=\"react-root\"]/div/div/div[2]/main/div/div/div/div/div/div[3]/div/div/div/div/div[5]/div[2]/a/span[1]/span'\n",
    "\n",
    "driver.find_element(By.XPATH, xpath).text"
   ]
  },
  {
   "cell_type": "code",
   "execution_count": 96,
   "metadata": {},
   "outputs": [],
   "source": [
    "driver.close()"
   ]
  },
  {
   "cell_type": "markdown",
   "metadata": {},
   "source": [
    "#### List all language names and number of related articles in the order they appear in wikipedia.org"
   ]
  },
  {
   "cell_type": "code",
   "execution_count": 97,
   "metadata": {},
   "outputs": [],
   "source": [
    "# This is the url you will scrape in this exercise\n",
    "url = 'https://www.wikipedia.org/'"
   ]
  },
  {
   "cell_type": "code",
   "execution_count": 98,
   "metadata": {},
   "outputs": [],
   "source": [
    "driver = webdriver.Chrome()"
   ]
  },
  {
   "cell_type": "code",
   "execution_count": 99,
   "metadata": {},
   "outputs": [],
   "source": [
    "driver.get(url)"
   ]
  },
  {
   "cell_type": "code",
   "execution_count": 100,
   "metadata": {
    "scrolled": true
   },
   "outputs": [
    {
     "data": {
      "text/plain": [
       "[<selenium.webdriver.remote.webelement.WebElement (session=\"9f35148b24b9d0e9d64c339175b2636f\", element=\"f.F8851D82AAB712DCC8406CD256DEFA39.d.5BCF93898D8E1C5D081276124762E23B.e.14\")>]"
      ]
     },
     "execution_count": 100,
     "metadata": {},
     "output_type": "execute_result"
    }
   ],
   "source": [
    "xpath = '//*[@id=\"www-wikipedia-org\"]/main/nav[1]'\n",
    "\n",
    "caja = driver.find_elements(By.XPATH, xpath)\n",
    "caja"
   ]
  },
  {
   "cell_type": "code",
   "execution_count": 101,
   "metadata": {},
   "outputs": [],
   "source": [
    "idiomas = []\n",
    "\n",
    "for e in caja:\n",
    "    strong = e.find_elements(By.TAG_NAME, 'strong')\n",
    "    for idioma in strong:\n",
    "        idiomas.append(idioma.text)"
   ]
  },
  {
   "cell_type": "code",
   "execution_count": 102,
   "metadata": {
    "scrolled": true
   },
   "outputs": [
    {
     "data": {
      "text/plain": [
       "['Español',\n",
       " 'English',\n",
       " 'Русский',\n",
       " '日本語',\n",
       " 'Deutsch',\n",
       " 'Français',\n",
       " 'Italiano',\n",
       " '中文',\n",
       " 'فارسی',\n",
       " 'Português']"
      ]
     },
     "execution_count": 102,
     "metadata": {},
     "output_type": "execute_result"
    }
   ],
   "source": [
    "idiomas"
   ]
  },
  {
   "cell_type": "code",
   "execution_count": 103,
   "metadata": {},
   "outputs": [],
   "source": [
    "articulos = []\n",
    "\n",
    "for e in caja:\n",
    "    small = e.find_elements(By.TAG_NAME, 'small')\n",
    "    for num_articulo in small:\n",
    "        articulos.append(num_articulo.text)"
   ]
  },
  {
   "cell_type": "code",
   "execution_count": 104,
   "metadata": {},
   "outputs": [
    {
     "data": {
      "text/plain": [
       "['1.935.000+ artículos',\n",
       " '6,790,000+ articles',\n",
       " '1 966 000+ статей',\n",
       " '1,405,000+ 記事',\n",
       " '2.887.000+ Artikel',\n",
       " '2\\u202f595\\u202f000+ articles',\n",
       " '1.850.000+ voci',\n",
       " '1,406,000+ 条目 / 條目',\n",
       " '۹۹۴٬۰۰۰+ مقاله',\n",
       " '1.119.000+ artigos']"
      ]
     },
     "execution_count": 104,
     "metadata": {},
     "output_type": "execute_result"
    }
   ],
   "source": [
    "articulos"
   ]
  },
  {
   "cell_type": "code",
   "execution_count": 105,
   "metadata": {},
   "outputs": [
    {
     "data": {
      "text/plain": [
       "{'Español': '1.935.000+ artículos',\n",
       " 'English': '6,790,000+ articles',\n",
       " 'Русский': '1 966 000+ статей',\n",
       " '日本語': '1,405,000+ 記事',\n",
       " 'Deutsch': '2.887.000+ Artikel',\n",
       " 'Français': '2\\u202f595\\u202f000+ articles',\n",
       " 'Italiano': '1.850.000+ voci',\n",
       " '中文': '1,406,000+ 条目 / 條目',\n",
       " 'فارسی': '۹۹۴٬۰۰۰+ مقاله',\n",
       " 'Português': '1.119.000+ artigos'}"
      ]
     },
     "execution_count": 105,
     "metadata": {},
     "output_type": "execute_result"
    }
   ],
   "source": [
    "dict(zip(idiomas, articulos))"
   ]
  },
  {
   "cell_type": "code",
   "execution_count": 109,
   "metadata": {
    "scrolled": true
   },
   "outputs": [],
   "source": [
    "#pip install -U deep-translator"
   ]
  },
  {
   "cell_type": "code",
   "execution_count": 107,
   "metadata": {},
   "outputs": [],
   "source": [
    "from deep_translator import GoogleTranslator"
   ]
  },
  {
   "cell_type": "code",
   "execution_count": 108,
   "metadata": {
    "scrolled": true
   },
   "outputs": [
    {
     "name": "stdout",
     "output_type": "stream",
     "text": [
      "Español\n",
      "1.935.000+ artículos\n",
      "Inglés\n",
      "6.790.000+ artículos\n",
      "ruso\n",
      "1.966.000+ artículos\n",
      "japonés\n",
      "1.405.000+ artículos\n",
      "Alemán\n",
      "2,887,000+ Artículo\n",
      "Francés\n",
      "2595000+ artículos\n",
      "italiano\n",
      "1.850.000+ entradas\n",
      "Chino\n",
      "1.406.000+ entradas/entradas\n",
      "farsi\n",
      "994.000+ artículos\n",
      "portugués\n",
      "1.119.000+ artículos\n"
     ]
    }
   ],
   "source": [
    "for k,v in dict(zip(idiomas, articulos)).items():\n",
    "    \n",
    "    print(GoogleTranslator(source='auto', target='es').translate(k))\n",
    "    print(GoogleTranslator(source='auto', target='es').translate(v))"
   ]
  },
  {
   "cell_type": "code",
   "execution_count": 110,
   "metadata": {},
   "outputs": [],
   "source": [
    "driver.close()"
   ]
  },
  {
   "cell_type": "markdown",
   "metadata": {},
   "source": [
    "#### Top 10 languages by number of native speakers stored in a Pandas Dataframe"
   ]
  },
  {
   "cell_type": "code",
   "execution_count": 111,
   "metadata": {},
   "outputs": [],
   "source": [
    "# This is the url you will scrape in this exercise\n",
    "url = 'https://en.wikipedia.org/wiki/List_of_languages_by_number_of_native_speakers'"
   ]
  },
  {
   "cell_type": "code",
   "execution_count": 112,
   "metadata": {},
   "outputs": [],
   "source": [
    "driver = webdriver.Chrome()"
   ]
  },
  {
   "cell_type": "code",
   "execution_count": 113,
   "metadata": {},
   "outputs": [],
   "source": [
    "driver.get(url)"
   ]
  },
  {
   "cell_type": "code",
   "execution_count": 114,
   "metadata": {},
   "outputs": [
    {
     "data": {
      "text/plain": [
       "[<selenium.webdriver.remote.webelement.WebElement (session=\"358ef17ae13ea7da1ff4838377d1896e\", element=\"f.9D4A6F04C0CCD23C536B183BCE986A90.d.275AD73B433AB31E5F218C4B86E48354.e.52\")>]"
      ]
     },
     "execution_count": 114,
     "metadata": {},
     "output_type": "execute_result"
    }
   ],
   "source": [
    "xpath = '//*[@id=\"mw-content-text\"]/div[1]/table[1]'\n",
    "\n",
    "tabla = driver.find_elements(By.XPATH, xpath)\n",
    "tabla"
   ]
  },
  {
   "cell_type": "code",
   "execution_count": 115,
   "metadata": {
    "scrolled": true
   },
   "outputs": [
    {
     "data": {
      "text/plain": [
       "[<selenium.webdriver.remote.webelement.WebElement (session=\"358ef17ae13ea7da1ff4838377d1896e\", element=\"f.9D4A6F04C0CCD23C536B183BCE986A90.d.275AD73B433AB31E5F218C4B86E48354.e.53\")>,\n",
       " <selenium.webdriver.remote.webelement.WebElement (session=\"358ef17ae13ea7da1ff4838377d1896e\", element=\"f.9D4A6F04C0CCD23C536B183BCE986A90.d.275AD73B433AB31E5F218C4B86E48354.e.54\")>,\n",
       " <selenium.webdriver.remote.webelement.WebElement (session=\"358ef17ae13ea7da1ff4838377d1896e\", element=\"f.9D4A6F04C0CCD23C536B183BCE986A90.d.275AD73B433AB31E5F218C4B86E48354.e.55\")>,\n",
       " <selenium.webdriver.remote.webelement.WebElement (session=\"358ef17ae13ea7da1ff4838377d1896e\", element=\"f.9D4A6F04C0CCD23C536B183BCE986A90.d.275AD73B433AB31E5F218C4B86E48354.e.56\")>]"
      ]
     },
     "execution_count": 115,
     "metadata": {},
     "output_type": "execute_result"
    }
   ],
   "source": [
    "encabezado = tabla[0].find_elements(By.CLASS_NAME, 'headerSort')\n",
    "encabezado"
   ]
  },
  {
   "cell_type": "code",
   "execution_count": 116,
   "metadata": {},
   "outputs": [],
   "source": [
    "res = []\n",
    "\n",
    "for e in encabezado: \n",
    "    res.append(e.text)"
   ]
  },
  {
   "cell_type": "code",
   "execution_count": 117,
   "metadata": {},
   "outputs": [
    {
     "data": {
      "text/plain": [
       "['Language', 'Native speakers\\n(in millions)', 'Language family', 'Branch']"
      ]
     },
     "execution_count": 117,
     "metadata": {},
     "output_type": "execute_result"
    }
   ],
   "source": [
    "res"
   ]
  },
  {
   "cell_type": "code",
   "execution_count": 118,
   "metadata": {},
   "outputs": [
    {
     "data": {
      "text/plain": [
       "['Language', 'Native speakers (in millions)', 'Language family', 'Branch']"
      ]
     },
     "execution_count": 118,
     "metadata": {},
     "output_type": "execute_result"
    }
   ],
   "source": [
    "lista_sin_n = [elemento.replace('\\n', ' ') for elemento in res]\n",
    "lista_sin_n"
   ]
  },
  {
   "cell_type": "code",
   "execution_count": 119,
   "metadata": {},
   "outputs": [
    {
     "data": {
      "text/plain": [
       "['Mandarin', 'Chinese', '941', 'Sino-Tibetan', 'Sinitic']"
      ]
     },
     "execution_count": 119,
     "metadata": {},
     "output_type": "execute_result"
    }
   ],
   "source": [
    "filas = driver.find_elements(By.TAG_NAME, 'tr')\n",
    "filas[1].text.split()"
   ]
  },
  {
   "cell_type": "code",
   "execution_count": 120,
   "metadata": {},
   "outputs": [],
   "source": [
    "idiomas = []\n",
    "\n",
    "# Iterar sobre las filas del índice 1 al 11 (10 elementos)\n",
    "for i in range(1, 11):\n",
    "    \n",
    "    # Aplicar split a cada fila y agregar el resultado a la lista 'resultados'\n",
    "    idiomas.append(filas[i].text.split())"
   ]
  },
  {
   "cell_type": "code",
   "execution_count": 121,
   "metadata": {
    "scrolled": true
   },
   "outputs": [
    {
     "data": {
      "text/plain": [
       "[['Mandarin', 'Chinese', '941', 'Sino-Tibetan', 'Sinitic'],\n",
       " ['Spanish', '486', 'Indo-European', 'Romance'],\n",
       " ['English', '380', 'Indo-European', 'Germanic'],\n",
       " ['Hindi', '345', 'Indo-European', 'Indo-Aryan'],\n",
       " ['Bengali', '237', 'Indo-European', 'Indo-Aryan'],\n",
       " ['Portuguese', '236', 'Indo-European', 'Romance'],\n",
       " ['Russian', '148', 'Indo-European', 'Balto-Slavic'],\n",
       " ['Japanese', '123', 'Japonic', 'Japanese'],\n",
       " ['Yue', 'Chinese', '86', 'Sino-Tibetan', 'Sinitic'],\n",
       " ['Vietnamese', '85', 'Austroasiatic', 'Vietic']]"
      ]
     },
     "execution_count": 121,
     "metadata": {},
     "output_type": "execute_result"
    }
   ],
   "source": [
    "idiomas"
   ]
  },
  {
   "cell_type": "code",
   "execution_count": 122,
   "metadata": {},
   "outputs": [
    {
     "data": {
      "text/plain": [
       "[['Mandarin Chinese', '941', 'Sino-Tibetan', 'Sinitic'],\n",
       " ['Spanish', '486', 'Indo-European', 'Romance'],\n",
       " ['English', '380', 'Indo-European', 'Germanic'],\n",
       " ['Hindi', '345', 'Indo-European', 'Indo-Aryan'],\n",
       " ['Bengali', '237', 'Indo-European', 'Indo-Aryan'],\n",
       " ['Portuguese', '236', 'Indo-European', 'Romance'],\n",
       " ['Russian', '148', 'Indo-European', 'Balto-Slavic'],\n",
       " ['Japanese', '123', 'Japonic', 'Japanese'],\n",
       " ['Yue Chinese', '86', 'Sino-Tibetan', 'Sinitic'],\n",
       " ['Vietnamese', '85', 'Austroasiatic', 'Vietic']]"
      ]
     },
     "execution_count": 122,
     "metadata": {},
     "output_type": "execute_result"
    }
   ],
   "source": [
    "idiomas\n",
    "\n",
    "# Crear una nueva lista para almacenar los resultados combinados\n",
    "resultados_combinados = []\n",
    "\n",
    "# Iterar sobre las sublistas en 'idiomas' y combinar 'Mandarin' y 'Chinese', y 'Yue' y 'Chinese'\n",
    "for sublist in idiomas:\n",
    "    # Comprobar si la sublista contiene 'Mandarin' y 'Chinese'\n",
    "    if 'Mandarin' in sublist and 'Chinese' in sublist:\n",
    "        # Combina las sublistas y agrega la lista combinada a 'resultados_combinados'\n",
    "        resultado_combinado = [sublist[0] + ' ' + sublist[1]] + sublist[2:]\n",
    "        resultados_combinados.append(resultado_combinado)\n",
    "    # Comprobar si la sublista contiene 'Yue' y 'Chinese'\n",
    "    elif 'Yue' in sublist and 'Chinese' in sublist:\n",
    "        # Combina las sublistas y agrega la lista combinada a 'resultados_combinados'\n",
    "        resultado_combinado = [sublist[0] + ' ' + sublist[1]] + sublist[2:]\n",
    "        resultados_combinados.append(resultado_combinado)\n",
    "    else:\n",
    "        # Si no contiene 'Mandarin' y 'Chinese' ni 'Yue' y 'Chinese', simplemente agrega la sublista\n",
    "        resultados_combinados.append(sublist)\n",
    "\n",
    "# Ahora 'resultados_combinados' contendrá las sublistas combinadas de 'Mandarin' y 'Chinese', y 'Yue' y 'Chinese'\n",
    "resultados_combinados"
   ]
  },
  {
   "cell_type": "code",
   "execution_count": 123,
   "metadata": {
    "scrolled": true
   },
   "outputs": [
    {
     "data": {
      "text/html": [
       "<div>\n",
       "<style scoped>\n",
       "    .dataframe tbody tr th:only-of-type {\n",
       "        vertical-align: middle;\n",
       "    }\n",
       "\n",
       "    .dataframe tbody tr th {\n",
       "        vertical-align: top;\n",
       "    }\n",
       "\n",
       "    .dataframe thead th {\n",
       "        text-align: right;\n",
       "    }\n",
       "</style>\n",
       "<table border=\"1\" class=\"dataframe\">\n",
       "  <thead>\n",
       "    <tr style=\"text-align: right;\">\n",
       "      <th></th>\n",
       "      <th>Language</th>\n",
       "      <th>Native speakers (in millions)</th>\n",
       "      <th>Language family</th>\n",
       "      <th>Branch</th>\n",
       "    </tr>\n",
       "  </thead>\n",
       "  <tbody>\n",
       "    <tr>\n",
       "      <th>0</th>\n",
       "      <td>Mandarin Chinese</td>\n",
       "      <td>941</td>\n",
       "      <td>Sino-Tibetan</td>\n",
       "      <td>Sinitic</td>\n",
       "    </tr>\n",
       "    <tr>\n",
       "      <th>1</th>\n",
       "      <td>Spanish</td>\n",
       "      <td>486</td>\n",
       "      <td>Indo-European</td>\n",
       "      <td>Romance</td>\n",
       "    </tr>\n",
       "    <tr>\n",
       "      <th>2</th>\n",
       "      <td>English</td>\n",
       "      <td>380</td>\n",
       "      <td>Indo-European</td>\n",
       "      <td>Germanic</td>\n",
       "    </tr>\n",
       "    <tr>\n",
       "      <th>3</th>\n",
       "      <td>Hindi</td>\n",
       "      <td>345</td>\n",
       "      <td>Indo-European</td>\n",
       "      <td>Indo-Aryan</td>\n",
       "    </tr>\n",
       "    <tr>\n",
       "      <th>4</th>\n",
       "      <td>Bengali</td>\n",
       "      <td>237</td>\n",
       "      <td>Indo-European</td>\n",
       "      <td>Indo-Aryan</td>\n",
       "    </tr>\n",
       "    <tr>\n",
       "      <th>5</th>\n",
       "      <td>Portuguese</td>\n",
       "      <td>236</td>\n",
       "      <td>Indo-European</td>\n",
       "      <td>Romance</td>\n",
       "    </tr>\n",
       "    <tr>\n",
       "      <th>6</th>\n",
       "      <td>Russian</td>\n",
       "      <td>148</td>\n",
       "      <td>Indo-European</td>\n",
       "      <td>Balto-Slavic</td>\n",
       "    </tr>\n",
       "    <tr>\n",
       "      <th>7</th>\n",
       "      <td>Japanese</td>\n",
       "      <td>123</td>\n",
       "      <td>Japonic</td>\n",
       "      <td>Japanese</td>\n",
       "    </tr>\n",
       "    <tr>\n",
       "      <th>8</th>\n",
       "      <td>Yue Chinese</td>\n",
       "      <td>86</td>\n",
       "      <td>Sino-Tibetan</td>\n",
       "      <td>Sinitic</td>\n",
       "    </tr>\n",
       "    <tr>\n",
       "      <th>9</th>\n",
       "      <td>Vietnamese</td>\n",
       "      <td>85</td>\n",
       "      <td>Austroasiatic</td>\n",
       "      <td>Vietic</td>\n",
       "    </tr>\n",
       "  </tbody>\n",
       "</table>\n",
       "</div>"
      ],
      "text/plain": [
       "           Language Native speakers (in millions) Language family  \\\n",
       "0  Mandarin Chinese                           941    Sino-Tibetan   \n",
       "1           Spanish                           486   Indo-European   \n",
       "2           English                           380   Indo-European   \n",
       "3             Hindi                           345   Indo-European   \n",
       "4           Bengali                           237   Indo-European   \n",
       "5        Portuguese                           236   Indo-European   \n",
       "6           Russian                           148   Indo-European   \n",
       "7          Japanese                           123         Japonic   \n",
       "8       Yue Chinese                            86    Sino-Tibetan   \n",
       "9        Vietnamese                            85   Austroasiatic   \n",
       "\n",
       "         Branch  \n",
       "0       Sinitic  \n",
       "1       Romance  \n",
       "2      Germanic  \n",
       "3    Indo-Aryan  \n",
       "4    Indo-Aryan  \n",
       "5       Romance  \n",
       "6  Balto-Slavic  \n",
       "7      Japanese  \n",
       "8       Sinitic  \n",
       "9        Vietic  "
      ]
     },
     "execution_count": 123,
     "metadata": {},
     "output_type": "execute_result"
    }
   ],
   "source": [
    "df = pd.DataFrame(resultados_combinados, columns = lista_sin_n)\n",
    "df"
   ]
  },
  {
   "cell_type": "code",
   "execution_count": 124,
   "metadata": {},
   "outputs": [],
   "source": [
    "driver.close()"
   ]
  },
  {
   "cell_type": "markdown",
   "metadata": {},
   "source": [
    "### BONUS QUESTIONS"
   ]
  },
  {
   "cell_type": "markdown",
   "metadata": {},
   "source": [
    "#### IMDB's Top 250 data (movie name, Initial release, director name and stars) as a pandas dataframe"
   ]
  },
  {
   "cell_type": "code",
   "execution_count": 125,
   "metadata": {},
   "outputs": [],
   "source": [
    "# This is the url you will scrape in this exercise \n",
    "url = 'https://www.imdb.com/chart/top'"
   ]
  },
  {
   "cell_type": "code",
   "execution_count": 126,
   "metadata": {},
   "outputs": [],
   "source": [
    "driver = webdriver.Chrome()"
   ]
  },
  {
   "cell_type": "code",
   "execution_count": 127,
   "metadata": {},
   "outputs": [],
   "source": [
    "driver.get(url)"
   ]
  },
  {
   "cell_type": "code",
   "execution_count": 128,
   "metadata": {},
   "outputs": [
    {
     "data": {
      "text/plain": [
       "<selenium.webdriver.remote.webelement.WebElement (session=\"f24cf57a65fb61ed05db88333bdcb415\", element=\"f.EF2BCCD542EACB1FD9DCFAD87E7060CD.d.13564E3DB4BE40CA49A502F130B84A18.e.70\")>"
      ]
     },
     "execution_count": 128,
     "metadata": {},
     "output_type": "execute_result"
    }
   ],
   "source": [
    "peliculas = driver.find_element(By.XPATH, '//*[@id=\"__next\"]/main/div/div[3]/section/div/div[2]/div/ul')\n",
    "peliculas"
   ]
  },
  {
   "cell_type": "code",
   "execution_count": 129,
   "metadata": {},
   "outputs": [
    {
     "data": {
      "text/plain": [
       "250"
      ]
     },
     "execution_count": 129,
     "metadata": {},
     "output_type": "execute_result"
    }
   ],
   "source": [
    "len(peliculas.find_elements(By.TAG_NAME,'li'))"
   ]
  },
  {
   "cell_type": "code",
   "execution_count": 130,
   "metadata": {
    "scrolled": true
   },
   "outputs": [
    {
     "data": {
      "text/plain": [
       "[<selenium.webdriver.remote.webelement.WebElement (session=\"f24cf57a65fb61ed05db88333bdcb415\", element=\"f.EF2BCCD542EACB1FD9DCFAD87E7060CD.d.13564E3DB4BE40CA49A502F130B84A18.e.71\")>,\n",
       " <selenium.webdriver.remote.webelement.WebElement (session=\"f24cf57a65fb61ed05db88333bdcb415\", element=\"f.EF2BCCD542EACB1FD9DCFAD87E7060CD.d.13564E3DB4BE40CA49A502F130B84A18.e.72\")>,\n",
       " <selenium.webdriver.remote.webelement.WebElement (session=\"f24cf57a65fb61ed05db88333bdcb415\", element=\"f.EF2BCCD542EACB1FD9DCFAD87E7060CD.d.13564E3DB4BE40CA49A502F130B84A18.e.73\")>,\n",
       " <selenium.webdriver.remote.webelement.WebElement (session=\"f24cf57a65fb61ed05db88333bdcb415\", element=\"f.EF2BCCD542EACB1FD9DCFAD87E7060CD.d.13564E3DB4BE40CA49A502F130B84A18.e.74\")>,\n",
       " <selenium.webdriver.remote.webelement.WebElement (session=\"f24cf57a65fb61ed05db88333bdcb415\", element=\"f.EF2BCCD542EACB1FD9DCFAD87E7060CD.d.13564E3DB4BE40CA49A502F130B84A18.e.75\")>,\n",
       " <selenium.webdriver.remote.webelement.WebElement (session=\"f24cf57a65fb61ed05db88333bdcb415\", element=\"f.EF2BCCD542EACB1FD9DCFAD87E7060CD.d.13564E3DB4BE40CA49A502F130B84A18.e.76\")>,\n",
       " <selenium.webdriver.remote.webelement.WebElement (session=\"f24cf57a65fb61ed05db88333bdcb415\", element=\"f.EF2BCCD542EACB1FD9DCFAD87E7060CD.d.13564E3DB4BE40CA49A502F130B84A18.e.77\")>,\n",
       " <selenium.webdriver.remote.webelement.WebElement (session=\"f24cf57a65fb61ed05db88333bdcb415\", element=\"f.EF2BCCD542EACB1FD9DCFAD87E7060CD.d.13564E3DB4BE40CA49A502F130B84A18.e.78\")>,\n",
       " <selenium.webdriver.remote.webelement.WebElement (session=\"f24cf57a65fb61ed05db88333bdcb415\", element=\"f.EF2BCCD542EACB1FD9DCFAD87E7060CD.d.13564E3DB4BE40CA49A502F130B84A18.e.79\")>,\n",
       " <selenium.webdriver.remote.webelement.WebElement (session=\"f24cf57a65fb61ed05db88333bdcb415\", element=\"f.EF2BCCD542EACB1FD9DCFAD87E7060CD.d.13564E3DB4BE40CA49A502F130B84A18.e.80\")>,\n",
       " <selenium.webdriver.remote.webelement.WebElement (session=\"f24cf57a65fb61ed05db88333bdcb415\", element=\"f.EF2BCCD542EACB1FD9DCFAD87E7060CD.d.13564E3DB4BE40CA49A502F130B84A18.e.81\")>,\n",
       " <selenium.webdriver.remote.webelement.WebElement (session=\"f24cf57a65fb61ed05db88333bdcb415\", element=\"f.EF2BCCD542EACB1FD9DCFAD87E7060CD.d.13564E3DB4BE40CA49A502F130B84A18.e.82\")>,\n",
       " <selenium.webdriver.remote.webelement.WebElement (session=\"f24cf57a65fb61ed05db88333bdcb415\", element=\"f.EF2BCCD542EACB1FD9DCFAD87E7060CD.d.13564E3DB4BE40CA49A502F130B84A18.e.83\")>,\n",
       " <selenium.webdriver.remote.webelement.WebElement (session=\"f24cf57a65fb61ed05db88333bdcb415\", element=\"f.EF2BCCD542EACB1FD9DCFAD87E7060CD.d.13564E3DB4BE40CA49A502F130B84A18.e.84\")>,\n",
       " <selenium.webdriver.remote.webelement.WebElement (session=\"f24cf57a65fb61ed05db88333bdcb415\", element=\"f.EF2BCCD542EACB1FD9DCFAD87E7060CD.d.13564E3DB4BE40CA49A502F130B84A18.e.85\")>,\n",
       " <selenium.webdriver.remote.webelement.WebElement (session=\"f24cf57a65fb61ed05db88333bdcb415\", element=\"f.EF2BCCD542EACB1FD9DCFAD87E7060CD.d.13564E3DB4BE40CA49A502F130B84A18.e.86\")>,\n",
       " <selenium.webdriver.remote.webelement.WebElement (session=\"f24cf57a65fb61ed05db88333bdcb415\", element=\"f.EF2BCCD542EACB1FD9DCFAD87E7060CD.d.13564E3DB4BE40CA49A502F130B84A18.e.87\")>,\n",
       " <selenium.webdriver.remote.webelement.WebElement (session=\"f24cf57a65fb61ed05db88333bdcb415\", element=\"f.EF2BCCD542EACB1FD9DCFAD87E7060CD.d.13564E3DB4BE40CA49A502F130B84A18.e.88\")>,\n",
       " <selenium.webdriver.remote.webelement.WebElement (session=\"f24cf57a65fb61ed05db88333bdcb415\", element=\"f.EF2BCCD542EACB1FD9DCFAD87E7060CD.d.13564E3DB4BE40CA49A502F130B84A18.e.89\")>,\n",
       " <selenium.webdriver.remote.webelement.WebElement (session=\"f24cf57a65fb61ed05db88333bdcb415\", element=\"f.EF2BCCD542EACB1FD9DCFAD87E7060CD.d.13564E3DB4BE40CA49A502F130B84A18.e.90\")>,\n",
       " <selenium.webdriver.remote.webelement.WebElement (session=\"f24cf57a65fb61ed05db88333bdcb415\", element=\"f.EF2BCCD542EACB1FD9DCFAD87E7060CD.d.13564E3DB4BE40CA49A502F130B84A18.e.91\")>,\n",
       " <selenium.webdriver.remote.webelement.WebElement (session=\"f24cf57a65fb61ed05db88333bdcb415\", element=\"f.EF2BCCD542EACB1FD9DCFAD87E7060CD.d.13564E3DB4BE40CA49A502F130B84A18.e.92\")>,\n",
       " <selenium.webdriver.remote.webelement.WebElement (session=\"f24cf57a65fb61ed05db88333bdcb415\", element=\"f.EF2BCCD542EACB1FD9DCFAD87E7060CD.d.13564E3DB4BE40CA49A502F130B84A18.e.93\")>,\n",
       " <selenium.webdriver.remote.webelement.WebElement (session=\"f24cf57a65fb61ed05db88333bdcb415\", element=\"f.EF2BCCD542EACB1FD9DCFAD87E7060CD.d.13564E3DB4BE40CA49A502F130B84A18.e.94\")>,\n",
       " <selenium.webdriver.remote.webelement.WebElement (session=\"f24cf57a65fb61ed05db88333bdcb415\", element=\"f.EF2BCCD542EACB1FD9DCFAD87E7060CD.d.13564E3DB4BE40CA49A502F130B84A18.e.95\")>,\n",
       " <selenium.webdriver.remote.webelement.WebElement (session=\"f24cf57a65fb61ed05db88333bdcb415\", element=\"f.EF2BCCD542EACB1FD9DCFAD87E7060CD.d.13564E3DB4BE40CA49A502F130B84A18.e.96\")>,\n",
       " <selenium.webdriver.remote.webelement.WebElement (session=\"f24cf57a65fb61ed05db88333bdcb415\", element=\"f.EF2BCCD542EACB1FD9DCFAD87E7060CD.d.13564E3DB4BE40CA49A502F130B84A18.e.97\")>,\n",
       " <selenium.webdriver.remote.webelement.WebElement (session=\"f24cf57a65fb61ed05db88333bdcb415\", element=\"f.EF2BCCD542EACB1FD9DCFAD87E7060CD.d.13564E3DB4BE40CA49A502F130B84A18.e.98\")>,\n",
       " <selenium.webdriver.remote.webelement.WebElement (session=\"f24cf57a65fb61ed05db88333bdcb415\", element=\"f.EF2BCCD542EACB1FD9DCFAD87E7060CD.d.13564E3DB4BE40CA49A502F130B84A18.e.99\")>,\n",
       " <selenium.webdriver.remote.webelement.WebElement (session=\"f24cf57a65fb61ed05db88333bdcb415\", element=\"f.EF2BCCD542EACB1FD9DCFAD87E7060CD.d.13564E3DB4BE40CA49A502F130B84A18.e.100\")>,\n",
       " <selenium.webdriver.remote.webelement.WebElement (session=\"f24cf57a65fb61ed05db88333bdcb415\", element=\"f.EF2BCCD542EACB1FD9DCFAD87E7060CD.d.13564E3DB4BE40CA49A502F130B84A18.e.101\")>,\n",
       " <selenium.webdriver.remote.webelement.WebElement (session=\"f24cf57a65fb61ed05db88333bdcb415\", element=\"f.EF2BCCD542EACB1FD9DCFAD87E7060CD.d.13564E3DB4BE40CA49A502F130B84A18.e.102\")>,\n",
       " <selenium.webdriver.remote.webelement.WebElement (session=\"f24cf57a65fb61ed05db88333bdcb415\", element=\"f.EF2BCCD542EACB1FD9DCFAD87E7060CD.d.13564E3DB4BE40CA49A502F130B84A18.e.103\")>,\n",
       " <selenium.webdriver.remote.webelement.WebElement (session=\"f24cf57a65fb61ed05db88333bdcb415\", element=\"f.EF2BCCD542EACB1FD9DCFAD87E7060CD.d.13564E3DB4BE40CA49A502F130B84A18.e.104\")>,\n",
       " <selenium.webdriver.remote.webelement.WebElement (session=\"f24cf57a65fb61ed05db88333bdcb415\", element=\"f.EF2BCCD542EACB1FD9DCFAD87E7060CD.d.13564E3DB4BE40CA49A502F130B84A18.e.105\")>,\n",
       " <selenium.webdriver.remote.webelement.WebElement (session=\"f24cf57a65fb61ed05db88333bdcb415\", element=\"f.EF2BCCD542EACB1FD9DCFAD87E7060CD.d.13564E3DB4BE40CA49A502F130B84A18.e.106\")>,\n",
       " <selenium.webdriver.remote.webelement.WebElement (session=\"f24cf57a65fb61ed05db88333bdcb415\", element=\"f.EF2BCCD542EACB1FD9DCFAD87E7060CD.d.13564E3DB4BE40CA49A502F130B84A18.e.107\")>,\n",
       " <selenium.webdriver.remote.webelement.WebElement (session=\"f24cf57a65fb61ed05db88333bdcb415\", element=\"f.EF2BCCD542EACB1FD9DCFAD87E7060CD.d.13564E3DB4BE40CA49A502F130B84A18.e.108\")>,\n",
       " <selenium.webdriver.remote.webelement.WebElement (session=\"f24cf57a65fb61ed05db88333bdcb415\", element=\"f.EF2BCCD542EACB1FD9DCFAD87E7060CD.d.13564E3DB4BE40CA49A502F130B84A18.e.109\")>,\n",
       " <selenium.webdriver.remote.webelement.WebElement (session=\"f24cf57a65fb61ed05db88333bdcb415\", element=\"f.EF2BCCD542EACB1FD9DCFAD87E7060CD.d.13564E3DB4BE40CA49A502F130B84A18.e.110\")>,\n",
       " <selenium.webdriver.remote.webelement.WebElement (session=\"f24cf57a65fb61ed05db88333bdcb415\", element=\"f.EF2BCCD542EACB1FD9DCFAD87E7060CD.d.13564E3DB4BE40CA49A502F130B84A18.e.111\")>,\n",
       " <selenium.webdriver.remote.webelement.WebElement (session=\"f24cf57a65fb61ed05db88333bdcb415\", element=\"f.EF2BCCD542EACB1FD9DCFAD87E7060CD.d.13564E3DB4BE40CA49A502F130B84A18.e.112\")>,\n",
       " <selenium.webdriver.remote.webelement.WebElement (session=\"f24cf57a65fb61ed05db88333bdcb415\", element=\"f.EF2BCCD542EACB1FD9DCFAD87E7060CD.d.13564E3DB4BE40CA49A502F130B84A18.e.113\")>,\n",
       " <selenium.webdriver.remote.webelement.WebElement (session=\"f24cf57a65fb61ed05db88333bdcb415\", element=\"f.EF2BCCD542EACB1FD9DCFAD87E7060CD.d.13564E3DB4BE40CA49A502F130B84A18.e.114\")>,\n",
       " <selenium.webdriver.remote.webelement.WebElement (session=\"f24cf57a65fb61ed05db88333bdcb415\", element=\"f.EF2BCCD542EACB1FD9DCFAD87E7060CD.d.13564E3DB4BE40CA49A502F130B84A18.e.115\")>,\n",
       " <selenium.webdriver.remote.webelement.WebElement (session=\"f24cf57a65fb61ed05db88333bdcb415\", element=\"f.EF2BCCD542EACB1FD9DCFAD87E7060CD.d.13564E3DB4BE40CA49A502F130B84A18.e.116\")>,\n",
       " <selenium.webdriver.remote.webelement.WebElement (session=\"f24cf57a65fb61ed05db88333bdcb415\", element=\"f.EF2BCCD542EACB1FD9DCFAD87E7060CD.d.13564E3DB4BE40CA49A502F130B84A18.e.117\")>,\n",
       " <selenium.webdriver.remote.webelement.WebElement (session=\"f24cf57a65fb61ed05db88333bdcb415\", element=\"f.EF2BCCD542EACB1FD9DCFAD87E7060CD.d.13564E3DB4BE40CA49A502F130B84A18.e.118\")>,\n",
       " <selenium.webdriver.remote.webelement.WebElement (session=\"f24cf57a65fb61ed05db88333bdcb415\", element=\"f.EF2BCCD542EACB1FD9DCFAD87E7060CD.d.13564E3DB4BE40CA49A502F130B84A18.e.119\")>,\n",
       " <selenium.webdriver.remote.webelement.WebElement (session=\"f24cf57a65fb61ed05db88333bdcb415\", element=\"f.EF2BCCD542EACB1FD9DCFAD87E7060CD.d.13564E3DB4BE40CA49A502F130B84A18.e.120\")>,\n",
       " <selenium.webdriver.remote.webelement.WebElement (session=\"f24cf57a65fb61ed05db88333bdcb415\", element=\"f.EF2BCCD542EACB1FD9DCFAD87E7060CD.d.13564E3DB4BE40CA49A502F130B84A18.e.121\")>,\n",
       " <selenium.webdriver.remote.webelement.WebElement (session=\"f24cf57a65fb61ed05db88333bdcb415\", element=\"f.EF2BCCD542EACB1FD9DCFAD87E7060CD.d.13564E3DB4BE40CA49A502F130B84A18.e.122\")>,\n",
       " <selenium.webdriver.remote.webelement.WebElement (session=\"f24cf57a65fb61ed05db88333bdcb415\", element=\"f.EF2BCCD542EACB1FD9DCFAD87E7060CD.d.13564E3DB4BE40CA49A502F130B84A18.e.123\")>,\n",
       " <selenium.webdriver.remote.webelement.WebElement (session=\"f24cf57a65fb61ed05db88333bdcb415\", element=\"f.EF2BCCD542EACB1FD9DCFAD87E7060CD.d.13564E3DB4BE40CA49A502F130B84A18.e.124\")>,\n",
       " <selenium.webdriver.remote.webelement.WebElement (session=\"f24cf57a65fb61ed05db88333bdcb415\", element=\"f.EF2BCCD542EACB1FD9DCFAD87E7060CD.d.13564E3DB4BE40CA49A502F130B84A18.e.125\")>,\n",
       " <selenium.webdriver.remote.webelement.WebElement (session=\"f24cf57a65fb61ed05db88333bdcb415\", element=\"f.EF2BCCD542EACB1FD9DCFAD87E7060CD.d.13564E3DB4BE40CA49A502F130B84A18.e.126\")>,\n",
       " <selenium.webdriver.remote.webelement.WebElement (session=\"f24cf57a65fb61ed05db88333bdcb415\", element=\"f.EF2BCCD542EACB1FD9DCFAD87E7060CD.d.13564E3DB4BE40CA49A502F130B84A18.e.127\")>,\n",
       " <selenium.webdriver.remote.webelement.WebElement (session=\"f24cf57a65fb61ed05db88333bdcb415\", element=\"f.EF2BCCD542EACB1FD9DCFAD87E7060CD.d.13564E3DB4BE40CA49A502F130B84A18.e.128\")>,\n",
       " <selenium.webdriver.remote.webelement.WebElement (session=\"f24cf57a65fb61ed05db88333bdcb415\", element=\"f.EF2BCCD542EACB1FD9DCFAD87E7060CD.d.13564E3DB4BE40CA49A502F130B84A18.e.129\")>,\n",
       " <selenium.webdriver.remote.webelement.WebElement (session=\"f24cf57a65fb61ed05db88333bdcb415\", element=\"f.EF2BCCD542EACB1FD9DCFAD87E7060CD.d.13564E3DB4BE40CA49A502F130B84A18.e.130\")>,\n",
       " <selenium.webdriver.remote.webelement.WebElement (session=\"f24cf57a65fb61ed05db88333bdcb415\", element=\"f.EF2BCCD542EACB1FD9DCFAD87E7060CD.d.13564E3DB4BE40CA49A502F130B84A18.e.131\")>,\n",
       " <selenium.webdriver.remote.webelement.WebElement (session=\"f24cf57a65fb61ed05db88333bdcb415\", element=\"f.EF2BCCD542EACB1FD9DCFAD87E7060CD.d.13564E3DB4BE40CA49A502F130B84A18.e.132\")>,\n",
       " <selenium.webdriver.remote.webelement.WebElement (session=\"f24cf57a65fb61ed05db88333bdcb415\", element=\"f.EF2BCCD542EACB1FD9DCFAD87E7060CD.d.13564E3DB4BE40CA49A502F130B84A18.e.133\")>,\n",
       " <selenium.webdriver.remote.webelement.WebElement (session=\"f24cf57a65fb61ed05db88333bdcb415\", element=\"f.EF2BCCD542EACB1FD9DCFAD87E7060CD.d.13564E3DB4BE40CA49A502F130B84A18.e.134\")>,\n",
       " <selenium.webdriver.remote.webelement.WebElement (session=\"f24cf57a65fb61ed05db88333bdcb415\", element=\"f.EF2BCCD542EACB1FD9DCFAD87E7060CD.d.13564E3DB4BE40CA49A502F130B84A18.e.135\")>,\n",
       " <selenium.webdriver.remote.webelement.WebElement (session=\"f24cf57a65fb61ed05db88333bdcb415\", element=\"f.EF2BCCD542EACB1FD9DCFAD87E7060CD.d.13564E3DB4BE40CA49A502F130B84A18.e.136\")>,\n",
       " <selenium.webdriver.remote.webelement.WebElement (session=\"f24cf57a65fb61ed05db88333bdcb415\", element=\"f.EF2BCCD542EACB1FD9DCFAD87E7060CD.d.13564E3DB4BE40CA49A502F130B84A18.e.137\")>,\n",
       " <selenium.webdriver.remote.webelement.WebElement (session=\"f24cf57a65fb61ed05db88333bdcb415\", element=\"f.EF2BCCD542EACB1FD9DCFAD87E7060CD.d.13564E3DB4BE40CA49A502F130B84A18.e.138\")>,\n",
       " <selenium.webdriver.remote.webelement.WebElement (session=\"f24cf57a65fb61ed05db88333bdcb415\", element=\"f.EF2BCCD542EACB1FD9DCFAD87E7060CD.d.13564E3DB4BE40CA49A502F130B84A18.e.139\")>,\n",
       " <selenium.webdriver.remote.webelement.WebElement (session=\"f24cf57a65fb61ed05db88333bdcb415\", element=\"f.EF2BCCD542EACB1FD9DCFAD87E7060CD.d.13564E3DB4BE40CA49A502F130B84A18.e.140\")>,\n",
       " <selenium.webdriver.remote.webelement.WebElement (session=\"f24cf57a65fb61ed05db88333bdcb415\", element=\"f.EF2BCCD542EACB1FD9DCFAD87E7060CD.d.13564E3DB4BE40CA49A502F130B84A18.e.141\")>,\n",
       " <selenium.webdriver.remote.webelement.WebElement (session=\"f24cf57a65fb61ed05db88333bdcb415\", element=\"f.EF2BCCD542EACB1FD9DCFAD87E7060CD.d.13564E3DB4BE40CA49A502F130B84A18.e.142\")>,\n",
       " <selenium.webdriver.remote.webelement.WebElement (session=\"f24cf57a65fb61ed05db88333bdcb415\", element=\"f.EF2BCCD542EACB1FD9DCFAD87E7060CD.d.13564E3DB4BE40CA49A502F130B84A18.e.143\")>,\n",
       " <selenium.webdriver.remote.webelement.WebElement (session=\"f24cf57a65fb61ed05db88333bdcb415\", element=\"f.EF2BCCD542EACB1FD9DCFAD87E7060CD.d.13564E3DB4BE40CA49A502F130B84A18.e.144\")>,\n",
       " <selenium.webdriver.remote.webelement.WebElement (session=\"f24cf57a65fb61ed05db88333bdcb415\", element=\"f.EF2BCCD542EACB1FD9DCFAD87E7060CD.d.13564E3DB4BE40CA49A502F130B84A18.e.145\")>,\n",
       " <selenium.webdriver.remote.webelement.WebElement (session=\"f24cf57a65fb61ed05db88333bdcb415\", element=\"f.EF2BCCD542EACB1FD9DCFAD87E7060CD.d.13564E3DB4BE40CA49A502F130B84A18.e.146\")>,\n",
       " <selenium.webdriver.remote.webelement.WebElement (session=\"f24cf57a65fb61ed05db88333bdcb415\", element=\"f.EF2BCCD542EACB1FD9DCFAD87E7060CD.d.13564E3DB4BE40CA49A502F130B84A18.e.147\")>,\n",
       " <selenium.webdriver.remote.webelement.WebElement (session=\"f24cf57a65fb61ed05db88333bdcb415\", element=\"f.EF2BCCD542EACB1FD9DCFAD87E7060CD.d.13564E3DB4BE40CA49A502F130B84A18.e.148\")>,\n",
       " <selenium.webdriver.remote.webelement.WebElement (session=\"f24cf57a65fb61ed05db88333bdcb415\", element=\"f.EF2BCCD542EACB1FD9DCFAD87E7060CD.d.13564E3DB4BE40CA49A502F130B84A18.e.149\")>,\n",
       " <selenium.webdriver.remote.webelement.WebElement (session=\"f24cf57a65fb61ed05db88333bdcb415\", element=\"f.EF2BCCD542EACB1FD9DCFAD87E7060CD.d.13564E3DB4BE40CA49A502F130B84A18.e.150\")>,\n",
       " <selenium.webdriver.remote.webelement.WebElement (session=\"f24cf57a65fb61ed05db88333bdcb415\", element=\"f.EF2BCCD542EACB1FD9DCFAD87E7060CD.d.13564E3DB4BE40CA49A502F130B84A18.e.151\")>,\n",
       " <selenium.webdriver.remote.webelement.WebElement (session=\"f24cf57a65fb61ed05db88333bdcb415\", element=\"f.EF2BCCD542EACB1FD9DCFAD87E7060CD.d.13564E3DB4BE40CA49A502F130B84A18.e.152\")>,\n",
       " <selenium.webdriver.remote.webelement.WebElement (session=\"f24cf57a65fb61ed05db88333bdcb415\", element=\"f.EF2BCCD542EACB1FD9DCFAD87E7060CD.d.13564E3DB4BE40CA49A502F130B84A18.e.153\")>,\n",
       " <selenium.webdriver.remote.webelement.WebElement (session=\"f24cf57a65fb61ed05db88333bdcb415\", element=\"f.EF2BCCD542EACB1FD9DCFAD87E7060CD.d.13564E3DB4BE40CA49A502F130B84A18.e.154\")>,\n",
       " <selenium.webdriver.remote.webelement.WebElement (session=\"f24cf57a65fb61ed05db88333bdcb415\", element=\"f.EF2BCCD542EACB1FD9DCFAD87E7060CD.d.13564E3DB4BE40CA49A502F130B84A18.e.155\")>,\n",
       " <selenium.webdriver.remote.webelement.WebElement (session=\"f24cf57a65fb61ed05db88333bdcb415\", element=\"f.EF2BCCD542EACB1FD9DCFAD87E7060CD.d.13564E3DB4BE40CA49A502F130B84A18.e.156\")>,\n",
       " <selenium.webdriver.remote.webelement.WebElement (session=\"f24cf57a65fb61ed05db88333bdcb415\", element=\"f.EF2BCCD542EACB1FD9DCFAD87E7060CD.d.13564E3DB4BE40CA49A502F130B84A18.e.157\")>,\n",
       " <selenium.webdriver.remote.webelement.WebElement (session=\"f24cf57a65fb61ed05db88333bdcb415\", element=\"f.EF2BCCD542EACB1FD9DCFAD87E7060CD.d.13564E3DB4BE40CA49A502F130B84A18.e.158\")>,\n",
       " <selenium.webdriver.remote.webelement.WebElement (session=\"f24cf57a65fb61ed05db88333bdcb415\", element=\"f.EF2BCCD542EACB1FD9DCFAD87E7060CD.d.13564E3DB4BE40CA49A502F130B84A18.e.159\")>,\n",
       " <selenium.webdriver.remote.webelement.WebElement (session=\"f24cf57a65fb61ed05db88333bdcb415\", element=\"f.EF2BCCD542EACB1FD9DCFAD87E7060CD.d.13564E3DB4BE40CA49A502F130B84A18.e.160\")>,\n",
       " <selenium.webdriver.remote.webelement.WebElement (session=\"f24cf57a65fb61ed05db88333bdcb415\", element=\"f.EF2BCCD542EACB1FD9DCFAD87E7060CD.d.13564E3DB4BE40CA49A502F130B84A18.e.161\")>,\n",
       " <selenium.webdriver.remote.webelement.WebElement (session=\"f24cf57a65fb61ed05db88333bdcb415\", element=\"f.EF2BCCD542EACB1FD9DCFAD87E7060CD.d.13564E3DB4BE40CA49A502F130B84A18.e.162\")>,\n",
       " <selenium.webdriver.remote.webelement.WebElement (session=\"f24cf57a65fb61ed05db88333bdcb415\", element=\"f.EF2BCCD542EACB1FD9DCFAD87E7060CD.d.13564E3DB4BE40CA49A502F130B84A18.e.163\")>,\n",
       " <selenium.webdriver.remote.webelement.WebElement (session=\"f24cf57a65fb61ed05db88333bdcb415\", element=\"f.EF2BCCD542EACB1FD9DCFAD87E7060CD.d.13564E3DB4BE40CA49A502F130B84A18.e.164\")>,\n",
       " <selenium.webdriver.remote.webelement.WebElement (session=\"f24cf57a65fb61ed05db88333bdcb415\", element=\"f.EF2BCCD542EACB1FD9DCFAD87E7060CD.d.13564E3DB4BE40CA49A502F130B84A18.e.165\")>,\n",
       " <selenium.webdriver.remote.webelement.WebElement (session=\"f24cf57a65fb61ed05db88333bdcb415\", element=\"f.EF2BCCD542EACB1FD9DCFAD87E7060CD.d.13564E3DB4BE40CA49A502F130B84A18.e.166\")>,\n",
       " <selenium.webdriver.remote.webelement.WebElement (session=\"f24cf57a65fb61ed05db88333bdcb415\", element=\"f.EF2BCCD542EACB1FD9DCFAD87E7060CD.d.13564E3DB4BE40CA49A502F130B84A18.e.167\")>,\n",
       " <selenium.webdriver.remote.webelement.WebElement (session=\"f24cf57a65fb61ed05db88333bdcb415\", element=\"f.EF2BCCD542EACB1FD9DCFAD87E7060CD.d.13564E3DB4BE40CA49A502F130B84A18.e.168\")>,\n",
       " <selenium.webdriver.remote.webelement.WebElement (session=\"f24cf57a65fb61ed05db88333bdcb415\", element=\"f.EF2BCCD542EACB1FD9DCFAD87E7060CD.d.13564E3DB4BE40CA49A502F130B84A18.e.169\")>,\n",
       " <selenium.webdriver.remote.webelement.WebElement (session=\"f24cf57a65fb61ed05db88333bdcb415\", element=\"f.EF2BCCD542EACB1FD9DCFAD87E7060CD.d.13564E3DB4BE40CA49A502F130B84A18.e.170\")>,\n",
       " <selenium.webdriver.remote.webelement.WebElement (session=\"f24cf57a65fb61ed05db88333bdcb415\", element=\"f.EF2BCCD542EACB1FD9DCFAD87E7060CD.d.13564E3DB4BE40CA49A502F130B84A18.e.171\")>,\n",
       " <selenium.webdriver.remote.webelement.WebElement (session=\"f24cf57a65fb61ed05db88333bdcb415\", element=\"f.EF2BCCD542EACB1FD9DCFAD87E7060CD.d.13564E3DB4BE40CA49A502F130B84A18.e.172\")>,\n",
       " <selenium.webdriver.remote.webelement.WebElement (session=\"f24cf57a65fb61ed05db88333bdcb415\", element=\"f.EF2BCCD542EACB1FD9DCFAD87E7060CD.d.13564E3DB4BE40CA49A502F130B84A18.e.173\")>,\n",
       " <selenium.webdriver.remote.webelement.WebElement (session=\"f24cf57a65fb61ed05db88333bdcb415\", element=\"f.EF2BCCD542EACB1FD9DCFAD87E7060CD.d.13564E3DB4BE40CA49A502F130B84A18.e.174\")>,\n",
       " <selenium.webdriver.remote.webelement.WebElement (session=\"f24cf57a65fb61ed05db88333bdcb415\", element=\"f.EF2BCCD542EACB1FD9DCFAD87E7060CD.d.13564E3DB4BE40CA49A502F130B84A18.e.175\")>,\n",
       " <selenium.webdriver.remote.webelement.WebElement (session=\"f24cf57a65fb61ed05db88333bdcb415\", element=\"f.EF2BCCD542EACB1FD9DCFAD87E7060CD.d.13564E3DB4BE40CA49A502F130B84A18.e.176\")>,\n",
       " <selenium.webdriver.remote.webelement.WebElement (session=\"f24cf57a65fb61ed05db88333bdcb415\", element=\"f.EF2BCCD542EACB1FD9DCFAD87E7060CD.d.13564E3DB4BE40CA49A502F130B84A18.e.177\")>,\n",
       " <selenium.webdriver.remote.webelement.WebElement (session=\"f24cf57a65fb61ed05db88333bdcb415\", element=\"f.EF2BCCD542EACB1FD9DCFAD87E7060CD.d.13564E3DB4BE40CA49A502F130B84A18.e.178\")>,\n",
       " <selenium.webdriver.remote.webelement.WebElement (session=\"f24cf57a65fb61ed05db88333bdcb415\", element=\"f.EF2BCCD542EACB1FD9DCFAD87E7060CD.d.13564E3DB4BE40CA49A502F130B84A18.e.179\")>,\n",
       " <selenium.webdriver.remote.webelement.WebElement (session=\"f24cf57a65fb61ed05db88333bdcb415\", element=\"f.EF2BCCD542EACB1FD9DCFAD87E7060CD.d.13564E3DB4BE40CA49A502F130B84A18.e.180\")>,\n",
       " <selenium.webdriver.remote.webelement.WebElement (session=\"f24cf57a65fb61ed05db88333bdcb415\", element=\"f.EF2BCCD542EACB1FD9DCFAD87E7060CD.d.13564E3DB4BE40CA49A502F130B84A18.e.181\")>,\n",
       " <selenium.webdriver.remote.webelement.WebElement (session=\"f24cf57a65fb61ed05db88333bdcb415\", element=\"f.EF2BCCD542EACB1FD9DCFAD87E7060CD.d.13564E3DB4BE40CA49A502F130B84A18.e.182\")>,\n",
       " <selenium.webdriver.remote.webelement.WebElement (session=\"f24cf57a65fb61ed05db88333bdcb415\", element=\"f.EF2BCCD542EACB1FD9DCFAD87E7060CD.d.13564E3DB4BE40CA49A502F130B84A18.e.183\")>,\n",
       " <selenium.webdriver.remote.webelement.WebElement (session=\"f24cf57a65fb61ed05db88333bdcb415\", element=\"f.EF2BCCD542EACB1FD9DCFAD87E7060CD.d.13564E3DB4BE40CA49A502F130B84A18.e.184\")>,\n",
       " <selenium.webdriver.remote.webelement.WebElement (session=\"f24cf57a65fb61ed05db88333bdcb415\", element=\"f.EF2BCCD542EACB1FD9DCFAD87E7060CD.d.13564E3DB4BE40CA49A502F130B84A18.e.185\")>,\n",
       " <selenium.webdriver.remote.webelement.WebElement (session=\"f24cf57a65fb61ed05db88333bdcb415\", element=\"f.EF2BCCD542EACB1FD9DCFAD87E7060CD.d.13564E3DB4BE40CA49A502F130B84A18.e.186\")>,\n",
       " <selenium.webdriver.remote.webelement.WebElement (session=\"f24cf57a65fb61ed05db88333bdcb415\", element=\"f.EF2BCCD542EACB1FD9DCFAD87E7060CD.d.13564E3DB4BE40CA49A502F130B84A18.e.187\")>,\n",
       " <selenium.webdriver.remote.webelement.WebElement (session=\"f24cf57a65fb61ed05db88333bdcb415\", element=\"f.EF2BCCD542EACB1FD9DCFAD87E7060CD.d.13564E3DB4BE40CA49A502F130B84A18.e.188\")>,\n",
       " <selenium.webdriver.remote.webelement.WebElement (session=\"f24cf57a65fb61ed05db88333bdcb415\", element=\"f.EF2BCCD542EACB1FD9DCFAD87E7060CD.d.13564E3DB4BE40CA49A502F130B84A18.e.189\")>,\n",
       " <selenium.webdriver.remote.webelement.WebElement (session=\"f24cf57a65fb61ed05db88333bdcb415\", element=\"f.EF2BCCD542EACB1FD9DCFAD87E7060CD.d.13564E3DB4BE40CA49A502F130B84A18.e.190\")>,\n",
       " <selenium.webdriver.remote.webelement.WebElement (session=\"f24cf57a65fb61ed05db88333bdcb415\", element=\"f.EF2BCCD542EACB1FD9DCFAD87E7060CD.d.13564E3DB4BE40CA49A502F130B84A18.e.191\")>,\n",
       " <selenium.webdriver.remote.webelement.WebElement (session=\"f24cf57a65fb61ed05db88333bdcb415\", element=\"f.EF2BCCD542EACB1FD9DCFAD87E7060CD.d.13564E3DB4BE40CA49A502F130B84A18.e.192\")>,\n",
       " <selenium.webdriver.remote.webelement.WebElement (session=\"f24cf57a65fb61ed05db88333bdcb415\", element=\"f.EF2BCCD542EACB1FD9DCFAD87E7060CD.d.13564E3DB4BE40CA49A502F130B84A18.e.193\")>,\n",
       " <selenium.webdriver.remote.webelement.WebElement (session=\"f24cf57a65fb61ed05db88333bdcb415\", element=\"f.EF2BCCD542EACB1FD9DCFAD87E7060CD.d.13564E3DB4BE40CA49A502F130B84A18.e.194\")>,\n",
       " <selenium.webdriver.remote.webelement.WebElement (session=\"f24cf57a65fb61ed05db88333bdcb415\", element=\"f.EF2BCCD542EACB1FD9DCFAD87E7060CD.d.13564E3DB4BE40CA49A502F130B84A18.e.195\")>,\n",
       " <selenium.webdriver.remote.webelement.WebElement (session=\"f24cf57a65fb61ed05db88333bdcb415\", element=\"f.EF2BCCD542EACB1FD9DCFAD87E7060CD.d.13564E3DB4BE40CA49A502F130B84A18.e.196\")>,\n",
       " <selenium.webdriver.remote.webelement.WebElement (session=\"f24cf57a65fb61ed05db88333bdcb415\", element=\"f.EF2BCCD542EACB1FD9DCFAD87E7060CD.d.13564E3DB4BE40CA49A502F130B84A18.e.197\")>,\n",
       " <selenium.webdriver.remote.webelement.WebElement (session=\"f24cf57a65fb61ed05db88333bdcb415\", element=\"f.EF2BCCD542EACB1FD9DCFAD87E7060CD.d.13564E3DB4BE40CA49A502F130B84A18.e.198\")>,\n",
       " <selenium.webdriver.remote.webelement.WebElement (session=\"f24cf57a65fb61ed05db88333bdcb415\", element=\"f.EF2BCCD542EACB1FD9DCFAD87E7060CD.d.13564E3DB4BE40CA49A502F130B84A18.e.199\")>,\n",
       " <selenium.webdriver.remote.webelement.WebElement (session=\"f24cf57a65fb61ed05db88333bdcb415\", element=\"f.EF2BCCD542EACB1FD9DCFAD87E7060CD.d.13564E3DB4BE40CA49A502F130B84A18.e.200\")>,\n",
       " <selenium.webdriver.remote.webelement.WebElement (session=\"f24cf57a65fb61ed05db88333bdcb415\", element=\"f.EF2BCCD542EACB1FD9DCFAD87E7060CD.d.13564E3DB4BE40CA49A502F130B84A18.e.201\")>,\n",
       " <selenium.webdriver.remote.webelement.WebElement (session=\"f24cf57a65fb61ed05db88333bdcb415\", element=\"f.EF2BCCD542EACB1FD9DCFAD87E7060CD.d.13564E3DB4BE40CA49A502F130B84A18.e.202\")>,\n",
       " <selenium.webdriver.remote.webelement.WebElement (session=\"f24cf57a65fb61ed05db88333bdcb415\", element=\"f.EF2BCCD542EACB1FD9DCFAD87E7060CD.d.13564E3DB4BE40CA49A502F130B84A18.e.203\")>,\n",
       " <selenium.webdriver.remote.webelement.WebElement (session=\"f24cf57a65fb61ed05db88333bdcb415\", element=\"f.EF2BCCD542EACB1FD9DCFAD87E7060CD.d.13564E3DB4BE40CA49A502F130B84A18.e.204\")>,\n",
       " <selenium.webdriver.remote.webelement.WebElement (session=\"f24cf57a65fb61ed05db88333bdcb415\", element=\"f.EF2BCCD542EACB1FD9DCFAD87E7060CD.d.13564E3DB4BE40CA49A502F130B84A18.e.205\")>,\n",
       " <selenium.webdriver.remote.webelement.WebElement (session=\"f24cf57a65fb61ed05db88333bdcb415\", element=\"f.EF2BCCD542EACB1FD9DCFAD87E7060CD.d.13564E3DB4BE40CA49A502F130B84A18.e.206\")>,\n",
       " <selenium.webdriver.remote.webelement.WebElement (session=\"f24cf57a65fb61ed05db88333bdcb415\", element=\"f.EF2BCCD542EACB1FD9DCFAD87E7060CD.d.13564E3DB4BE40CA49A502F130B84A18.e.207\")>,\n",
       " <selenium.webdriver.remote.webelement.WebElement (session=\"f24cf57a65fb61ed05db88333bdcb415\", element=\"f.EF2BCCD542EACB1FD9DCFAD87E7060CD.d.13564E3DB4BE40CA49A502F130B84A18.e.208\")>,\n",
       " <selenium.webdriver.remote.webelement.WebElement (session=\"f24cf57a65fb61ed05db88333bdcb415\", element=\"f.EF2BCCD542EACB1FD9DCFAD87E7060CD.d.13564E3DB4BE40CA49A502F130B84A18.e.209\")>,\n",
       " <selenium.webdriver.remote.webelement.WebElement (session=\"f24cf57a65fb61ed05db88333bdcb415\", element=\"f.EF2BCCD542EACB1FD9DCFAD87E7060CD.d.13564E3DB4BE40CA49A502F130B84A18.e.210\")>,\n",
       " <selenium.webdriver.remote.webelement.WebElement (session=\"f24cf57a65fb61ed05db88333bdcb415\", element=\"f.EF2BCCD542EACB1FD9DCFAD87E7060CD.d.13564E3DB4BE40CA49A502F130B84A18.e.211\")>,\n",
       " <selenium.webdriver.remote.webelement.WebElement (session=\"f24cf57a65fb61ed05db88333bdcb415\", element=\"f.EF2BCCD542EACB1FD9DCFAD87E7060CD.d.13564E3DB4BE40CA49A502F130B84A18.e.212\")>,\n",
       " <selenium.webdriver.remote.webelement.WebElement (session=\"f24cf57a65fb61ed05db88333bdcb415\", element=\"f.EF2BCCD542EACB1FD9DCFAD87E7060CD.d.13564E3DB4BE40CA49A502F130B84A18.e.213\")>,\n",
       " <selenium.webdriver.remote.webelement.WebElement (session=\"f24cf57a65fb61ed05db88333bdcb415\", element=\"f.EF2BCCD542EACB1FD9DCFAD87E7060CD.d.13564E3DB4BE40CA49A502F130B84A18.e.214\")>,\n",
       " <selenium.webdriver.remote.webelement.WebElement (session=\"f24cf57a65fb61ed05db88333bdcb415\", element=\"f.EF2BCCD542EACB1FD9DCFAD87E7060CD.d.13564E3DB4BE40CA49A502F130B84A18.e.215\")>,\n",
       " <selenium.webdriver.remote.webelement.WebElement (session=\"f24cf57a65fb61ed05db88333bdcb415\", element=\"f.EF2BCCD542EACB1FD9DCFAD87E7060CD.d.13564E3DB4BE40CA49A502F130B84A18.e.216\")>,\n",
       " <selenium.webdriver.remote.webelement.WebElement (session=\"f24cf57a65fb61ed05db88333bdcb415\", element=\"f.EF2BCCD542EACB1FD9DCFAD87E7060CD.d.13564E3DB4BE40CA49A502F130B84A18.e.217\")>,\n",
       " <selenium.webdriver.remote.webelement.WebElement (session=\"f24cf57a65fb61ed05db88333bdcb415\", element=\"f.EF2BCCD542EACB1FD9DCFAD87E7060CD.d.13564E3DB4BE40CA49A502F130B84A18.e.218\")>,\n",
       " <selenium.webdriver.remote.webelement.WebElement (session=\"f24cf57a65fb61ed05db88333bdcb415\", element=\"f.EF2BCCD542EACB1FD9DCFAD87E7060CD.d.13564E3DB4BE40CA49A502F130B84A18.e.219\")>,\n",
       " <selenium.webdriver.remote.webelement.WebElement (session=\"f24cf57a65fb61ed05db88333bdcb415\", element=\"f.EF2BCCD542EACB1FD9DCFAD87E7060CD.d.13564E3DB4BE40CA49A502F130B84A18.e.220\")>,\n",
       " <selenium.webdriver.remote.webelement.WebElement (session=\"f24cf57a65fb61ed05db88333bdcb415\", element=\"f.EF2BCCD542EACB1FD9DCFAD87E7060CD.d.13564E3DB4BE40CA49A502F130B84A18.e.221\")>,\n",
       " <selenium.webdriver.remote.webelement.WebElement (session=\"f24cf57a65fb61ed05db88333bdcb415\", element=\"f.EF2BCCD542EACB1FD9DCFAD87E7060CD.d.13564E3DB4BE40CA49A502F130B84A18.e.222\")>,\n",
       " <selenium.webdriver.remote.webelement.WebElement (session=\"f24cf57a65fb61ed05db88333bdcb415\", element=\"f.EF2BCCD542EACB1FD9DCFAD87E7060CD.d.13564E3DB4BE40CA49A502F130B84A18.e.223\")>,\n",
       " <selenium.webdriver.remote.webelement.WebElement (session=\"f24cf57a65fb61ed05db88333bdcb415\", element=\"f.EF2BCCD542EACB1FD9DCFAD87E7060CD.d.13564E3DB4BE40CA49A502F130B84A18.e.224\")>,\n",
       " <selenium.webdriver.remote.webelement.WebElement (session=\"f24cf57a65fb61ed05db88333bdcb415\", element=\"f.EF2BCCD542EACB1FD9DCFAD87E7060CD.d.13564E3DB4BE40CA49A502F130B84A18.e.225\")>,\n",
       " <selenium.webdriver.remote.webelement.WebElement (session=\"f24cf57a65fb61ed05db88333bdcb415\", element=\"f.EF2BCCD542EACB1FD9DCFAD87E7060CD.d.13564E3DB4BE40CA49A502F130B84A18.e.226\")>,\n",
       " <selenium.webdriver.remote.webelement.WebElement (session=\"f24cf57a65fb61ed05db88333bdcb415\", element=\"f.EF2BCCD542EACB1FD9DCFAD87E7060CD.d.13564E3DB4BE40CA49A502F130B84A18.e.227\")>,\n",
       " <selenium.webdriver.remote.webelement.WebElement (session=\"f24cf57a65fb61ed05db88333bdcb415\", element=\"f.EF2BCCD542EACB1FD9DCFAD87E7060CD.d.13564E3DB4BE40CA49A502F130B84A18.e.228\")>,\n",
       " <selenium.webdriver.remote.webelement.WebElement (session=\"f24cf57a65fb61ed05db88333bdcb415\", element=\"f.EF2BCCD542EACB1FD9DCFAD87E7060CD.d.13564E3DB4BE40CA49A502F130B84A18.e.229\")>,\n",
       " <selenium.webdriver.remote.webelement.WebElement (session=\"f24cf57a65fb61ed05db88333bdcb415\", element=\"f.EF2BCCD542EACB1FD9DCFAD87E7060CD.d.13564E3DB4BE40CA49A502F130B84A18.e.230\")>,\n",
       " <selenium.webdriver.remote.webelement.WebElement (session=\"f24cf57a65fb61ed05db88333bdcb415\", element=\"f.EF2BCCD542EACB1FD9DCFAD87E7060CD.d.13564E3DB4BE40CA49A502F130B84A18.e.231\")>,\n",
       " <selenium.webdriver.remote.webelement.WebElement (session=\"f24cf57a65fb61ed05db88333bdcb415\", element=\"f.EF2BCCD542EACB1FD9DCFAD87E7060CD.d.13564E3DB4BE40CA49A502F130B84A18.e.232\")>,\n",
       " <selenium.webdriver.remote.webelement.WebElement (session=\"f24cf57a65fb61ed05db88333bdcb415\", element=\"f.EF2BCCD542EACB1FD9DCFAD87E7060CD.d.13564E3DB4BE40CA49A502F130B84A18.e.233\")>,\n",
       " <selenium.webdriver.remote.webelement.WebElement (session=\"f24cf57a65fb61ed05db88333bdcb415\", element=\"f.EF2BCCD542EACB1FD9DCFAD87E7060CD.d.13564E3DB4BE40CA49A502F130B84A18.e.234\")>,\n",
       " <selenium.webdriver.remote.webelement.WebElement (session=\"f24cf57a65fb61ed05db88333bdcb415\", element=\"f.EF2BCCD542EACB1FD9DCFAD87E7060CD.d.13564E3DB4BE40CA49A502F130B84A18.e.235\")>,\n",
       " <selenium.webdriver.remote.webelement.WebElement (session=\"f24cf57a65fb61ed05db88333bdcb415\", element=\"f.EF2BCCD542EACB1FD9DCFAD87E7060CD.d.13564E3DB4BE40CA49A502F130B84A18.e.236\")>,\n",
       " <selenium.webdriver.remote.webelement.WebElement (session=\"f24cf57a65fb61ed05db88333bdcb415\", element=\"f.EF2BCCD542EACB1FD9DCFAD87E7060CD.d.13564E3DB4BE40CA49A502F130B84A18.e.237\")>,\n",
       " <selenium.webdriver.remote.webelement.WebElement (session=\"f24cf57a65fb61ed05db88333bdcb415\", element=\"f.EF2BCCD542EACB1FD9DCFAD87E7060CD.d.13564E3DB4BE40CA49A502F130B84A18.e.238\")>,\n",
       " <selenium.webdriver.remote.webelement.WebElement (session=\"f24cf57a65fb61ed05db88333bdcb415\", element=\"f.EF2BCCD542EACB1FD9DCFAD87E7060CD.d.13564E3DB4BE40CA49A502F130B84A18.e.239\")>,\n",
       " <selenium.webdriver.remote.webelement.WebElement (session=\"f24cf57a65fb61ed05db88333bdcb415\", element=\"f.EF2BCCD542EACB1FD9DCFAD87E7060CD.d.13564E3DB4BE40CA49A502F130B84A18.e.240\")>,\n",
       " <selenium.webdriver.remote.webelement.WebElement (session=\"f24cf57a65fb61ed05db88333bdcb415\", element=\"f.EF2BCCD542EACB1FD9DCFAD87E7060CD.d.13564E3DB4BE40CA49A502F130B84A18.e.241\")>,\n",
       " <selenium.webdriver.remote.webelement.WebElement (session=\"f24cf57a65fb61ed05db88333bdcb415\", element=\"f.EF2BCCD542EACB1FD9DCFAD87E7060CD.d.13564E3DB4BE40CA49A502F130B84A18.e.242\")>,\n",
       " <selenium.webdriver.remote.webelement.WebElement (session=\"f24cf57a65fb61ed05db88333bdcb415\", element=\"f.EF2BCCD542EACB1FD9DCFAD87E7060CD.d.13564E3DB4BE40CA49A502F130B84A18.e.243\")>,\n",
       " <selenium.webdriver.remote.webelement.WebElement (session=\"f24cf57a65fb61ed05db88333bdcb415\", element=\"f.EF2BCCD542EACB1FD9DCFAD87E7060CD.d.13564E3DB4BE40CA49A502F130B84A18.e.244\")>,\n",
       " <selenium.webdriver.remote.webelement.WebElement (session=\"f24cf57a65fb61ed05db88333bdcb415\", element=\"f.EF2BCCD542EACB1FD9DCFAD87E7060CD.d.13564E3DB4BE40CA49A502F130B84A18.e.245\")>,\n",
       " <selenium.webdriver.remote.webelement.WebElement (session=\"f24cf57a65fb61ed05db88333bdcb415\", element=\"f.EF2BCCD542EACB1FD9DCFAD87E7060CD.d.13564E3DB4BE40CA49A502F130B84A18.e.246\")>,\n",
       " <selenium.webdriver.remote.webelement.WebElement (session=\"f24cf57a65fb61ed05db88333bdcb415\", element=\"f.EF2BCCD542EACB1FD9DCFAD87E7060CD.d.13564E3DB4BE40CA49A502F130B84A18.e.247\")>,\n",
       " <selenium.webdriver.remote.webelement.WebElement (session=\"f24cf57a65fb61ed05db88333bdcb415\", element=\"f.EF2BCCD542EACB1FD9DCFAD87E7060CD.d.13564E3DB4BE40CA49A502F130B84A18.e.248\")>,\n",
       " <selenium.webdriver.remote.webelement.WebElement (session=\"f24cf57a65fb61ed05db88333bdcb415\", element=\"f.EF2BCCD542EACB1FD9DCFAD87E7060CD.d.13564E3DB4BE40CA49A502F130B84A18.e.249\")>,\n",
       " <selenium.webdriver.remote.webelement.WebElement (session=\"f24cf57a65fb61ed05db88333bdcb415\", element=\"f.EF2BCCD542EACB1FD9DCFAD87E7060CD.d.13564E3DB4BE40CA49A502F130B84A18.e.250\")>,\n",
       " <selenium.webdriver.remote.webelement.WebElement (session=\"f24cf57a65fb61ed05db88333bdcb415\", element=\"f.EF2BCCD542EACB1FD9DCFAD87E7060CD.d.13564E3DB4BE40CA49A502F130B84A18.e.251\")>,\n",
       " <selenium.webdriver.remote.webelement.WebElement (session=\"f24cf57a65fb61ed05db88333bdcb415\", element=\"f.EF2BCCD542EACB1FD9DCFAD87E7060CD.d.13564E3DB4BE40CA49A502F130B84A18.e.252\")>,\n",
       " <selenium.webdriver.remote.webelement.WebElement (session=\"f24cf57a65fb61ed05db88333bdcb415\", element=\"f.EF2BCCD542EACB1FD9DCFAD87E7060CD.d.13564E3DB4BE40CA49A502F130B84A18.e.253\")>,\n",
       " <selenium.webdriver.remote.webelement.WebElement (session=\"f24cf57a65fb61ed05db88333bdcb415\", element=\"f.EF2BCCD542EACB1FD9DCFAD87E7060CD.d.13564E3DB4BE40CA49A502F130B84A18.e.254\")>,\n",
       " <selenium.webdriver.remote.webelement.WebElement (session=\"f24cf57a65fb61ed05db88333bdcb415\", element=\"f.EF2BCCD542EACB1FD9DCFAD87E7060CD.d.13564E3DB4BE40CA49A502F130B84A18.e.255\")>,\n",
       " <selenium.webdriver.remote.webelement.WebElement (session=\"f24cf57a65fb61ed05db88333bdcb415\", element=\"f.EF2BCCD542EACB1FD9DCFAD87E7060CD.d.13564E3DB4BE40CA49A502F130B84A18.e.256\")>,\n",
       " <selenium.webdriver.remote.webelement.WebElement (session=\"f24cf57a65fb61ed05db88333bdcb415\", element=\"f.EF2BCCD542EACB1FD9DCFAD87E7060CD.d.13564E3DB4BE40CA49A502F130B84A18.e.257\")>,\n",
       " <selenium.webdriver.remote.webelement.WebElement (session=\"f24cf57a65fb61ed05db88333bdcb415\", element=\"f.EF2BCCD542EACB1FD9DCFAD87E7060CD.d.13564E3DB4BE40CA49A502F130B84A18.e.258\")>,\n",
       " <selenium.webdriver.remote.webelement.WebElement (session=\"f24cf57a65fb61ed05db88333bdcb415\", element=\"f.EF2BCCD542EACB1FD9DCFAD87E7060CD.d.13564E3DB4BE40CA49A502F130B84A18.e.259\")>,\n",
       " <selenium.webdriver.remote.webelement.WebElement (session=\"f24cf57a65fb61ed05db88333bdcb415\", element=\"f.EF2BCCD542EACB1FD9DCFAD87E7060CD.d.13564E3DB4BE40CA49A502F130B84A18.e.260\")>,\n",
       " <selenium.webdriver.remote.webelement.WebElement (session=\"f24cf57a65fb61ed05db88333bdcb415\", element=\"f.EF2BCCD542EACB1FD9DCFAD87E7060CD.d.13564E3DB4BE40CA49A502F130B84A18.e.261\")>,\n",
       " <selenium.webdriver.remote.webelement.WebElement (session=\"f24cf57a65fb61ed05db88333bdcb415\", element=\"f.EF2BCCD542EACB1FD9DCFAD87E7060CD.d.13564E3DB4BE40CA49A502F130B84A18.e.262\")>,\n",
       " <selenium.webdriver.remote.webelement.WebElement (session=\"f24cf57a65fb61ed05db88333bdcb415\", element=\"f.EF2BCCD542EACB1FD9DCFAD87E7060CD.d.13564E3DB4BE40CA49A502F130B84A18.e.263\")>,\n",
       " <selenium.webdriver.remote.webelement.WebElement (session=\"f24cf57a65fb61ed05db88333bdcb415\", element=\"f.EF2BCCD542EACB1FD9DCFAD87E7060CD.d.13564E3DB4BE40CA49A502F130B84A18.e.264\")>,\n",
       " <selenium.webdriver.remote.webelement.WebElement (session=\"f24cf57a65fb61ed05db88333bdcb415\", element=\"f.EF2BCCD542EACB1FD9DCFAD87E7060CD.d.13564E3DB4BE40CA49A502F130B84A18.e.265\")>,\n",
       " <selenium.webdriver.remote.webelement.WebElement (session=\"f24cf57a65fb61ed05db88333bdcb415\", element=\"f.EF2BCCD542EACB1FD9DCFAD87E7060CD.d.13564E3DB4BE40CA49A502F130B84A18.e.266\")>,\n",
       " <selenium.webdriver.remote.webelement.WebElement (session=\"f24cf57a65fb61ed05db88333bdcb415\", element=\"f.EF2BCCD542EACB1FD9DCFAD87E7060CD.d.13564E3DB4BE40CA49A502F130B84A18.e.267\")>,\n",
       " <selenium.webdriver.remote.webelement.WebElement (session=\"f24cf57a65fb61ed05db88333bdcb415\", element=\"f.EF2BCCD542EACB1FD9DCFAD87E7060CD.d.13564E3DB4BE40CA49A502F130B84A18.e.268\")>,\n",
       " <selenium.webdriver.remote.webelement.WebElement (session=\"f24cf57a65fb61ed05db88333bdcb415\", element=\"f.EF2BCCD542EACB1FD9DCFAD87E7060CD.d.13564E3DB4BE40CA49A502F130B84A18.e.269\")>,\n",
       " <selenium.webdriver.remote.webelement.WebElement (session=\"f24cf57a65fb61ed05db88333bdcb415\", element=\"f.EF2BCCD542EACB1FD9DCFAD87E7060CD.d.13564E3DB4BE40CA49A502F130B84A18.e.270\")>,\n",
       " <selenium.webdriver.remote.webelement.WebElement (session=\"f24cf57a65fb61ed05db88333bdcb415\", element=\"f.EF2BCCD542EACB1FD9DCFAD87E7060CD.d.13564E3DB4BE40CA49A502F130B84A18.e.271\")>,\n",
       " <selenium.webdriver.remote.webelement.WebElement (session=\"f24cf57a65fb61ed05db88333bdcb415\", element=\"f.EF2BCCD542EACB1FD9DCFAD87E7060CD.d.13564E3DB4BE40CA49A502F130B84A18.e.272\")>,\n",
       " <selenium.webdriver.remote.webelement.WebElement (session=\"f24cf57a65fb61ed05db88333bdcb415\", element=\"f.EF2BCCD542EACB1FD9DCFAD87E7060CD.d.13564E3DB4BE40CA49A502F130B84A18.e.273\")>,\n",
       " <selenium.webdriver.remote.webelement.WebElement (session=\"f24cf57a65fb61ed05db88333bdcb415\", element=\"f.EF2BCCD542EACB1FD9DCFAD87E7060CD.d.13564E3DB4BE40CA49A502F130B84A18.e.274\")>,\n",
       " <selenium.webdriver.remote.webelement.WebElement (session=\"f24cf57a65fb61ed05db88333bdcb415\", element=\"f.EF2BCCD542EACB1FD9DCFAD87E7060CD.d.13564E3DB4BE40CA49A502F130B84A18.e.275\")>,\n",
       " <selenium.webdriver.remote.webelement.WebElement (session=\"f24cf57a65fb61ed05db88333bdcb415\", element=\"f.EF2BCCD542EACB1FD9DCFAD87E7060CD.d.13564E3DB4BE40CA49A502F130B84A18.e.276\")>,\n",
       " <selenium.webdriver.remote.webelement.WebElement (session=\"f24cf57a65fb61ed05db88333bdcb415\", element=\"f.EF2BCCD542EACB1FD9DCFAD87E7060CD.d.13564E3DB4BE40CA49A502F130B84A18.e.277\")>,\n",
       " <selenium.webdriver.remote.webelement.WebElement (session=\"f24cf57a65fb61ed05db88333bdcb415\", element=\"f.EF2BCCD542EACB1FD9DCFAD87E7060CD.d.13564E3DB4BE40CA49A502F130B84A18.e.278\")>,\n",
       " <selenium.webdriver.remote.webelement.WebElement (session=\"f24cf57a65fb61ed05db88333bdcb415\", element=\"f.EF2BCCD542EACB1FD9DCFAD87E7060CD.d.13564E3DB4BE40CA49A502F130B84A18.e.279\")>,\n",
       " <selenium.webdriver.remote.webelement.WebElement (session=\"f24cf57a65fb61ed05db88333bdcb415\", element=\"f.EF2BCCD542EACB1FD9DCFAD87E7060CD.d.13564E3DB4BE40CA49A502F130B84A18.e.280\")>,\n",
       " <selenium.webdriver.remote.webelement.WebElement (session=\"f24cf57a65fb61ed05db88333bdcb415\", element=\"f.EF2BCCD542EACB1FD9DCFAD87E7060CD.d.13564E3DB4BE40CA49A502F130B84A18.e.281\")>,\n",
       " <selenium.webdriver.remote.webelement.WebElement (session=\"f24cf57a65fb61ed05db88333bdcb415\", element=\"f.EF2BCCD542EACB1FD9DCFAD87E7060CD.d.13564E3DB4BE40CA49A502F130B84A18.e.282\")>,\n",
       " <selenium.webdriver.remote.webelement.WebElement (session=\"f24cf57a65fb61ed05db88333bdcb415\", element=\"f.EF2BCCD542EACB1FD9DCFAD87E7060CD.d.13564E3DB4BE40CA49A502F130B84A18.e.283\")>,\n",
       " <selenium.webdriver.remote.webelement.WebElement (session=\"f24cf57a65fb61ed05db88333bdcb415\", element=\"f.EF2BCCD542EACB1FD9DCFAD87E7060CD.d.13564E3DB4BE40CA49A502F130B84A18.e.284\")>,\n",
       " <selenium.webdriver.remote.webelement.WebElement (session=\"f24cf57a65fb61ed05db88333bdcb415\", element=\"f.EF2BCCD542EACB1FD9DCFAD87E7060CD.d.13564E3DB4BE40CA49A502F130B84A18.e.285\")>,\n",
       " <selenium.webdriver.remote.webelement.WebElement (session=\"f24cf57a65fb61ed05db88333bdcb415\", element=\"f.EF2BCCD542EACB1FD9DCFAD87E7060CD.d.13564E3DB4BE40CA49A502F130B84A18.e.286\")>,\n",
       " <selenium.webdriver.remote.webelement.WebElement (session=\"f24cf57a65fb61ed05db88333bdcb415\", element=\"f.EF2BCCD542EACB1FD9DCFAD87E7060CD.d.13564E3DB4BE40CA49A502F130B84A18.e.287\")>,\n",
       " <selenium.webdriver.remote.webelement.WebElement (session=\"f24cf57a65fb61ed05db88333bdcb415\", element=\"f.EF2BCCD542EACB1FD9DCFAD87E7060CD.d.13564E3DB4BE40CA49A502F130B84A18.e.288\")>,\n",
       " <selenium.webdriver.remote.webelement.WebElement (session=\"f24cf57a65fb61ed05db88333bdcb415\", element=\"f.EF2BCCD542EACB1FD9DCFAD87E7060CD.d.13564E3DB4BE40CA49A502F130B84A18.e.289\")>,\n",
       " <selenium.webdriver.remote.webelement.WebElement (session=\"f24cf57a65fb61ed05db88333bdcb415\", element=\"f.EF2BCCD542EACB1FD9DCFAD87E7060CD.d.13564E3DB4BE40CA49A502F130B84A18.e.290\")>,\n",
       " <selenium.webdriver.remote.webelement.WebElement (session=\"f24cf57a65fb61ed05db88333bdcb415\", element=\"f.EF2BCCD542EACB1FD9DCFAD87E7060CD.d.13564E3DB4BE40CA49A502F130B84A18.e.291\")>,\n",
       " <selenium.webdriver.remote.webelement.WebElement (session=\"f24cf57a65fb61ed05db88333bdcb415\", element=\"f.EF2BCCD542EACB1FD9DCFAD87E7060CD.d.13564E3DB4BE40CA49A502F130B84A18.e.292\")>,\n",
       " <selenium.webdriver.remote.webelement.WebElement (session=\"f24cf57a65fb61ed05db88333bdcb415\", element=\"f.EF2BCCD542EACB1FD9DCFAD87E7060CD.d.13564E3DB4BE40CA49A502F130B84A18.e.293\")>,\n",
       " <selenium.webdriver.remote.webelement.WebElement (session=\"f24cf57a65fb61ed05db88333bdcb415\", element=\"f.EF2BCCD542EACB1FD9DCFAD87E7060CD.d.13564E3DB4BE40CA49A502F130B84A18.e.294\")>,\n",
       " <selenium.webdriver.remote.webelement.WebElement (session=\"f24cf57a65fb61ed05db88333bdcb415\", element=\"f.EF2BCCD542EACB1FD9DCFAD87E7060CD.d.13564E3DB4BE40CA49A502F130B84A18.e.295\")>,\n",
       " <selenium.webdriver.remote.webelement.WebElement (session=\"f24cf57a65fb61ed05db88333bdcb415\", element=\"f.EF2BCCD542EACB1FD9DCFAD87E7060CD.d.13564E3DB4BE40CA49A502F130B84A18.e.296\")>,\n",
       " <selenium.webdriver.remote.webelement.WebElement (session=\"f24cf57a65fb61ed05db88333bdcb415\", element=\"f.EF2BCCD542EACB1FD9DCFAD87E7060CD.d.13564E3DB4BE40CA49A502F130B84A18.e.297\")>,\n",
       " <selenium.webdriver.remote.webelement.WebElement (session=\"f24cf57a65fb61ed05db88333bdcb415\", element=\"f.EF2BCCD542EACB1FD9DCFAD87E7060CD.d.13564E3DB4BE40CA49A502F130B84A18.e.298\")>,\n",
       " <selenium.webdriver.remote.webelement.WebElement (session=\"f24cf57a65fb61ed05db88333bdcb415\", element=\"f.EF2BCCD542EACB1FD9DCFAD87E7060CD.d.13564E3DB4BE40CA49A502F130B84A18.e.299\")>,\n",
       " <selenium.webdriver.remote.webelement.WebElement (session=\"f24cf57a65fb61ed05db88333bdcb415\", element=\"f.EF2BCCD542EACB1FD9DCFAD87E7060CD.d.13564E3DB4BE40CA49A502F130B84A18.e.300\")>,\n",
       " <selenium.webdriver.remote.webelement.WebElement (session=\"f24cf57a65fb61ed05db88333bdcb415\", element=\"f.EF2BCCD542EACB1FD9DCFAD87E7060CD.d.13564E3DB4BE40CA49A502F130B84A18.e.301\")>,\n",
       " <selenium.webdriver.remote.webelement.WebElement (session=\"f24cf57a65fb61ed05db88333bdcb415\", element=\"f.EF2BCCD542EACB1FD9DCFAD87E7060CD.d.13564E3DB4BE40CA49A502F130B84A18.e.302\")>,\n",
       " <selenium.webdriver.remote.webelement.WebElement (session=\"f24cf57a65fb61ed05db88333bdcb415\", element=\"f.EF2BCCD542EACB1FD9DCFAD87E7060CD.d.13564E3DB4BE40CA49A502F130B84A18.e.303\")>,\n",
       " <selenium.webdriver.remote.webelement.WebElement (session=\"f24cf57a65fb61ed05db88333bdcb415\", element=\"f.EF2BCCD542EACB1FD9DCFAD87E7060CD.d.13564E3DB4BE40CA49A502F130B84A18.e.304\")>,\n",
       " <selenium.webdriver.remote.webelement.WebElement (session=\"f24cf57a65fb61ed05db88333bdcb415\", element=\"f.EF2BCCD542EACB1FD9DCFAD87E7060CD.d.13564E3DB4BE40CA49A502F130B84A18.e.305\")>,\n",
       " <selenium.webdriver.remote.webelement.WebElement (session=\"f24cf57a65fb61ed05db88333bdcb415\", element=\"f.EF2BCCD542EACB1FD9DCFAD87E7060CD.d.13564E3DB4BE40CA49A502F130B84A18.e.306\")>,\n",
       " <selenium.webdriver.remote.webelement.WebElement (session=\"f24cf57a65fb61ed05db88333bdcb415\", element=\"f.EF2BCCD542EACB1FD9DCFAD87E7060CD.d.13564E3DB4BE40CA49A502F130B84A18.e.307\")>,\n",
       " <selenium.webdriver.remote.webelement.WebElement (session=\"f24cf57a65fb61ed05db88333bdcb415\", element=\"f.EF2BCCD542EACB1FD9DCFAD87E7060CD.d.13564E3DB4BE40CA49A502F130B84A18.e.308\")>,\n",
       " <selenium.webdriver.remote.webelement.WebElement (session=\"f24cf57a65fb61ed05db88333bdcb415\", element=\"f.EF2BCCD542EACB1FD9DCFAD87E7060CD.d.13564E3DB4BE40CA49A502F130B84A18.e.309\")>,\n",
       " <selenium.webdriver.remote.webelement.WebElement (session=\"f24cf57a65fb61ed05db88333bdcb415\", element=\"f.EF2BCCD542EACB1FD9DCFAD87E7060CD.d.13564E3DB4BE40CA49A502F130B84A18.e.310\")>,\n",
       " <selenium.webdriver.remote.webelement.WebElement (session=\"f24cf57a65fb61ed05db88333bdcb415\", element=\"f.EF2BCCD542EACB1FD9DCFAD87E7060CD.d.13564E3DB4BE40CA49A502F130B84A18.e.311\")>,\n",
       " <selenium.webdriver.remote.webelement.WebElement (session=\"f24cf57a65fb61ed05db88333bdcb415\", element=\"f.EF2BCCD542EACB1FD9DCFAD87E7060CD.d.13564E3DB4BE40CA49A502F130B84A18.e.312\")>,\n",
       " <selenium.webdriver.remote.webelement.WebElement (session=\"f24cf57a65fb61ed05db88333bdcb415\", element=\"f.EF2BCCD542EACB1FD9DCFAD87E7060CD.d.13564E3DB4BE40CA49A502F130B84A18.e.313\")>,\n",
       " <selenium.webdriver.remote.webelement.WebElement (session=\"f24cf57a65fb61ed05db88333bdcb415\", element=\"f.EF2BCCD542EACB1FD9DCFAD87E7060CD.d.13564E3DB4BE40CA49A502F130B84A18.e.314\")>,\n",
       " <selenium.webdriver.remote.webelement.WebElement (session=\"f24cf57a65fb61ed05db88333bdcb415\", element=\"f.EF2BCCD542EACB1FD9DCFAD87E7060CD.d.13564E3DB4BE40CA49A502F130B84A18.e.315\")>,\n",
       " <selenium.webdriver.remote.webelement.WebElement (session=\"f24cf57a65fb61ed05db88333bdcb415\", element=\"f.EF2BCCD542EACB1FD9DCFAD87E7060CD.d.13564E3DB4BE40CA49A502F130B84A18.e.316\")>,\n",
       " <selenium.webdriver.remote.webelement.WebElement (session=\"f24cf57a65fb61ed05db88333bdcb415\", element=\"f.EF2BCCD542EACB1FD9DCFAD87E7060CD.d.13564E3DB4BE40CA49A502F130B84A18.e.317\")>,\n",
       " <selenium.webdriver.remote.webelement.WebElement (session=\"f24cf57a65fb61ed05db88333bdcb415\", element=\"f.EF2BCCD542EACB1FD9DCFAD87E7060CD.d.13564E3DB4BE40CA49A502F130B84A18.e.318\")>,\n",
       " <selenium.webdriver.remote.webelement.WebElement (session=\"f24cf57a65fb61ed05db88333bdcb415\", element=\"f.EF2BCCD542EACB1FD9DCFAD87E7060CD.d.13564E3DB4BE40CA49A502F130B84A18.e.319\")>,\n",
       " <selenium.webdriver.remote.webelement.WebElement (session=\"f24cf57a65fb61ed05db88333bdcb415\", element=\"f.EF2BCCD542EACB1FD9DCFAD87E7060CD.d.13564E3DB4BE40CA49A502F130B84A18.e.320\")>]"
      ]
     },
     "execution_count": 130,
     "metadata": {},
     "output_type": "execute_result"
    }
   ],
   "source": [
    "pel = peliculas.find_elements(By.TAG_NAME,'li')\n",
    "pel"
   ]
  },
  {
   "cell_type": "code",
   "execution_count": 131,
   "metadata": {},
   "outputs": [
    {
     "data": {
      "text/plain": [
       "['1. Cadena perpetua', '1994', '2h 22m', '13', '9,3', ' (2,9 M)', 'Puntuar']"
      ]
     },
     "execution_count": 131,
     "metadata": {},
     "output_type": "execute_result"
    }
   ],
   "source": [
    "pel[0].text.split('\\n')"
   ]
  },
  {
   "cell_type": "code",
   "execution_count": 132,
   "metadata": {},
   "outputs": [
    {
     "data": {
      "text/html": [
       "<div>\n",
       "<style scoped>\n",
       "    .dataframe tbody tr th:only-of-type {\n",
       "        vertical-align: middle;\n",
       "    }\n",
       "\n",
       "    .dataframe tbody tr th {\n",
       "        vertical-align: top;\n",
       "    }\n",
       "\n",
       "    .dataframe thead th {\n",
       "        text-align: right;\n",
       "    }\n",
       "</style>\n",
       "<table border=\"1\" class=\"dataframe\">\n",
       "  <thead>\n",
       "    <tr style=\"text-align: right;\">\n",
       "      <th></th>\n",
       "      <th>0</th>\n",
       "      <th>1</th>\n",
       "      <th>2</th>\n",
       "      <th>3</th>\n",
       "      <th>4</th>\n",
       "      <th>5</th>\n",
       "      <th>6</th>\n",
       "    </tr>\n",
       "  </thead>\n",
       "  <tbody>\n",
       "    <tr>\n",
       "      <th>0</th>\n",
       "      <td>1. Cadena perpetua</td>\n",
       "      <td>1994</td>\n",
       "      <td>2h 22m</td>\n",
       "      <td>13</td>\n",
       "      <td>9,3</td>\n",
       "      <td>(2,9 M)</td>\n",
       "      <td>Puntuar</td>\n",
       "    </tr>\n",
       "    <tr>\n",
       "      <th>1</th>\n",
       "      <td>2. El padrino</td>\n",
       "      <td>1972</td>\n",
       "      <td>2h 55m</td>\n",
       "      <td>18</td>\n",
       "      <td>9,2</td>\n",
       "      <td>(2 M)</td>\n",
       "      <td>Puntuar</td>\n",
       "    </tr>\n",
       "    <tr>\n",
       "      <th>2</th>\n",
       "      <td>3. El caballero oscuro</td>\n",
       "      <td>2008</td>\n",
       "      <td>2h 32m</td>\n",
       "      <td>12</td>\n",
       "      <td>9,0</td>\n",
       "      <td>(2,8 M)</td>\n",
       "      <td>Puntuar</td>\n",
       "    </tr>\n",
       "    <tr>\n",
       "      <th>3</th>\n",
       "      <td>4. El padrino parte II</td>\n",
       "      <td>1974</td>\n",
       "      <td>3h 22m</td>\n",
       "      <td>18</td>\n",
       "      <td>9,0</td>\n",
       "      <td>(1,4 M)</td>\n",
       "      <td>Puntuar</td>\n",
       "    </tr>\n",
       "    <tr>\n",
       "      <th>4</th>\n",
       "      <td>5. 12 hombres sin piedad</td>\n",
       "      <td>1957</td>\n",
       "      <td>1h 36m</td>\n",
       "      <td>A</td>\n",
       "      <td>9,0</td>\n",
       "      <td>(856 mil)</td>\n",
       "      <td>Puntuar</td>\n",
       "    </tr>\n",
       "    <tr>\n",
       "      <th>...</th>\n",
       "      <td>...</td>\n",
       "      <td>...</td>\n",
       "      <td>...</td>\n",
       "      <td>...</td>\n",
       "      <td>...</td>\n",
       "      <td>...</td>\n",
       "      <td>...</td>\n",
       "    </tr>\n",
       "    <tr>\n",
       "      <th>245</th>\n",
       "      <td>246. El gigante de hierro</td>\n",
       "      <td>1999</td>\n",
       "      <td>1h 26m</td>\n",
       "      <td>A</td>\n",
       "      <td>8,1</td>\n",
       "      <td>(225 mil)</td>\n",
       "      <td>Puntuar</td>\n",
       "    </tr>\n",
       "    <tr>\n",
       "      <th>246</th>\n",
       "      <td>247. Criadas y señoras</td>\n",
       "      <td>2011</td>\n",
       "      <td>2h 26m</td>\n",
       "      <td>A</td>\n",
       "      <td>8,1</td>\n",
       "      <td>(489 mil)</td>\n",
       "      <td>Puntuar</td>\n",
       "    </tr>\n",
       "    <tr>\n",
       "      <th>247</th>\n",
       "      <td>248. Sucedió una noche</td>\n",
       "      <td>1934</td>\n",
       "      <td>1h 45m</td>\n",
       "      <td>A</td>\n",
       "      <td>8,1</td>\n",
       "      <td>(112 mil)</td>\n",
       "      <td>Puntuar</td>\n",
       "    </tr>\n",
       "    <tr>\n",
       "      <th>248</th>\n",
       "      <td>249. Los cuatrocientos golpes</td>\n",
       "      <td>1959</td>\n",
       "      <td>1h 32m</td>\n",
       "      <td>A</td>\n",
       "      <td>8,1</td>\n",
       "      <td>(127 mil)</td>\n",
       "      <td>Puntuar</td>\n",
       "    </tr>\n",
       "    <tr>\n",
       "      <th>249</th>\n",
       "      <td>250. Bailando con lobos</td>\n",
       "      <td>1990</td>\n",
       "      <td>3h 1m</td>\n",
       "      <td>A</td>\n",
       "      <td>8,0</td>\n",
       "      <td>(288 mil)</td>\n",
       "      <td>Puntuar</td>\n",
       "    </tr>\n",
       "  </tbody>\n",
       "</table>\n",
       "<p>250 rows × 7 columns</p>\n",
       "</div>"
      ],
      "text/plain": [
       "                                 0     1       2   3    4           5        6\n",
       "0               1. Cadena perpetua  1994  2h 22m  13  9,3     (2,9 M)  Puntuar\n",
       "1                    2. El padrino  1972  2h 55m  18  9,2       (2 M)  Puntuar\n",
       "2           3. El caballero oscuro  2008  2h 32m  12  9,0     (2,8 M)  Puntuar\n",
       "3           4. El padrino parte II  1974  3h 22m  18  9,0     (1,4 M)  Puntuar\n",
       "4         5. 12 hombres sin piedad  1957  1h 36m   A  9,0   (856 mil)  Puntuar\n",
       "..                             ...   ...     ...  ..  ...         ...      ...\n",
       "245      246. El gigante de hierro  1999  1h 26m   A  8,1   (225 mil)  Puntuar\n",
       "246         247. Criadas y señoras  2011  2h 26m   A  8,1   (489 mil)  Puntuar\n",
       "247         248. Sucedió una noche  1934  1h 45m   A  8,1   (112 mil)  Puntuar\n",
       "248  249. Los cuatrocientos golpes  1959  1h 32m   A  8,1   (127 mil)  Puntuar\n",
       "249        250. Bailando con lobos  1990   3h 1m   A  8,0   (288 mil)  Puntuar\n",
       "\n",
       "[250 rows x 7 columns]"
      ]
     },
     "execution_count": 132,
     "metadata": {},
     "output_type": "execute_result"
    }
   ],
   "source": [
    "df = pd.DataFrame([e.text.split('\\n') for e in pel])\n",
    "df"
   ]
  },
  {
   "cell_type": "code",
   "execution_count": 133,
   "metadata": {
    "scrolled": true
   },
   "outputs": [
    {
     "data": {
      "text/html": [
       "<div>\n",
       "<style scoped>\n",
       "    .dataframe tbody tr th:only-of-type {\n",
       "        vertical-align: middle;\n",
       "    }\n",
       "\n",
       "    .dataframe tbody tr th {\n",
       "        vertical-align: top;\n",
       "    }\n",
       "\n",
       "    .dataframe thead th {\n",
       "        text-align: right;\n",
       "    }\n",
       "</style>\n",
       "<table border=\"1\" class=\"dataframe\">\n",
       "  <thead>\n",
       "    <tr style=\"text-align: right;\">\n",
       "      <th></th>\n",
       "      <th>0</th>\n",
       "      <th>1</th>\n",
       "      <th>2</th>\n",
       "      <th>3</th>\n",
       "      <th>4</th>\n",
       "      <th>5</th>\n",
       "      <th>6</th>\n",
       "    </tr>\n",
       "  </thead>\n",
       "  <tbody>\n",
       "    <tr>\n",
       "      <th>0</th>\n",
       "      <td>1. Cadena perpetua</td>\n",
       "      <td>1994</td>\n",
       "      <td>2h 22m</td>\n",
       "      <td>13</td>\n",
       "      <td>9,3</td>\n",
       "      <td>(2,9 M)</td>\n",
       "      <td>Puntuar</td>\n",
       "    </tr>\n",
       "    <tr>\n",
       "      <th>1</th>\n",
       "      <td>2. El padrino</td>\n",
       "      <td>1972</td>\n",
       "      <td>2h 55m</td>\n",
       "      <td>18</td>\n",
       "      <td>9,2</td>\n",
       "      <td>(2 M)</td>\n",
       "      <td>Puntuar</td>\n",
       "    </tr>\n",
       "    <tr>\n",
       "      <th>2</th>\n",
       "      <td>3. El caballero oscuro</td>\n",
       "      <td>2008</td>\n",
       "      <td>2h 32m</td>\n",
       "      <td>12</td>\n",
       "      <td>9,0</td>\n",
       "      <td>(2,8 M)</td>\n",
       "      <td>Puntuar</td>\n",
       "    </tr>\n",
       "    <tr>\n",
       "      <th>3</th>\n",
       "      <td>4. El padrino parte II</td>\n",
       "      <td>1974</td>\n",
       "      <td>3h 22m</td>\n",
       "      <td>18</td>\n",
       "      <td>9,0</td>\n",
       "      <td>(1,4 M)</td>\n",
       "      <td>Puntuar</td>\n",
       "    </tr>\n",
       "    <tr>\n",
       "      <th>4</th>\n",
       "      <td>5. 12 hombres sin piedad</td>\n",
       "      <td>1957</td>\n",
       "      <td>1h 36m</td>\n",
       "      <td>A</td>\n",
       "      <td>9,0</td>\n",
       "      <td>(856 mil)</td>\n",
       "      <td>Puntuar</td>\n",
       "    </tr>\n",
       "  </tbody>\n",
       "</table>\n",
       "</div>"
      ],
      "text/plain": [
       "                          0     1       2   3    4           5        6\n",
       "0        1. Cadena perpetua  1994  2h 22m  13  9,3     (2,9 M)  Puntuar\n",
       "1             2. El padrino  1972  2h 55m  18  9,2       (2 M)  Puntuar\n",
       "2    3. El caballero oscuro  2008  2h 32m  12  9,0     (2,8 M)  Puntuar\n",
       "3    4. El padrino parte II  1974  3h 22m  18  9,0     (1,4 M)  Puntuar\n",
       "4  5. 12 hombres sin piedad  1957  1h 36m   A  9,0   (856 mil)  Puntuar"
      ]
     },
     "execution_count": 133,
     "metadata": {},
     "output_type": "execute_result"
    }
   ],
   "source": [
    "df.head()"
   ]
  },
  {
   "cell_type": "code",
   "execution_count": 134,
   "metadata": {},
   "outputs": [],
   "source": [
    "driver.close()"
   ]
  },
  {
   "cell_type": "markdown",
   "metadata": {},
   "source": [
    "#### Movie name, year and a brief summary of the top 10 random movies (IMDB) as a pandas dataframe."
   ]
  },
  {
   "cell_type": "code",
   "execution_count": 135,
   "metadata": {},
   "outputs": [],
   "source": [
    "#This is the url you will scrape in this exercise\n",
    "url = 'http://www.imdb.com/chart/top'"
   ]
  },
  {
   "cell_type": "code",
   "execution_count": 136,
   "metadata": {},
   "outputs": [],
   "source": [
    "driver = webdriver.Chrome()"
   ]
  },
  {
   "cell_type": "code",
   "execution_count": 137,
   "metadata": {},
   "outputs": [],
   "source": [
    "driver.get(url)"
   ]
  },
  {
   "cell_type": "code",
   "execution_count": 138,
   "metadata": {},
   "outputs": [],
   "source": [
    "driver.find_element(By.XPATH, '//*[@id=\"list-view-option-detailed\"]').click()"
   ]
  },
  {
   "cell_type": "code",
   "execution_count": 139,
   "metadata": {},
   "outputs": [
    {
     "data": {
      "text/plain": [
       "<selenium.webdriver.remote.webelement.WebElement (session=\"8802e245680969d1d201e2e1b14de9cd\", element=\"f.5489EB9DAC9613CE115D9E18B0C62DF3.d.EE13D3F69DDD01F0F06803C83D4C2D98.e.67\")>"
      ]
     },
     "execution_count": 139,
     "metadata": {},
     "output_type": "execute_result"
    }
   ],
   "source": [
    "pelis = driver.find_element(By.XPATH, '//*[@id=\"__next\"]/main/div/div[3]/section/div/div[2]/div/ul')\n",
    "pelis"
   ]
  },
  {
   "cell_type": "code",
   "execution_count": 140,
   "metadata": {},
   "outputs": [
    {
     "data": {
      "text/plain": [
       "75"
      ]
     },
     "execution_count": 140,
     "metadata": {},
     "output_type": "execute_result"
    }
   ],
   "source": [
    "pel = pelis.find_elements(By.TAG_NAME,'li')\n",
    "len(pel)"
   ]
  },
  {
   "cell_type": "code",
   "execution_count": 141,
   "metadata": {},
   "outputs": [
    {
     "data": {
      "text/plain": [
       "['1. Cadena perpetua',\n",
       " '1994',\n",
       " '2h 22m',\n",
       " '13',\n",
       " '9,3',\n",
       " ' (2,9 M)',\n",
       " 'Puntuar',\n",
       " 'Andy Dufresne es encarcelado por matar a su esposa y al amante de esta. Tras una dura adaptación, intenta mejorar las condiciones de la prisión y dar esperanza a sus compañeros.',\n",
       " 'DirectorFrank DarabontEstrellasTim RobbinsMorgan FreemanBob Gunton',\n",
       " 'Votos2.865.062']"
      ]
     },
     "execution_count": 141,
     "metadata": {},
     "output_type": "execute_result"
    }
   ],
   "source": [
    "pel[0].text.split('\\n')"
   ]
  },
  {
   "cell_type": "code",
   "execution_count": 142,
   "metadata": {},
   "outputs": [
    {
     "data": {
      "text/plain": [
       "'1. Cadena perpetua'"
      ]
     },
     "execution_count": 142,
     "metadata": {},
     "output_type": "execute_result"
    }
   ],
   "source": [
    "nombre = pel[0].find_element(By.TAG_NAME, 'h3').text\n",
    "nombre"
   ]
  },
  {
   "cell_type": "code",
   "execution_count": 143,
   "metadata": {},
   "outputs": [
    {
     "data": {
      "text/plain": [
       "'1994'"
      ]
     },
     "execution_count": 143,
     "metadata": {},
     "output_type": "execute_result"
    }
   ],
   "source": [
    "año = pel[0].find_elements(By.TAG_NAME, 'span')[1].text\n",
    "año"
   ]
  },
  {
   "cell_type": "code",
   "execution_count": 144,
   "metadata": {},
   "outputs": [
    {
     "data": {
      "text/plain": [
       "'2h 22m'"
      ]
     },
     "execution_count": 144,
     "metadata": {},
     "output_type": "execute_result"
    }
   ],
   "source": [
    "dur = pel[0].find_elements(By.TAG_NAME, 'span')[2].text\n",
    "dur"
   ]
  },
  {
   "cell_type": "code",
   "execution_count": 145,
   "metadata": {},
   "outputs": [
    {
     "data": {
      "text/plain": [
       "'13'"
      ]
     },
     "execution_count": 145,
     "metadata": {},
     "output_type": "execute_result"
    }
   ],
   "source": [
    "edad = pel[0].find_elements(By.TAG_NAME, 'span')[3].text\n",
    "edad"
   ]
  },
  {
   "cell_type": "code",
   "execution_count": 146,
   "metadata": {},
   "outputs": [
    {
     "data": {
      "text/plain": [
       "'9,3\\n (2,9 M)\\nPuntuar'"
      ]
     },
     "execution_count": 146,
     "metadata": {},
     "output_type": "execute_result"
    }
   ],
   "source": [
    "est = pel[0].find_elements(By.TAG_NAME, 'span')[4].text\n",
    "est"
   ]
  },
  {
   "cell_type": "code",
   "execution_count": 147,
   "metadata": {},
   "outputs": [
    {
     "data": {
      "text/plain": [
       "['9,3', ' (2,9 M)', 'Puntuar']"
      ]
     },
     "execution_count": 147,
     "metadata": {},
     "output_type": "execute_result"
    }
   ],
   "source": [
    "est.split('\\n')"
   ]
  },
  {
   "cell_type": "code",
   "execution_count": 148,
   "metadata": {},
   "outputs": [],
   "source": [
    "reco = est.split('\\n')[0]\n",
    "usuarios = est.split('\\n')[1].strip().replace('(', '').replace(')', '')"
   ]
  },
  {
   "cell_type": "code",
   "execution_count": 149,
   "metadata": {},
   "outputs": [
    {
     "data": {
      "text/plain": [
       "'9,3'"
      ]
     },
     "execution_count": 149,
     "metadata": {},
     "output_type": "execute_result"
    }
   ],
   "source": [
    "reco"
   ]
  },
  {
   "cell_type": "code",
   "execution_count": 150,
   "metadata": {},
   "outputs": [
    {
     "data": {
      "text/plain": [
       "'2,9 M'"
      ]
     },
     "execution_count": 150,
     "metadata": {},
     "output_type": "execute_result"
    }
   ],
   "source": [
    "usuarios"
   ]
  },
  {
   "cell_type": "code",
   "execution_count": 151,
   "metadata": {},
   "outputs": [
    {
     "data": {
      "text/plain": [
       "'Andy Dufresne es encarcelado por matar a su esposa y al amante de esta. Tras una dura adaptación, intenta mejorar las condiciones de la prisión y dar esperanza a sus compañeros.'"
      ]
     },
     "execution_count": 151,
     "metadata": {},
     "output_type": "execute_result"
    }
   ],
   "source": [
    "desc = pel[0].find_element(By.CSS_SELECTOR, 'div.ipc-html-content-inner-div').text\n",
    "desc"
   ]
  },
  {
   "cell_type": "code",
   "execution_count": 152,
   "metadata": {},
   "outputs": [
    {
     "data": {
      "text/plain": [
       "'Frank Darabont'"
      ]
     },
     "execution_count": 152,
     "metadata": {},
     "output_type": "execute_result"
    }
   ],
   "source": [
    "director = pel[0].find_element(By.CSS_SELECTOR, 'a.ipc-link.ipc-link--base.dli-director-item').text\n",
    "director"
   ]
  },
  {
   "cell_type": "code",
   "execution_count": 153,
   "metadata": {},
   "outputs": [
    {
     "data": {
      "text/plain": [
       "['Estrellas', 'Tim Robbins', 'Morgan Freeman', 'Bob Gunton']"
      ]
     },
     "execution_count": 153,
     "metadata": {},
     "output_type": "execute_result"
    }
   ],
   "source": [
    "estrellas = [e.text for e in pel[0].find_elements(By.TAG_NAME, 'span')[11:]][:-1]\n",
    "estrellas"
   ]
  },
  {
   "cell_type": "code",
   "execution_count": 154,
   "metadata": {},
   "outputs": [
    {
     "data": {
      "text/plain": [
       "'2.865.062'"
      ]
     },
     "execution_count": 154,
     "metadata": {},
     "output_type": "execute_result"
    }
   ],
   "source": [
    "votos = pel[0].find_element(By.CSS_SELECTOR, 'div.sc-f24f1c5c-0.cPpOqU').text[5:]\n",
    "votos"
   ]
  },
  {
   "cell_type": "code",
   "execution_count": 155,
   "metadata": {},
   "outputs": [],
   "source": [
    "data = []\n",
    "\n",
    "for p in pel:\n",
    "    \n",
    "    est = p.find_elements(By.TAG_NAME, 'span')[4].text\n",
    "    \n",
    "    dictio = {'nombre': p.find_element(By.TAG_NAME, 'h3').text,\n",
    "              'año': p.find_elements(By.TAG_NAME, 'span')[1].text,\n",
    "              'duracion': p.find_elements(By.TAG_NAME, 'span')[2].text,\n",
    "              'edad': p.find_elements(By.TAG_NAME, 'span')[3].text,\n",
    "              'reco': est.split('\\n')[0],\n",
    "              'usuarios': est.split('\\n')[1].strip().replace('(', '').replace(')', ''),\n",
    "              'desc': p.find_element(By.CSS_SELECTOR, 'div.ipc-html-content-inner-div').text,\n",
    "              'director': p.find_element(By.CSS_SELECTOR, 'a.ipc-link.ipc-link--base.dli-director-item').text,\n",
    "              'estrellas': '-'.join([e.text for e in p.find_elements(By.TAG_NAME, 'span')[11:]][:-1]),\n",
    "              'votos': p.find_element(By.CSS_SELECTOR, 'div.sc-f24f1c5c-0.cPpOqU').text[5:]\n",
    "\n",
    "             }\n",
    "    \n",
    "    \n",
    "    data.append(dictio)"
   ]
  },
  {
   "cell_type": "code",
   "execution_count": 156,
   "metadata": {
    "scrolled": true
   },
   "outputs": [
    {
     "data": {
      "text/html": [
       "<div>\n",
       "<style scoped>\n",
       "    .dataframe tbody tr th:only-of-type {\n",
       "        vertical-align: middle;\n",
       "    }\n",
       "\n",
       "    .dataframe tbody tr th {\n",
       "        vertical-align: top;\n",
       "    }\n",
       "\n",
       "    .dataframe thead th {\n",
       "        text-align: right;\n",
       "    }\n",
       "</style>\n",
       "<table border=\"1\" class=\"dataframe\">\n",
       "  <thead>\n",
       "    <tr style=\"text-align: right;\">\n",
       "      <th></th>\n",
       "      <th>nombre</th>\n",
       "      <th>año</th>\n",
       "      <th>duracion</th>\n",
       "      <th>edad</th>\n",
       "      <th>reco</th>\n",
       "      <th>usuarios</th>\n",
       "      <th>desc</th>\n",
       "      <th>director</th>\n",
       "      <th>estrellas</th>\n",
       "      <th>votos</th>\n",
       "    </tr>\n",
       "  </thead>\n",
       "  <tbody>\n",
       "    <tr>\n",
       "      <th>0</th>\n",
       "      <td>1. Cadena perpetua</td>\n",
       "      <td>1994</td>\n",
       "      <td>2h 22m</td>\n",
       "      <td>13</td>\n",
       "      <td>9,3</td>\n",
       "      <td>2,9 M</td>\n",
       "      <td>Andy Dufresne es encarcelado por matar a su es...</td>\n",
       "      <td>Frank Darabont</td>\n",
       "      <td>Estrellas-Tim Robbins-Morgan Freeman-Bob Gunton</td>\n",
       "      <td>2.865.062</td>\n",
       "    </tr>\n",
       "    <tr>\n",
       "      <th>1</th>\n",
       "      <td>2. El padrino</td>\n",
       "      <td>1972</td>\n",
       "      <td>2h 55m</td>\n",
       "      <td>18</td>\n",
       "      <td>9,2</td>\n",
       "      <td>2 M</td>\n",
       "      <td>El envejecido patriarca de una dinastía del cr...</td>\n",
       "      <td>Francis Ford Coppola</td>\n",
       "      <td>Estrellas-Marlon Brando-Al Pacino-James Caan</td>\n",
       "      <td>1.995.660</td>\n",
       "    </tr>\n",
       "    <tr>\n",
       "      <th>2</th>\n",
       "      <td>3. El caballero oscuro</td>\n",
       "      <td>2008</td>\n",
       "      <td>2h 32m</td>\n",
       "      <td>12</td>\n",
       "      <td>9,0</td>\n",
       "      <td>2,8 M</td>\n",
       "      <td>Cuando la amenaza conocida como el Joker causa...</td>\n",
       "      <td>Christopher Nolan</td>\n",
       "      <td>Estrellas-Christian Bale-Heath Ledger-Aaron Ec...</td>\n",
       "      <td>2.846.250</td>\n",
       "    </tr>\n",
       "    <tr>\n",
       "      <th>3</th>\n",
       "      <td>4. El padrino parte II</td>\n",
       "      <td>1974</td>\n",
       "      <td>3h 22m</td>\n",
       "      <td>18</td>\n",
       "      <td>9,0</td>\n",
       "      <td>1,4 M</td>\n",
       "      <td>Se retratan los inicios de la vida y la carrer...</td>\n",
       "      <td>Francis Ford Coppola</td>\n",
       "      <td>Estrellas-Al Pacino-Robert De Niro-Robert Duvall</td>\n",
       "      <td>1.354.041</td>\n",
       "    </tr>\n",
       "    <tr>\n",
       "      <th>4</th>\n",
       "      <td>5. 12 hombres sin piedad</td>\n",
       "      <td>1957</td>\n",
       "      <td>1h 36m</td>\n",
       "      <td>A</td>\n",
       "      <td>9,0</td>\n",
       "      <td>856 mil</td>\n",
       "      <td>Un miembro del jurado trata de evitar un error...</td>\n",
       "      <td>Sidney Lumet</td>\n",
       "      <td>Estrellas-Henry Fonda-Lee J. Cobb-Martin Balsam</td>\n",
       "      <td>856.383</td>\n",
       "    </tr>\n",
       "  </tbody>\n",
       "</table>\n",
       "</div>"
      ],
      "text/plain": [
       "                     nombre   año duracion edad reco usuarios  \\\n",
       "0        1. Cadena perpetua  1994   2h 22m   13  9,3    2,9 M   \n",
       "1             2. El padrino  1972   2h 55m   18  9,2      2 M   \n",
       "2    3. El caballero oscuro  2008   2h 32m   12  9,0    2,8 M   \n",
       "3    4. El padrino parte II  1974   3h 22m   18  9,0    1,4 M   \n",
       "4  5. 12 hombres sin piedad  1957   1h 36m    A  9,0  856 mil   \n",
       "\n",
       "                                                desc              director  \\\n",
       "0  Andy Dufresne es encarcelado por matar a su es...        Frank Darabont   \n",
       "1  El envejecido patriarca de una dinastía del cr...  Francis Ford Coppola   \n",
       "2  Cuando la amenaza conocida como el Joker causa...     Christopher Nolan   \n",
       "3  Se retratan los inicios de la vida y la carrer...  Francis Ford Coppola   \n",
       "4  Un miembro del jurado trata de evitar un error...          Sidney Lumet   \n",
       "\n",
       "                                           estrellas      votos  \n",
       "0    Estrellas-Tim Robbins-Morgan Freeman-Bob Gunton  2.865.062  \n",
       "1       Estrellas-Marlon Brando-Al Pacino-James Caan  1.995.660  \n",
       "2  Estrellas-Christian Bale-Heath Ledger-Aaron Ec...  2.846.250  \n",
       "3   Estrellas-Al Pacino-Robert De Niro-Robert Duvall  1.354.041  \n",
       "4    Estrellas-Henry Fonda-Lee J. Cobb-Martin Balsam    856.383  "
      ]
     },
     "execution_count": 156,
     "metadata": {},
     "output_type": "execute_result"
    }
   ],
   "source": [
    "df = pd.DataFrame(data)\n",
    "df.head()"
   ]
  },
  {
   "cell_type": "code",
   "execution_count": 157,
   "metadata": {
    "scrolled": true
   },
   "outputs": [
    {
     "data": {
      "text/html": [
       "<div>\n",
       "<style scoped>\n",
       "    .dataframe tbody tr th:only-of-type {\n",
       "        vertical-align: middle;\n",
       "    }\n",
       "\n",
       "    .dataframe tbody tr th {\n",
       "        vertical-align: top;\n",
       "    }\n",
       "\n",
       "    .dataframe thead th {\n",
       "        text-align: right;\n",
       "    }\n",
       "</style>\n",
       "<table border=\"1\" class=\"dataframe\">\n",
       "  <thead>\n",
       "    <tr style=\"text-align: right;\">\n",
       "      <th></th>\n",
       "      <th>nombre</th>\n",
       "      <th>año</th>\n",
       "      <th>duracion</th>\n",
       "      <th>edad</th>\n",
       "      <th>reco</th>\n",
       "      <th>usuarios</th>\n",
       "      <th>desc</th>\n",
       "      <th>director</th>\n",
       "      <th>estrellas</th>\n",
       "      <th>votos</th>\n",
       "    </tr>\n",
       "  </thead>\n",
       "  <tbody>\n",
       "    <tr>\n",
       "      <th>70</th>\n",
       "      <td>71. El caballero oscuro: La leyenda renace</td>\n",
       "      <td>2012</td>\n",
       "      <td>2h 44m</td>\n",
       "      <td>12</td>\n",
       "      <td>8,4</td>\n",
       "      <td>1,8 M</td>\n",
       "      <td>Ocho años después del reinado de anarquía del ...</td>\n",
       "      <td>Christopher Nolan</td>\n",
       "      <td>Estrellas-Christian Bale-Tom Hardy-Anne Hathaway</td>\n",
       "      <td>1.813.165</td>\n",
       "    </tr>\n",
       "    <tr>\n",
       "      <th>71</th>\n",
       "      <td>72. ¿Teléfono rojo? Volamos hacia Moscú</td>\n",
       "      <td>1964</td>\n",
       "      <td>1h 35m</td>\n",
       "      <td>18</td>\n",
       "      <td>8,4</td>\n",
       "      <td>515 mil</td>\n",
       "      <td>Un general enajenado provoca un potencial holo...</td>\n",
       "      <td>Stanley Kubrick</td>\n",
       "      <td>Estrellas-Peter Sellers-George C. Scott-Sterli...</td>\n",
       "      <td>515.120</td>\n",
       "    </tr>\n",
       "    <tr>\n",
       "      <th>72</th>\n",
       "      <td>73. American Beauty</td>\n",
       "      <td>1999</td>\n",
       "      <td>2h 2m</td>\n",
       "      <td>18</td>\n",
       "      <td>8,3</td>\n",
       "      <td>1,2 M</td>\n",
       "      <td>Un padre de clase media sexualmente frustrado ...</td>\n",
       "      <td>Sam Mendes</td>\n",
       "      <td>Estrellas-Kevin Spacey-Annette Bening-Thora Birch</td>\n",
       "      <td>1.204.792</td>\n",
       "    </tr>\n",
       "    <tr>\n",
       "      <th>73</th>\n",
       "      <td>74. Old Boy</td>\n",
       "      <td>2003</td>\n",
       "      <td>2h</td>\n",
       "      <td>18</td>\n",
       "      <td>8,3</td>\n",
       "      <td>630 mil</td>\n",
       "      <td>Tras ser secuestrado y aprisionado durante 15 ...</td>\n",
       "      <td>Park Chan-wook</td>\n",
       "      <td>Estrellas-Choi Min-sik-Yoo Ji-tae-Kang Hye-jeong</td>\n",
       "      <td>629.858</td>\n",
       "    </tr>\n",
       "    <tr>\n",
       "      <th>74</th>\n",
       "      <td>75. Coco</td>\n",
       "      <td>2017</td>\n",
       "      <td>1h 45m</td>\n",
       "      <td>A</td>\n",
       "      <td>8,4</td>\n",
       "      <td>583 mil</td>\n",
       "      <td>El aspirante a músico Miguel le planta cara a ...</td>\n",
       "      <td>Lee Unkrich</td>\n",
       "      <td>Estrellas-Anthony Gonzalez-Gael García Bernal-...</td>\n",
       "      <td>582.532</td>\n",
       "    </tr>\n",
       "  </tbody>\n",
       "</table>\n",
       "</div>"
      ],
      "text/plain": [
       "                                        nombre   año duracion edad reco  \\\n",
       "70  71. El caballero oscuro: La leyenda renace  2012   2h 44m   12  8,4   \n",
       "71     72. ¿Teléfono rojo? Volamos hacia Moscú  1964   1h 35m   18  8,4   \n",
       "72                         73. American Beauty  1999    2h 2m   18  8,3   \n",
       "73                                 74. Old Boy  2003       2h   18  8,3   \n",
       "74                                    75. Coco  2017   1h 45m    A  8,4   \n",
       "\n",
       "   usuarios                                               desc  \\\n",
       "70    1,8 M  Ocho años después del reinado de anarquía del ...   \n",
       "71  515 mil  Un general enajenado provoca un potencial holo...   \n",
       "72    1,2 M  Un padre de clase media sexualmente frustrado ...   \n",
       "73  630 mil  Tras ser secuestrado y aprisionado durante 15 ...   \n",
       "74  583 mil  El aspirante a músico Miguel le planta cara a ...   \n",
       "\n",
       "             director                                          estrellas  \\\n",
       "70  Christopher Nolan   Estrellas-Christian Bale-Tom Hardy-Anne Hathaway   \n",
       "71    Stanley Kubrick  Estrellas-Peter Sellers-George C. Scott-Sterli...   \n",
       "72         Sam Mendes  Estrellas-Kevin Spacey-Annette Bening-Thora Birch   \n",
       "73     Park Chan-wook   Estrellas-Choi Min-sik-Yoo Ji-tae-Kang Hye-jeong   \n",
       "74        Lee Unkrich  Estrellas-Anthony Gonzalez-Gael García Bernal-...   \n",
       "\n",
       "        votos  \n",
       "70  1.813.165  \n",
       "71    515.120  \n",
       "72  1.204.792  \n",
       "73    629.858  \n",
       "74    582.532  "
      ]
     },
     "execution_count": 157,
     "metadata": {},
     "output_type": "execute_result"
    }
   ],
   "source": [
    "df.tail()"
   ]
  },
  {
   "cell_type": "code",
   "execution_count": 158,
   "metadata": {},
   "outputs": [],
   "source": [
    "driver.close()"
   ]
  },
  {
   "cell_type": "markdown",
   "metadata": {},
   "source": [
    "#### Book name,price and stock availability as a pandas dataframe."
   ]
  },
  {
   "cell_type": "code",
   "execution_count": 159,
   "metadata": {},
   "outputs": [],
   "source": [
    "# This is the url you will scrape in this exercise. \n",
    "# It is a fictional bookstore created to be scraped. \n",
    "url = 'http://books.toscrape.com/'"
   ]
  },
  {
   "cell_type": "code",
   "execution_count": 160,
   "metadata": {},
   "outputs": [],
   "source": [
    "driver = webdriver.Chrome()"
   ]
  },
  {
   "cell_type": "code",
   "execution_count": 161,
   "metadata": {},
   "outputs": [],
   "source": [
    "driver.get(url)"
   ]
  },
  {
   "cell_type": "code",
   "execution_count": 162,
   "metadata": {},
   "outputs": [
    {
     "data": {
      "text/plain": [
       "<selenium.webdriver.remote.webelement.WebElement (session=\"1189d45675730cc05f46a442796b5a65\", element=\"f.83A6527936B88D33A3A47277FC2A41DF.d.080E2E445FD4D72828B3F643A53DE906.e.48\")>"
      ]
     },
     "execution_count": 162,
     "metadata": {},
     "output_type": "execute_result"
    }
   ],
   "source": [
    "libros = driver.find_element(By.TAG_NAME, 'ol')\n",
    "libros"
   ]
  },
  {
   "cell_type": "code",
   "execution_count": 163,
   "metadata": {},
   "outputs": [],
   "source": [
    "libros = libros.find_elements(By.TAG_NAME, 'li')"
   ]
  },
  {
   "cell_type": "code",
   "execution_count": 164,
   "metadata": {},
   "outputs": [
    {
     "data": {
      "text/plain": [
       "'A Light in the Attic'"
      ]
     },
     "execution_count": 164,
     "metadata": {},
     "output_type": "execute_result"
    }
   ],
   "source": [
    "nombre = libros[0].find_element(By.TAG_NAME, 'h3').find_element(By.TAG_NAME, 'a').get_attribute('title')\n",
    "nombre"
   ]
  },
  {
   "cell_type": "code",
   "execution_count": 165,
   "metadata": {},
   "outputs": [
    {
     "data": {
      "text/plain": [
       "51.77"
      ]
     },
     "execution_count": 165,
     "metadata": {},
     "output_type": "execute_result"
    }
   ],
   "source": [
    "precio  = float(libros[0].find_elements(By.TAG_NAME, 'p')[1].text[1:])\n",
    "precio"
   ]
  },
  {
   "cell_type": "code",
   "execution_count": 166,
   "metadata": {},
   "outputs": [
    {
     "data": {
      "text/plain": [
       "'In stock'"
      ]
     },
     "execution_count": 166,
     "metadata": {},
     "output_type": "execute_result"
    }
   ],
   "source": [
    "stock = libros[0].find_elements(By.TAG_NAME, 'p')[2].text\n",
    "stock"
   ]
  },
  {
   "cell_type": "code",
   "execution_count": 167,
   "metadata": {},
   "outputs": [
    {
     "data": {
      "text/plain": [
       "'Three'"
      ]
     },
     "execution_count": 167,
     "metadata": {},
     "output_type": "execute_result"
    }
   ],
   "source": [
    "estrellas = libros[0].find_elements(By.TAG_NAME, 'p')[0].get_attribute('class').split()[-1]\n",
    "estrellas"
   ]
  },
  {
   "cell_type": "code",
   "execution_count": 168,
   "metadata": {},
   "outputs": [],
   "source": [
    "data = []\n",
    "\n",
    "for l in libros:\n",
    "    \n",
    "    dictio = {'nombre': l.find_element(By.TAG_NAME, 'h3').find_element(By.TAG_NAME, 'a').get_attribute('title'),\n",
    "              'precio': float(l.find_elements(By.TAG_NAME, 'p')[1].text[1:]),\n",
    "              'stock': l.find_elements(By.TAG_NAME, 'p')[2].text,\n",
    "              'estrellas': l.find_elements(By.TAG_NAME, 'p')[0].get_attribute('class').split()[-1]\n",
    "             }\n",
    "    \n",
    "    data.append(dictio)"
   ]
  },
  {
   "cell_type": "code",
   "execution_count": 169,
   "metadata": {},
   "outputs": [
    {
     "data": {
      "text/html": [
       "<div>\n",
       "<style scoped>\n",
       "    .dataframe tbody tr th:only-of-type {\n",
       "        vertical-align: middle;\n",
       "    }\n",
       "\n",
       "    .dataframe tbody tr th {\n",
       "        vertical-align: top;\n",
       "    }\n",
       "\n",
       "    .dataframe thead th {\n",
       "        text-align: right;\n",
       "    }\n",
       "</style>\n",
       "<table border=\"1\" class=\"dataframe\">\n",
       "  <thead>\n",
       "    <tr style=\"text-align: right;\">\n",
       "      <th></th>\n",
       "      <th>nombre</th>\n",
       "      <th>precio</th>\n",
       "      <th>stock</th>\n",
       "      <th>estrellas</th>\n",
       "    </tr>\n",
       "  </thead>\n",
       "  <tbody>\n",
       "    <tr>\n",
       "      <th>0</th>\n",
       "      <td>A Light in the Attic</td>\n",
       "      <td>51.77</td>\n",
       "      <td>In stock</td>\n",
       "      <td>Three</td>\n",
       "    </tr>\n",
       "    <tr>\n",
       "      <th>1</th>\n",
       "      <td>Tipping the Velvet</td>\n",
       "      <td>53.74</td>\n",
       "      <td>In stock</td>\n",
       "      <td>One</td>\n",
       "    </tr>\n",
       "    <tr>\n",
       "      <th>2</th>\n",
       "      <td>Soumission</td>\n",
       "      <td>50.10</td>\n",
       "      <td>In stock</td>\n",
       "      <td>One</td>\n",
       "    </tr>\n",
       "    <tr>\n",
       "      <th>3</th>\n",
       "      <td>Sharp Objects</td>\n",
       "      <td>47.82</td>\n",
       "      <td>In stock</td>\n",
       "      <td>Four</td>\n",
       "    </tr>\n",
       "    <tr>\n",
       "      <th>4</th>\n",
       "      <td>Sapiens: A Brief History of Humankind</td>\n",
       "      <td>54.23</td>\n",
       "      <td>In stock</td>\n",
       "      <td>Five</td>\n",
       "    </tr>\n",
       "    <tr>\n",
       "      <th>5</th>\n",
       "      <td>The Requiem Red</td>\n",
       "      <td>22.65</td>\n",
       "      <td>In stock</td>\n",
       "      <td>One</td>\n",
       "    </tr>\n",
       "    <tr>\n",
       "      <th>6</th>\n",
       "      <td>The Dirty Little Secrets of Getting Your Dream...</td>\n",
       "      <td>33.34</td>\n",
       "      <td>In stock</td>\n",
       "      <td>Four</td>\n",
       "    </tr>\n",
       "    <tr>\n",
       "      <th>7</th>\n",
       "      <td>The Coming Woman: A Novel Based on the Life of...</td>\n",
       "      <td>17.93</td>\n",
       "      <td>In stock</td>\n",
       "      <td>Three</td>\n",
       "    </tr>\n",
       "    <tr>\n",
       "      <th>8</th>\n",
       "      <td>The Boys in the Boat: Nine Americans and Their...</td>\n",
       "      <td>22.60</td>\n",
       "      <td>In stock</td>\n",
       "      <td>Four</td>\n",
       "    </tr>\n",
       "    <tr>\n",
       "      <th>9</th>\n",
       "      <td>The Black Maria</td>\n",
       "      <td>52.15</td>\n",
       "      <td>In stock</td>\n",
       "      <td>One</td>\n",
       "    </tr>\n",
       "    <tr>\n",
       "      <th>10</th>\n",
       "      <td>Starving Hearts (Triangular Trade Trilogy, #1)</td>\n",
       "      <td>13.99</td>\n",
       "      <td>In stock</td>\n",
       "      <td>Two</td>\n",
       "    </tr>\n",
       "    <tr>\n",
       "      <th>11</th>\n",
       "      <td>Shakespeare's Sonnets</td>\n",
       "      <td>20.66</td>\n",
       "      <td>In stock</td>\n",
       "      <td>Four</td>\n",
       "    </tr>\n",
       "    <tr>\n",
       "      <th>12</th>\n",
       "      <td>Set Me Free</td>\n",
       "      <td>17.46</td>\n",
       "      <td>In stock</td>\n",
       "      <td>Five</td>\n",
       "    </tr>\n",
       "    <tr>\n",
       "      <th>13</th>\n",
       "      <td>Scott Pilgrim's Precious Little Life (Scott Pi...</td>\n",
       "      <td>52.29</td>\n",
       "      <td>In stock</td>\n",
       "      <td>Five</td>\n",
       "    </tr>\n",
       "    <tr>\n",
       "      <th>14</th>\n",
       "      <td>Rip it Up and Start Again</td>\n",
       "      <td>35.02</td>\n",
       "      <td>In stock</td>\n",
       "      <td>Five</td>\n",
       "    </tr>\n",
       "    <tr>\n",
       "      <th>15</th>\n",
       "      <td>Our Band Could Be Your Life: Scenes from the A...</td>\n",
       "      <td>57.25</td>\n",
       "      <td>In stock</td>\n",
       "      <td>Three</td>\n",
       "    </tr>\n",
       "    <tr>\n",
       "      <th>16</th>\n",
       "      <td>Olio</td>\n",
       "      <td>23.88</td>\n",
       "      <td>In stock</td>\n",
       "      <td>One</td>\n",
       "    </tr>\n",
       "    <tr>\n",
       "      <th>17</th>\n",
       "      <td>Mesaerion: The Best Science Fiction Stories 18...</td>\n",
       "      <td>37.59</td>\n",
       "      <td>In stock</td>\n",
       "      <td>One</td>\n",
       "    </tr>\n",
       "    <tr>\n",
       "      <th>18</th>\n",
       "      <td>Libertarianism for Beginners</td>\n",
       "      <td>51.33</td>\n",
       "      <td>In stock</td>\n",
       "      <td>Two</td>\n",
       "    </tr>\n",
       "    <tr>\n",
       "      <th>19</th>\n",
       "      <td>It's Only the Himalayas</td>\n",
       "      <td>45.17</td>\n",
       "      <td>In stock</td>\n",
       "      <td>Two</td>\n",
       "    </tr>\n",
       "  </tbody>\n",
       "</table>\n",
       "</div>"
      ],
      "text/plain": [
       "                                               nombre  precio     stock  \\\n",
       "0                                A Light in the Attic   51.77  In stock   \n",
       "1                                  Tipping the Velvet   53.74  In stock   \n",
       "2                                          Soumission   50.10  In stock   \n",
       "3                                       Sharp Objects   47.82  In stock   \n",
       "4               Sapiens: A Brief History of Humankind   54.23  In stock   \n",
       "5                                     The Requiem Red   22.65  In stock   \n",
       "6   The Dirty Little Secrets of Getting Your Dream...   33.34  In stock   \n",
       "7   The Coming Woman: A Novel Based on the Life of...   17.93  In stock   \n",
       "8   The Boys in the Boat: Nine Americans and Their...   22.60  In stock   \n",
       "9                                     The Black Maria   52.15  In stock   \n",
       "10     Starving Hearts (Triangular Trade Trilogy, #1)   13.99  In stock   \n",
       "11                              Shakespeare's Sonnets   20.66  In stock   \n",
       "12                                        Set Me Free   17.46  In stock   \n",
       "13  Scott Pilgrim's Precious Little Life (Scott Pi...   52.29  In stock   \n",
       "14                          Rip it Up and Start Again   35.02  In stock   \n",
       "15  Our Band Could Be Your Life: Scenes from the A...   57.25  In stock   \n",
       "16                                               Olio   23.88  In stock   \n",
       "17  Mesaerion: The Best Science Fiction Stories 18...   37.59  In stock   \n",
       "18                       Libertarianism for Beginners   51.33  In stock   \n",
       "19                            It's Only the Himalayas   45.17  In stock   \n",
       "\n",
       "   estrellas  \n",
       "0      Three  \n",
       "1        One  \n",
       "2        One  \n",
       "3       Four  \n",
       "4       Five  \n",
       "5        One  \n",
       "6       Four  \n",
       "7      Three  \n",
       "8       Four  \n",
       "9        One  \n",
       "10       Two  \n",
       "11      Four  \n",
       "12      Five  \n",
       "13      Five  \n",
       "14      Five  \n",
       "15     Three  \n",
       "16       One  \n",
       "17       One  \n",
       "18       Two  \n",
       "19       Two  "
      ]
     },
     "execution_count": 169,
     "metadata": {},
     "output_type": "execute_result"
    }
   ],
   "source": [
    "df = pd.DataFrame(data)\n",
    "df"
   ]
  },
  {
   "cell_type": "code",
   "execution_count": 170,
   "metadata": {},
   "outputs": [
    {
     "data": {
      "text/plain": [
       "array(['Three', 'One', 'Four', 'Five', 'Two'], dtype=object)"
      ]
     },
     "execution_count": 170,
     "metadata": {},
     "output_type": "execute_result"
    }
   ],
   "source": [
    "df.estrellas.unique()"
   ]
  },
  {
   "cell_type": "code",
   "execution_count": 171,
   "metadata": {},
   "outputs": [],
   "source": [
    "dictio = {'Three': 3, 'One': 1, 'Four': 4, 'Five': 5, 'Two': 2}\n",
    "\n",
    "df.estrellas = df.estrellas.apply(lambda x: dictio[x])"
   ]
  },
  {
   "cell_type": "code",
   "execution_count": 172,
   "metadata": {},
   "outputs": [
    {
     "data": {
      "text/html": [
       "<div>\n",
       "<style scoped>\n",
       "    .dataframe tbody tr th:only-of-type {\n",
       "        vertical-align: middle;\n",
       "    }\n",
       "\n",
       "    .dataframe tbody tr th {\n",
       "        vertical-align: top;\n",
       "    }\n",
       "\n",
       "    .dataframe thead th {\n",
       "        text-align: right;\n",
       "    }\n",
       "</style>\n",
       "<table border=\"1\" class=\"dataframe\">\n",
       "  <thead>\n",
       "    <tr style=\"text-align: right;\">\n",
       "      <th></th>\n",
       "      <th>nombre</th>\n",
       "      <th>precio</th>\n",
       "      <th>stock</th>\n",
       "      <th>estrellas</th>\n",
       "    </tr>\n",
       "  </thead>\n",
       "  <tbody>\n",
       "    <tr>\n",
       "      <th>0</th>\n",
       "      <td>A Light in the Attic</td>\n",
       "      <td>51.77</td>\n",
       "      <td>In stock</td>\n",
       "      <td>3</td>\n",
       "    </tr>\n",
       "    <tr>\n",
       "      <th>1</th>\n",
       "      <td>Tipping the Velvet</td>\n",
       "      <td>53.74</td>\n",
       "      <td>In stock</td>\n",
       "      <td>1</td>\n",
       "    </tr>\n",
       "    <tr>\n",
       "      <th>2</th>\n",
       "      <td>Soumission</td>\n",
       "      <td>50.10</td>\n",
       "      <td>In stock</td>\n",
       "      <td>1</td>\n",
       "    </tr>\n",
       "    <tr>\n",
       "      <th>3</th>\n",
       "      <td>Sharp Objects</td>\n",
       "      <td>47.82</td>\n",
       "      <td>In stock</td>\n",
       "      <td>4</td>\n",
       "    </tr>\n",
       "    <tr>\n",
       "      <th>4</th>\n",
       "      <td>Sapiens: A Brief History of Humankind</td>\n",
       "      <td>54.23</td>\n",
       "      <td>In stock</td>\n",
       "      <td>5</td>\n",
       "    </tr>\n",
       "    <tr>\n",
       "      <th>5</th>\n",
       "      <td>The Requiem Red</td>\n",
       "      <td>22.65</td>\n",
       "      <td>In stock</td>\n",
       "      <td>1</td>\n",
       "    </tr>\n",
       "    <tr>\n",
       "      <th>6</th>\n",
       "      <td>The Dirty Little Secrets of Getting Your Dream...</td>\n",
       "      <td>33.34</td>\n",
       "      <td>In stock</td>\n",
       "      <td>4</td>\n",
       "    </tr>\n",
       "    <tr>\n",
       "      <th>7</th>\n",
       "      <td>The Coming Woman: A Novel Based on the Life of...</td>\n",
       "      <td>17.93</td>\n",
       "      <td>In stock</td>\n",
       "      <td>3</td>\n",
       "    </tr>\n",
       "    <tr>\n",
       "      <th>8</th>\n",
       "      <td>The Boys in the Boat: Nine Americans and Their...</td>\n",
       "      <td>22.60</td>\n",
       "      <td>In stock</td>\n",
       "      <td>4</td>\n",
       "    </tr>\n",
       "    <tr>\n",
       "      <th>9</th>\n",
       "      <td>The Black Maria</td>\n",
       "      <td>52.15</td>\n",
       "      <td>In stock</td>\n",
       "      <td>1</td>\n",
       "    </tr>\n",
       "    <tr>\n",
       "      <th>10</th>\n",
       "      <td>Starving Hearts (Triangular Trade Trilogy, #1)</td>\n",
       "      <td>13.99</td>\n",
       "      <td>In stock</td>\n",
       "      <td>2</td>\n",
       "    </tr>\n",
       "    <tr>\n",
       "      <th>11</th>\n",
       "      <td>Shakespeare's Sonnets</td>\n",
       "      <td>20.66</td>\n",
       "      <td>In stock</td>\n",
       "      <td>4</td>\n",
       "    </tr>\n",
       "    <tr>\n",
       "      <th>12</th>\n",
       "      <td>Set Me Free</td>\n",
       "      <td>17.46</td>\n",
       "      <td>In stock</td>\n",
       "      <td>5</td>\n",
       "    </tr>\n",
       "    <tr>\n",
       "      <th>13</th>\n",
       "      <td>Scott Pilgrim's Precious Little Life (Scott Pi...</td>\n",
       "      <td>52.29</td>\n",
       "      <td>In stock</td>\n",
       "      <td>5</td>\n",
       "    </tr>\n",
       "    <tr>\n",
       "      <th>14</th>\n",
       "      <td>Rip it Up and Start Again</td>\n",
       "      <td>35.02</td>\n",
       "      <td>In stock</td>\n",
       "      <td>5</td>\n",
       "    </tr>\n",
       "    <tr>\n",
       "      <th>15</th>\n",
       "      <td>Our Band Could Be Your Life: Scenes from the A...</td>\n",
       "      <td>57.25</td>\n",
       "      <td>In stock</td>\n",
       "      <td>3</td>\n",
       "    </tr>\n",
       "    <tr>\n",
       "      <th>16</th>\n",
       "      <td>Olio</td>\n",
       "      <td>23.88</td>\n",
       "      <td>In stock</td>\n",
       "      <td>1</td>\n",
       "    </tr>\n",
       "    <tr>\n",
       "      <th>17</th>\n",
       "      <td>Mesaerion: The Best Science Fiction Stories 18...</td>\n",
       "      <td>37.59</td>\n",
       "      <td>In stock</td>\n",
       "      <td>1</td>\n",
       "    </tr>\n",
       "    <tr>\n",
       "      <th>18</th>\n",
       "      <td>Libertarianism for Beginners</td>\n",
       "      <td>51.33</td>\n",
       "      <td>In stock</td>\n",
       "      <td>2</td>\n",
       "    </tr>\n",
       "    <tr>\n",
       "      <th>19</th>\n",
       "      <td>It's Only the Himalayas</td>\n",
       "      <td>45.17</td>\n",
       "      <td>In stock</td>\n",
       "      <td>2</td>\n",
       "    </tr>\n",
       "  </tbody>\n",
       "</table>\n",
       "</div>"
      ],
      "text/plain": [
       "                                               nombre  precio     stock  \\\n",
       "0                                A Light in the Attic   51.77  In stock   \n",
       "1                                  Tipping the Velvet   53.74  In stock   \n",
       "2                                          Soumission   50.10  In stock   \n",
       "3                                       Sharp Objects   47.82  In stock   \n",
       "4               Sapiens: A Brief History of Humankind   54.23  In stock   \n",
       "5                                     The Requiem Red   22.65  In stock   \n",
       "6   The Dirty Little Secrets of Getting Your Dream...   33.34  In stock   \n",
       "7   The Coming Woman: A Novel Based on the Life of...   17.93  In stock   \n",
       "8   The Boys in the Boat: Nine Americans and Their...   22.60  In stock   \n",
       "9                                     The Black Maria   52.15  In stock   \n",
       "10     Starving Hearts (Triangular Trade Trilogy, #1)   13.99  In stock   \n",
       "11                              Shakespeare's Sonnets   20.66  In stock   \n",
       "12                                        Set Me Free   17.46  In stock   \n",
       "13  Scott Pilgrim's Precious Little Life (Scott Pi...   52.29  In stock   \n",
       "14                          Rip it Up and Start Again   35.02  In stock   \n",
       "15  Our Band Could Be Your Life: Scenes from the A...   57.25  In stock   \n",
       "16                                               Olio   23.88  In stock   \n",
       "17  Mesaerion: The Best Science Fiction Stories 18...   37.59  In stock   \n",
       "18                       Libertarianism for Beginners   51.33  In stock   \n",
       "19                            It's Only the Himalayas   45.17  In stock   \n",
       "\n",
       "    estrellas  \n",
       "0           3  \n",
       "1           1  \n",
       "2           1  \n",
       "3           4  \n",
       "4           5  \n",
       "5           1  \n",
       "6           4  \n",
       "7           3  \n",
       "8           4  \n",
       "9           1  \n",
       "10          2  \n",
       "11          4  \n",
       "12          5  \n",
       "13          5  \n",
       "14          5  \n",
       "15          3  \n",
       "16          1  \n",
       "17          1  \n",
       "18          2  \n",
       "19          2  "
      ]
     },
     "execution_count": 172,
     "metadata": {},
     "output_type": "execute_result"
    }
   ],
   "source": [
    "df"
   ]
  },
  {
   "cell_type": "code",
   "execution_count": 173,
   "metadata": {},
   "outputs": [
    {
     "data": {
      "text/html": [
       "<div>\n",
       "<style scoped>\n",
       "    .dataframe tbody tr th:only-of-type {\n",
       "        vertical-align: middle;\n",
       "    }\n",
       "\n",
       "    .dataframe tbody tr th {\n",
       "        vertical-align: top;\n",
       "    }\n",
       "\n",
       "    .dataframe thead th {\n",
       "        text-align: right;\n",
       "    }\n",
       "</style>\n",
       "<table border=\"1\" class=\"dataframe\">\n",
       "  <thead>\n",
       "    <tr style=\"text-align: right;\">\n",
       "      <th></th>\n",
       "      <th>nombre</th>\n",
       "      <th>precio</th>\n",
       "      <th>stock</th>\n",
       "      <th>estrellas</th>\n",
       "    </tr>\n",
       "  </thead>\n",
       "  <tbody>\n",
       "    <tr>\n",
       "      <th>0</th>\n",
       "      <td>A Light in the Attic</td>\n",
       "      <td>51.77</td>\n",
       "      <td>In stock</td>\n",
       "      <td>3</td>\n",
       "    </tr>\n",
       "    <tr>\n",
       "      <th>1</th>\n",
       "      <td>Tipping the Velvet</td>\n",
       "      <td>53.74</td>\n",
       "      <td>In stock</td>\n",
       "      <td>1</td>\n",
       "    </tr>\n",
       "    <tr>\n",
       "      <th>2</th>\n",
       "      <td>Soumission</td>\n",
       "      <td>50.10</td>\n",
       "      <td>In stock</td>\n",
       "      <td>1</td>\n",
       "    </tr>\n",
       "    <tr>\n",
       "      <th>3</th>\n",
       "      <td>Sharp Objects</td>\n",
       "      <td>47.82</td>\n",
       "      <td>In stock</td>\n",
       "      <td>4</td>\n",
       "    </tr>\n",
       "    <tr>\n",
       "      <th>4</th>\n",
       "      <td>Sapiens: A Brief History of Humankind</td>\n",
       "      <td>54.23</td>\n",
       "      <td>In stock</td>\n",
       "      <td>5</td>\n",
       "    </tr>\n",
       "    <tr>\n",
       "      <th>...</th>\n",
       "      <td>...</td>\n",
       "      <td>...</td>\n",
       "      <td>...</td>\n",
       "      <td>...</td>\n",
       "    </tr>\n",
       "    <tr>\n",
       "      <th>975</th>\n",
       "      <td>Icing (Aces Hockey #2)</td>\n",
       "      <td>40.44</td>\n",
       "      <td>In stock</td>\n",
       "      <td>4</td>\n",
       "    </tr>\n",
       "    <tr>\n",
       "      <th>976</th>\n",
       "      <td>Hawkeye, Vol. 1: My Life as a Weapon (Hawkeye #1)</td>\n",
       "      <td>45.24</td>\n",
       "      <td>In stock</td>\n",
       "      <td>3</td>\n",
       "    </tr>\n",
       "    <tr>\n",
       "      <th>977</th>\n",
       "      <td>Having the Barbarian's Baby (Ice Planet Barbar...</td>\n",
       "      <td>34.96</td>\n",
       "      <td>In stock</td>\n",
       "      <td>4</td>\n",
       "    </tr>\n",
       "    <tr>\n",
       "      <th>978</th>\n",
       "      <td>Giant Days, Vol. 1 (Giant Days #1-4)</td>\n",
       "      <td>56.76</td>\n",
       "      <td>In stock</td>\n",
       "      <td>4</td>\n",
       "    </tr>\n",
       "    <tr>\n",
       "      <th>979</th>\n",
       "      <td>Fruits Basket, Vol. 1 (Fruits Basket #1)</td>\n",
       "      <td>40.28</td>\n",
       "      <td>In stock</td>\n",
       "      <td>5</td>\n",
       "    </tr>\n",
       "  </tbody>\n",
       "</table>\n",
       "<p>980 rows × 4 columns</p>\n",
       "</div>"
      ],
      "text/plain": [
       "                                                nombre  precio     stock  \\\n",
       "0                                 A Light in the Attic   51.77  In stock   \n",
       "1                                   Tipping the Velvet   53.74  In stock   \n",
       "2                                           Soumission   50.10  In stock   \n",
       "3                                        Sharp Objects   47.82  In stock   \n",
       "4                Sapiens: A Brief History of Humankind   54.23  In stock   \n",
       "..                                                 ...     ...       ...   \n",
       "975                             Icing (Aces Hockey #2)   40.44  In stock   \n",
       "976  Hawkeye, Vol. 1: My Life as a Weapon (Hawkeye #1)   45.24  In stock   \n",
       "977  Having the Barbarian's Baby (Ice Planet Barbar...   34.96  In stock   \n",
       "978               Giant Days, Vol. 1 (Giant Days #1-4)   56.76  In stock   \n",
       "979           Fruits Basket, Vol. 1 (Fruits Basket #1)   40.28  In stock   \n",
       "\n",
       "     estrellas  \n",
       "0            3  \n",
       "1            1  \n",
       "2            1  \n",
       "3            4  \n",
       "4            5  \n",
       "..         ...  \n",
       "975          4  \n",
       "976          3  \n",
       "977          4  \n",
       "978          4  \n",
       "979          5  \n",
       "\n",
       "[980 rows x 4 columns]"
      ]
     },
     "execution_count": 173,
     "metadata": {},
     "output_type": "execute_result"
    }
   ],
   "source": [
    "# todas las paginas\n",
    "\n",
    "data = []\n",
    "\n",
    "for i in range(49):\n",
    "    \n",
    "    libros = driver.find_element(By.TAG_NAME, 'ol').find_elements(By.TAG_NAME, 'li')\n",
    "    \n",
    "    for l in libros:\n",
    "\n",
    "        dictio = {'nombre': l.find_element(By.TAG_NAME, 'h3').find_element(By.TAG_NAME, 'a').get_attribute('title'),\n",
    "                  'precio': float(l.find_elements(By.TAG_NAME, 'p')[1].text[1:]),\n",
    "                  'stock': l.find_elements(By.TAG_NAME, 'p')[2].text,\n",
    "                  'estrellas': l.find_elements(By.TAG_NAME, 'p')[0].get_attribute('class').split()[-1]\n",
    "\n",
    "                 }\n",
    "\n",
    "        data.append(dictio)\n",
    "        \n",
    "    \n",
    "    if i!=49:  # aqui salio el error, pero el dato esta\n",
    "        boton = driver.find_element(By.CSS_SELECTOR, '#default > div > div > div > div > section > div:nth-child(2) > div > ul > li.next > a')\n",
    "\n",
    "        boton.click()\n",
    "    \n",
    "        time.sleep(1)\n",
    "    \n",
    "    \n",
    "    \n",
    "df = pd.DataFrame(data)\n",
    "\n",
    "dictio = {'Three': 3, 'One': 1, 'Four': 4, 'Five': 5, 'Two': 2}\n",
    "\n",
    "df.estrellas = df.estrellas.apply(lambda x: dictio[x]) \n",
    "\n",
    "\n",
    "df"
   ]
  }
 ],
 "metadata": {
  "kernelspec": {
   "display_name": "Python 3 (ipykernel)",
   "language": "python",
   "name": "python3"
  },
  "language_info": {
   "codemirror_mode": {
    "name": "ipython",
    "version": 3
   },
   "file_extension": ".py",
   "mimetype": "text/x-python",
   "name": "python",
   "nbconvert_exporter": "python",
   "pygments_lexer": "ipython3",
   "version": "3.11.5"
  }
 },
 "nbformat": 4,
 "nbformat_minor": 2
}
